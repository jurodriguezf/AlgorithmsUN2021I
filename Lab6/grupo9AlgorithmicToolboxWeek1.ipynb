{
  "cells": [
    {
      "cell_type": "markdown",
      "source": "# I Solving the Sum of Two Digits Programming Challenge",
      "metadata": {
        "id": "N1ok_-56OjB1",
        "cell_id": "00000-6ab30712-3432-462b-8e0e-4c1072740b27",
        "deepnote_cell_type": "markdown"
      }
    },
    {
      "cell_type": "markdown",
      "source": "## C++",
      "metadata": {
        "id": "MMY7kmDSO0KM",
        "cell_id": "00001-6d90503b-896b-4c09-b043-1d63ba483763",
        "deepnote_cell_type": "markdown"
      }
    },
    {
      "cell_type": "code",
      "metadata": {
        "colab": {
          "base_uri": "https://localhost:8080/"
        },
        "id": "2pGGf9BkPNIk",
        "outputId": "8a3759b9-3d79-4473-ce1f-b6d815d6de1b",
        "cell_id": "00002-85b9eec2-cb56-44b8-b295-7015d2f69f16",
        "deepnote_to_be_reexecuted": false,
        "source_hash": "95290c32",
        "execution_millis": 7,
        "execution_start": 1617985369589,
        "deepnote_cell_type": "code"
      },
      "source": "%%writefile sum.cpp\n#include <iostream>\n\nint sum_of_two_digits(int first_digit, int second_digit) {\n    return first_digit + second_digit;\n}\n\nint main() {\n    int a = 0;\n    int b = 0;\n    std::cin >> a;\n    std::cin >> b;\n    std::cout << sum_of_two_digits(a, b);\n    return 0;\n}",
      "execution_count": 1,
      "outputs": [
        {
          "name": "stdout",
          "text": "Overwriting sum.cpp\n",
          "output_type": "stream"
        }
      ]
    },
    {
      "cell_type": "code",
      "metadata": {
        "colab": {
          "base_uri": "https://localhost:8080/"
        },
        "id": "0G3ZKOYAPXSU",
        "outputId": "271ca233-f90a-43bc-d849-c3b175688461",
        "cell_id": "00003-1cdedd49-a7ba-4f98-8393-ca6327b44680",
        "deepnote_to_be_reexecuted": false,
        "source_hash": "254dc972",
        "execution_millis": 2006,
        "execution_start": 1617985369591,
        "deepnote_cell_type": "code"
      },
      "source": "!g++ sum.cpp -o sum\n!./sum < input2.txt",
      "execution_count": 2,
      "outputs": [
        {
          "name": "stdout",
          "text": "6",
          "output_type": "stream"
        }
      ]
    },
    {
      "cell_type": "markdown",
      "source": "### Test input output files",
      "metadata": {
        "id": "iNkG2HqfTl9c",
        "cell_id": "00004-c7127bc4-c952-423a-87f9-133599ce1b22",
        "deepnote_cell_type": "markdown"
      }
    },
    {
      "cell_type": "code",
      "metadata": {
        "colab": {
          "base_uri": "https://localhost:8080/"
        },
        "id": "aTzU2efzMxly",
        "outputId": "b3ee57f0-3ebe-4618-b36a-cba2dbb3a358",
        "cell_id": "00005-965716cc-b768-4e7f-9d88-013bd6e2689e",
        "deepnote_to_be_reexecuted": false,
        "source_hash": "fadeebb9",
        "execution_millis": 139,
        "execution_start": 1617985371458,
        "deepnote_cell_type": "code"
      },
      "source": "%%writefile input1.txt\n4 8",
      "execution_count": 3,
      "outputs": [
        {
          "name": "stdout",
          "text": "Overwriting input1.txt\n",
          "output_type": "stream"
        }
      ]
    },
    {
      "cell_type": "code",
      "metadata": {
        "colab": {
          "base_uri": "https://localhost:8080/"
        },
        "id": "zBJ0Gc0NQRet",
        "outputId": "eb8c08e1-c84d-45bf-d75f-5fa6dc9db8ad",
        "cell_id": "00007-ae034c1f-a2ff-441d-9dbb-3cd201e5a144",
        "deepnote_to_be_reexecuted": false,
        "source_hash": "cfab1a8b",
        "execution_millis": 0,
        "execution_start": 1617985371459,
        "deepnote_cell_type": "code"
      },
      "source": "%%writefile output1.txt\n12",
      "execution_count": 4,
      "outputs": [
        {
          "name": "stdout",
          "text": "Overwriting output1.txt\n",
          "output_type": "stream"
        }
      ]
    },
    {
      "cell_type": "code",
      "metadata": {
        "colab": {
          "base_uri": "https://localhost:8080/"
        },
        "id": "IjEcIx63PJAN",
        "outputId": "d12de767-3ab3-48be-d9e9-0b42144080aa",
        "cell_id": "00008-289ee00c-f103-4e05-97af-98b61772561e",
        "deepnote_to_be_reexecuted": false,
        "source_hash": "5510be02",
        "execution_millis": 87,
        "execution_start": 1617985371461,
        "deepnote_cell_type": "code"
      },
      "source": "%%writefile input2.txt\n-5 9",
      "execution_count": 5,
      "outputs": []
    },
    {
      "cell_type": "code",
      "metadata": {
        "colab": {
          "base_uri": "https://localhost:8080/"
        },
        "id": "Up9gOrxURTmd",
        "outputId": "8b1ffc9a-b9d2-4b03-9e0e-a25ae27a64b3",
        "cell_id": "00009-0431fe26-3bc4-4d1a-9df7-e67d71d8d030",
        "deepnote_to_be_reexecuted": false,
        "source_hash": "7412da69",
        "execution_millis": 86,
        "execution_start": 1617985371512,
        "deepnote_cell_type": "code"
      },
      "source": "%%writefile output2.txt\n4",
      "execution_count": 6,
      "outputs": [
        {
          "name": "stdout",
          "text": "Overwriting output2.txt\n",
          "output_type": "stream"
        }
      ]
    },
    {
      "cell_type": "code",
      "metadata": {
        "colab": {
          "base_uri": "https://localhost:8080/"
        },
        "id": "PST6G-s-Pwgc",
        "outputId": "069de8c1-7dbb-4c2b-bfc5-f1c7550d5c4f",
        "cell_id": "00010-15df3ec1-ed07-4c1a-aa0b-741a9df4cd90",
        "deepnote_to_be_reexecuted": false,
        "source_hash": "ccc410e6",
        "execution_millis": 661,
        "execution_start": 1617985371514,
        "deepnote_cell_type": "code"
      },
      "source": "!./sum < input1.txt",
      "execution_count": 7,
      "outputs": [
        {
          "name": "stdout",
          "text": "12",
          "output_type": "stream"
        }
      ]
    },
    {
      "cell_type": "code",
      "metadata": {
        "colab": {
          "base_uri": "https://localhost:8080/"
        },
        "id": "cKxZOjSlRfIN",
        "outputId": "d5946364-d492-4049-8bb5-5fedd2c3a253",
        "cell_id": "00011-1de42ff2-5567-4672-94e6-9eb9d508d819",
        "deepnote_to_be_reexecuted": false,
        "source_hash": "502da1a9",
        "execution_millis": 732,
        "execution_start": 1617985372178,
        "deepnote_cell_type": "code"
      },
      "source": "!./sum < input2.txt",
      "execution_count": 8,
      "outputs": [
        {
          "name": "stdout",
          "text": "4",
          "output_type": "stream"
        }
      ]
    },
    {
      "cell_type": "markdown",
      "source": "### Comparing files with grep\n\nhttps://askubuntu.com/questions/546796/comparing-two-text-files",
      "metadata": {
        "id": "Qw2TQWCCUwqk",
        "cell_id": "00013-9638c1fb-982d-466a-b860-13e9f672bec6",
        "deepnote_cell_type": "markdown"
      }
    },
    {
      "cell_type": "code",
      "metadata": {
        "id": "WVIaAmMKU4QM",
        "cell_id": "00014-65ee4146-ab48-46e8-9f1e-006c9ce33107",
        "deepnote_to_be_reexecuted": false,
        "source_hash": "474ebaf4",
        "execution_millis": 734,
        "execution_start": 1617985372937,
        "deepnote_cell_type": "code"
      },
      "source": "!grep -xvFf output1.txt output1.txt ",
      "execution_count": 9,
      "outputs": []
    },
    {
      "cell_type": "code",
      "metadata": {
        "colab": {
          "base_uri": "https://localhost:8080/"
        },
        "id": "MQU8gPPjQuYO",
        "outputId": "c700e9c9-2d36-4d64-faac-f7cefe711e08",
        "cell_id": "00015-157b716d-3a1c-4cc7-b41f-18ba89299d11",
        "deepnote_to_be_reexecuted": false,
        "source_hash": "4291cbd4",
        "execution_millis": 769,
        "execution_start": 1617985373672,
        "deepnote_cell_type": "code"
      },
      "source": "!grep -xvFf output1.txt output2.txt ",
      "execution_count": 10,
      "outputs": [
        {
          "name": "stdout",
          "text": "4\r\n",
          "output_type": "stream"
        }
      ]
    },
    {
      "cell_type": "code",
      "metadata": {
        "colab": {
          "base_uri": "https://localhost:8080/"
        },
        "id": "jYL9OuYBTD_l",
        "outputId": "03cba134-2ad3-4251-a72c-a8a5ab76aad3",
        "cell_id": "00016-f2a319f2-dcb6-4414-af78-7e2d8bf07815",
        "deepnote_to_be_reexecuted": false,
        "source_hash": "e71a28de",
        "execution_millis": 611,
        "execution_start": 1617998692501,
        "deepnote_cell_type": "code"
      },
      "source": "!grep -xvFf output2.txt output1.txt ",
      "execution_count": 184,
      "outputs": [
        {
          "name": "stdout",
          "text": "12\r\n",
          "output_type": "stream"
        }
      ]
    },
    {
      "cell_type": "code",
      "metadata": {
        "id": "Jlja0Xm4TX9M",
        "cell_id": "00017-d6beeecc-b093-44f9-952d-a2cb6ec5a674",
        "deepnote_to_be_reexecuted": false,
        "source_hash": "97465882",
        "execution_millis": 1271,
        "execution_start": 1617998695468,
        "deepnote_cell_type": "code"
      },
      "source": "!./sum < input1.txt> ctest1.txt\n!grep -xvFf output1.txt ctest1.txt",
      "execution_count": 185,
      "outputs": [
        {
          "name": "stdout",
          "text": "11\r\n",
          "output_type": "stream"
        }
      ]
    },
    {
      "cell_type": "code",
      "metadata": {
        "id": "g9OIUZA_QLCQ",
        "cell_id": "00018-5b8f9030-69a6-47ac-877d-e1440528157c",
        "deepnote_to_be_reexecuted": false,
        "source_hash": "f6e9fb58",
        "execution_millis": 1280,
        "execution_start": 1617998698954,
        "deepnote_cell_type": "code"
      },
      "source": "!./sum < input2.txt > ctest2.txt\n!grep -xvFf output2.txt ctest2.txt",
      "execution_count": 186,
      "outputs": [
        {
          "name": "stdout",
          "text": "7\r\n",
          "output_type": "stream"
        }
      ]
    },
    {
      "cell_type": "markdown",
      "source": "## Python",
      "metadata": {
        "id": "3BgOaDjUVJk6",
        "cell_id": "00019-00a88733-f768-4a8f-9b2c-b2141d7f5fb3",
        "deepnote_cell_type": "markdown"
      }
    },
    {
      "cell_type": "code",
      "metadata": {
        "colab": {
          "base_uri": "https://localhost:8080/"
        },
        "id": "DBvl-T0CTN_8",
        "outputId": "4965153b-ad00-481e-a0be-007c4ec4a079",
        "cell_id": "00020-e71681a7-a1a2-46f9-8167-4df49e715176",
        "deepnote_to_be_reexecuted": false,
        "source_hash": "1cff20cb",
        "execution_millis": 9,
        "execution_start": 1617998703769,
        "deepnote_cell_type": "code"
      },
      "source": "%%writefile sum.py\n# python3\n\n\ndef sum_of_two_digits(first_digit, second_digit):\n    return first_digit + second_digit\n\nif __name__ == '__main__':\n    a, b = map(int, input().split())\n    print(sum_of_two_digits(a, b))",
      "execution_count": 187,
      "outputs": [
        {
          "name": "stdout",
          "text": "Overwriting sum.py\n",
          "output_type": "stream"
        }
      ]
    },
    {
      "cell_type": "code",
      "metadata": {
        "colab": {
          "base_uri": "https://localhost:8080/"
        },
        "id": "QKoKM11_WGyF",
        "outputId": "684fb7e7-eb60-46ae-8394-cb8dbb98b3fb",
        "cell_id": "00021-f3fd9a8c-7718-4665-9d2b-02302aa22775",
        "deepnote_to_be_reexecuted": false,
        "source_hash": "3325df10",
        "execution_millis": 673,
        "output_cleared": false,
        "execution_start": 1617998706296,
        "deepnote_cell_type": "code"
      },
      "source": "!python sum.py <input2.txt",
      "execution_count": 188,
      "outputs": [
        {
          "name": "stdout",
          "text": "Traceback (most recent call last):\r\n  File \"sum.py\", line 8, in <module>\r\n    a, b = map(int, input().split())\r\nValueError: not enough values to unpack (expected 2, got 1)\r\n",
          "output_type": "stream"
        }
      ]
    },
    {
      "cell_type": "code",
      "metadata": {
        "id": "cocFbPRTWrqt",
        "cell_id": "00022-1bf7c8c6-c7f0-4271-bf43-712c92d74a40",
        "deepnote_to_be_reexecuted": false,
        "source_hash": "286aa15b",
        "execution_millis": 1279,
        "execution_start": 1617998708945,
        "deepnote_cell_type": "code"
      },
      "source": "!python sum.py  < input1.txt> ptest1.txt\n!grep -xvFf output1.txt ptest1.txt",
      "execution_count": 189,
      "outputs": [
        {
          "name": "stdout",
          "text": "Traceback (most recent call last):\r\n  File \"sum.py\", line 8, in <module>\r\n    a, b = map(int, input().split())\r\nValueError: not enough values to unpack (expected 2, got 1)\r\n",
          "output_type": "stream"
        }
      ]
    },
    {
      "cell_type": "code",
      "metadata": {
        "id": "MorKTa-XXASN",
        "cell_id": "00023-e20d2972-b0f1-498b-adfc-e444b5825a2c",
        "deepnote_to_be_reexecuted": false,
        "source_hash": "1326fddd",
        "execution_millis": 1328,
        "execution_start": 1617998712537,
        "deepnote_cell_type": "code"
      },
      "source": "!python sum.py  < input2.txt> ptest2.txt\n!grep -xvFf output2.txt ptest2.txt",
      "execution_count": 190,
      "outputs": [
        {
          "name": "stdout",
          "text": "Traceback (most recent call last):\r\n  File \"sum.py\", line 8, in <module>\r\n    a, b = map(int, input().split())\r\nValueError: not enough values to unpack (expected 2, got 1)\r\n",
          "output_type": "stream"
        }
      ]
    },
    {
      "cell_type": "markdown",
      "source": "# II Solving The Maximum Pairwise Product Programming Challenge in C++",
      "metadata": {
        "id": "uvP-mOubW_5F",
        "cell_id": "00024-a52e11c8-1acf-4f98-a8db-d60d3fd83910",
        "deepnote_cell_type": "markdown"
      }
    },
    {
      "cell_type": "markdown",
      "source": "## C++",
      "metadata": {
        "id": "C12yoFR6Xonl",
        "cell_id": "00025-8e4beda1-da84-4247-989c-4f5068cdb8e6",
        "deepnote_cell_type": "markdown"
      }
    },
    {
      "cell_type": "markdown",
      "source": "### 200.000 number generation (C)",
      "metadata": {
        "tags": [],
        "cell_id": "00025-b9b41bc6-2583-45f8-b16d-439b8f1e99f1",
        "deepnote_cell_type": "markdown"
      }
    },
    {
      "cell_type": "code",
      "metadata": {
        "tags": [],
        "cell_id": "00025-bf39bbf6-a4f9-45ee-a8a1-590f31d0193d",
        "deepnote_to_be_reexecuted": false,
        "source_hash": "aef1380d",
        "execution_start": 1617998717123,
        "execution_millis": 946,
        "deepnote_cell_type": "code"
      },
      "source": "# Number generation\nimport random\nline= str(200000)+\"\\n\"\n\nrandfile = open(\"testfileC.txt\", \"w\" )\nrandfile.write(line)\nfor i in range(200000):\n    line = str(random.randint(1, 200000)) + \" \"\n    randfile.write(line)\n\nrandfile.close()\nprint('Data written to testfileC.txt')",
      "execution_count": 191,
      "outputs": [
        {
          "name": "stdout",
          "text": "Data written to testfileC.txt\n",
          "output_type": "stream"
        }
      ]
    },
    {
      "cell_type": "markdown",
      "source": "### Wrong solution (integer overflow)",
      "metadata": {
        "tags": [],
        "cell_id": "00025-46f208ab-ab88-4f89-a9ad-75fe8cecd9cd",
        "deepnote_cell_type": "markdown"
      }
    },
    {
      "cell_type": "code",
      "metadata": {
        "colab": {
          "base_uri": "https://localhost:8080/"
        },
        "id": "YL4qJX3tXxdd",
        "outputId": "8eaa34d4-52e7-4661-e22e-98055fc719e5",
        "cell_id": "00026-a7a14e87-f191-43c8-9864-6a0daa4017ce",
        "deepnote_to_be_reexecuted": false,
        "source_hash": "15d198ce",
        "execution_millis": 6,
        "execution_start": 1617998722914,
        "deepnote_cell_type": "code"
      },
      "source": "%%writefile max_pairwise_product1.cpp\n#include <iostream>\n#include <vector>\n#include <algorithm>\n\nint MaxPairwiseProduct(const std::vector<int>& numbers) {\n    int max_product = 0;\n    int n = numbers.size();\n\n    for (int first = 0; first < n; ++first) {\n        for (int second = first + 1; second < n; ++second) {\n            max_product = std::max(max_product,\n                numbers[first] * numbers[second]);\n        }\n    }\n\n    return max_product;\n}\n\nint main() {\n    int n;\n    std::cin >> n;\n    std::vector<int> numbers(n);\n    for (int i = 0; i < n; ++i) {\n        std::cin >> numbers[i];\n    }\n\n    std::cout << MaxPairwiseProduct(numbers) << \"\\n\";\n    return 0;\n}\n",
      "execution_count": 192,
      "outputs": [
        {
          "name": "stdout",
          "text": "Overwriting max_pairwise_product1.cpp\n",
          "output_type": "stream"
        }
      ]
    },
    {
      "cell_type": "code",
      "metadata": {
        "colab": {
          "base_uri": "https://localhost:8080/"
        },
        "id": "KGxaEjvWX__O",
        "outputId": "05843964-7c68-4b8f-84c9-07d54b39b703",
        "cell_id": "00027-8851e1be-6003-43c9-9716-0d06078cf0fe",
        "deepnote_to_be_reexecuted": false,
        "source_hash": "a0d18cf2",
        "execution_millis": 1650,
        "output_cleared": false,
        "execution_start": 1617998729335,
        "deepnote_cell_type": "code"
      },
      "source": "%%time\n!g++ max_pairwise_product1.cpp -o max_pairwise_product1\n!./max_pairwise_product1 <input1.txt",
      "execution_count": 193,
      "outputs": [
        {
          "name": "stdout",
          "text": "90\nCPU times: user 16.2 ms, sys: 9.04 ms, total: 25.3 ms\nWall time: 1.64 s\n",
          "output_type": "stream"
        }
      ]
    },
    {
      "cell_type": "markdown",
      "source": "\n### Test1: Small numbers",
      "metadata": {
        "tags": [],
        "cell_id": "00029-2a2ac92d-0a90-4b1b-a6ab-01e97aa7b244",
        "deepnote_cell_type": "markdown"
      }
    },
    {
      "cell_type": "code",
      "source": "%%writefile input1.txt\n10\n1 2 3 4 5 6 7 8 9 10",
      "metadata": {
        "tags": [],
        "cell_id": "00030-3ed5ad55-d561-40da-8e79-f63acfae05b7",
        "deepnote_to_be_reexecuted": false,
        "source_hash": "c03030ca",
        "execution_millis": 12,
        "execution_start": 1617987116254,
        "deepnote_cell_type": "code"
      },
      "outputs": [
        {
          "name": "stdout",
          "text": "Overwriting input1.txt\n",
          "output_type": "stream"
        }
      ],
      "execution_count": 68
    },
    {
      "cell_type": "code",
      "source": "!./max_pairwise_product1 <input1.txt",
      "metadata": {
        "tags": [],
        "cell_id": "00029-b6294ad5-7e73-491e-8e4c-aeadb3db5a1d",
        "deepnote_to_be_reexecuted": false,
        "source_hash": "ae97fa83",
        "execution_millis": 654,
        "execution_start": 1617998735075,
        "deepnote_cell_type": "code"
      },
      "outputs": [
        {
          "name": "stdout",
          "text": "90\r\n",
          "output_type": "stream"
        }
      ],
      "execution_count": 194
    },
    {
      "cell_type": "markdown",
      "source": "### Test 2: Largest input numbers 200000 200000 in the input",
      "metadata": {
        "tags": [],
        "cell_id": "00031-85ac56e9-858d-42d6-95a4-d2af222e4695",
        "deepnote_cell_type": "markdown"
      }
    },
    {
      "cell_type": "code",
      "source": "%%writefile input2.txt\n5\n1 3 200000 9 200000 23",
      "metadata": {
        "tags": [],
        "cell_id": "00031-b5de4bc5-6b07-4b63-8285-7329232321a8",
        "deepnote_to_be_reexecuted": false,
        "source_hash": "6d35a6a7",
        "execution_millis": 13,
        "execution_start": 1617987118315,
        "deepnote_cell_type": "code"
      },
      "outputs": [
        {
          "name": "stdout",
          "text": "Overwriting input2.txt\n",
          "output_type": "stream"
        }
      ],
      "execution_count": 69
    },
    {
      "cell_type": "code",
      "source": "!./max_pairwise_product1 <input2.txt",
      "metadata": {
        "tags": [],
        "cell_id": "00034-a04fbfaa-4f21-423c-afe4-1c0f988a48d5",
        "deepnote_to_be_reexecuted": false,
        "source_hash": "92c3ab3c",
        "execution_millis": 635,
        "execution_start": 1617998738837,
        "deepnote_cell_type": "code"
      },
      "outputs": [
        {
          "name": "stdout",
          "text": "1345294336\r\n",
          "output_type": "stream"
        }
      ],
      "execution_count": 195
    },
    {
      "cell_type": "markdown",
      "source": "Changing the variables to long long",
      "metadata": {
        "tags": [],
        "cell_id": "00039-d3b667cd-840c-495e-ad05-05ee24d6eb3f",
        "deepnote_cell_type": "markdown"
      }
    },
    {
      "cell_type": "code",
      "source": "%%writefile max_pairwise_product2.cpp\n\n#include <iostream>\n#include <vector>\n#include <algorithm>\n\nlong long MaxPairwiseProduct(const std::vector<int>& numbers) {\n    long long max_product = 0LL;\n\tlong long aux_product = 0LL;\n    int n = numbers.size();\n\n    for (int first = 0; first < n; ++first) {\n        for (int second = first + 1; second < n; ++second) {\n\t\t\t       aux_product =  (long long) numbers[first] * numbers[second];\n            if ( max_product < aux_product)  {\n\t\t\t\t        max_product = aux_product;\n             }\n        }\n    }\n\n    return max_product;\n}\n\nint main() {\n    int n;\n    std::cin >> n;\n    std::vector<int> numbers(n);\n    for (int i = 0; i < n; ++i) {\n        std::cin >> numbers[i];\n    }\n\n    std::cout << MaxPairwiseProduct(numbers) << \"\\n\";\n    return 0;\n}",
      "metadata": {
        "tags": [],
        "cell_id": "00040-8b49a7fa-fd59-4453-b558-f3a7d68598ff",
        "deepnote_to_be_reexecuted": false,
        "source_hash": "303b8924",
        "execution_millis": 33,
        "execution_start": 1617998745554,
        "deepnote_cell_type": "code"
      },
      "outputs": [
        {
          "name": "stdout",
          "text": "Overwriting max_pairwise_product2.cpp\n",
          "output_type": "stream"
        }
      ],
      "execution_count": 196
    },
    {
      "cell_type": "code",
      "metadata": {
        "colab": {
          "base_uri": "https://localhost:8080/"
        },
        "id": "I5pCeOG1Zm7s",
        "outputId": "5c34e461-24a6-4fb8-e8d8-2275619f9227",
        "cell_id": "00032-49546c62-4799-48f5-b651-583145f2a168",
        "deepnote_to_be_reexecuted": false,
        "source_hash": "cd11e93",
        "execution_millis": 1689,
        "execution_start": 1617998748495,
        "deepnote_cell_type": "code"
      },
      "source": "!g++ max_pairwise_product2.cpp -o max_pairwise_product2\n!./max_pairwise_product2 < input2.txt",
      "execution_count": 197,
      "outputs": [
        {
          "name": "stdout",
          "text": "40000000000\r\n",
          "output_type": "stream"
        }
      ]
    },
    {
      "cell_type": "markdown",
      "source": "### Test 3: Stress tests 20 times random n in \\[2, 20\\]",
      "metadata": {
        "tags": [],
        "cell_id": "00044-cc93097b-e1b4-4be0-bdb0-f62b5619744f",
        "deepnote_cell_type": "markdown"
      }
    },
    {
      "cell_type": "code",
      "source": "%%writefile test_3_naive_c.cpp\n\n#include <random>\n#include <iostream>\n#include <vector>\n#include <algorithm>\n\nlong long MaxPairwiseProduct(const std::vector<int>& numbers) {\n    long long max_product = 0LL;\n\tlong long aux_product = 0LL;\n    int n = numbers.size();\n\n    for (int first = 0; first < n; ++first) {\n        for (int second = first + 1; second < n; ++second) {\n\t\t\t       aux_product =  (long long) numbers[first] * numbers[second];\n            if ( max_product < aux_product)  {\n\t\t\t\t        max_product = aux_product;\n             }\n         }\n    }\n\n    return max_product;\n}\n\nint main() {\n\n    std::vector<int> numbers(20);\n    numbers = {1,62,3,4,10,9,80,70,19,50,6,3,1,4,9,8,7,8,15,200};\n    \n    for(int i = 0; i < 20; i++){\n        \n        int n = 2 + (rand() % static_cast<int>(20 - 2 + 1));\n        std::cout<< \"n: \"<<n << \"\\t\";\n\n        std::vector<int> arr(n);\n        \n        for(int j = 0; j < n; j++){\n            arr[j] = numbers[j];\n        }\n        std::cout<< \"Resultado: \";\n        std::cout<< MaxPairwiseProduct(arr) << \"\\n\";\n    }\n}",
      "metadata": {
        "tags": [],
        "cell_id": "00045-8788d854-0ce2-4746-bc60-252cd30ce8e9",
        "deepnote_to_be_reexecuted": false,
        "source_hash": "35756c",
        "execution_millis": 20,
        "execution_start": 1617985988382,
        "deepnote_cell_type": "code"
      },
      "outputs": [
        {
          "name": "stdout",
          "text": "Overwriting test_3_naive_c.cpp\n",
          "output_type": "stream"
        }
      ],
      "execution_count": 54
    },
    {
      "cell_type": "code",
      "source": "!g++ test_3_naive_c.cpp -o test_3_naive_c\n\n!./test_3_naive_c\n!./test_3_naive_c > output3naive.txt\n",
      "metadata": {
        "tags": [],
        "cell_id": "00040-02349adc-3510-4a95-8768-1f07afc82da1",
        "deepnote_to_be_reexecuted": false,
        "source_hash": "c294775a",
        "execution_millis": 2263,
        "output_cleared": false,
        "execution_start": 1617986134813,
        "deepnote_cell_type": "code"
      },
      "outputs": [
        {
          "name": "stdout",
          "text": "n: 4\tResultado: 248\r\nn: 17\tResultado: 5600\r\nn: 5\tResultado: 620\r\nn: 5\tResultado: 620\r\nn: 12\tResultado: 5600\r\nn: 10\tResultado: 5600\r\nn: 12\tResultado: 5600\r\nn: 13\tResultado: 5600\r\nn: 4\tResultado: 248\r\nn: 9\tResultado: 5600\r\nn: 3\tResultado: 186\r\nn: 11\tResultado: 5600\r\nn: 3\tResultado: 186\r\nn: 12\tResultado: 5600\r\nn: 3\tResultado: 186\r\nn: 12\tResultado: 5600\r\nn: 9\tResultado: 5600\r\nn: 19\tResultado: 5600\r\nn: 7\tResultado: 4960\r\nn: 11\tResultado: 5600\r\n",
          "output_type": "stream"
        }
      ],
      "execution_count": 57
    },
    {
      "cell_type": "markdown",
      "source": "### Test 4: Time test measure the execution time running with the the largest worst case file (200000 increasing numbers, 200000 and 200000 the end)",
      "metadata": {
        "tags": [],
        "cell_id": "00045-3df6cfc0-e282-410d-9cf1-ccde49038dd2",
        "deepnote_cell_type": "markdown"
      }
    },
    {
      "cell_type": "code",
      "source": "%%writefile Test2Write.cpp\n\n#include <iostream>\n#include <fstream>\n#include <cstdlib>\n\nusing namespace std;\n\nint main() {\n  // Create and open a text file\n  ofstream MyFile(\"input3.txt\");\n\n MyFile << 200000 <<\"\\n\";  // n \n for (int i=1; i < 200001; i++){\n     MyFile << i <<\" \";\n }\n  \n  // Close the file\n  MyFile.close();\n}",
      "metadata": {
        "tags": [],
        "cell_id": "00046-1452816e-ed04-47cb-9b5f-27220843e474",
        "deepnote_to_be_reexecuted": false,
        "source_hash": "7716ad3f",
        "execution_millis": 6,
        "execution_start": 1617986219886,
        "deepnote_cell_type": "code"
      },
      "outputs": [
        {
          "name": "stdout",
          "text": "Overwriting Test2Write.cpp\n",
          "output_type": "stream"
        }
      ],
      "execution_count": 58
    },
    {
      "cell_type": "code",
      "source": "!g++ Test2Write.cpp -o Test2Write\n!./Test2Write",
      "metadata": {
        "tags": [],
        "cell_id": "00047-85ddbdaf-36af-4b96-84ea-47f50944531e",
        "deepnote_to_be_reexecuted": false,
        "source_hash": "60da4f1c",
        "execution_millis": 1759,
        "execution_start": 1617986234220,
        "deepnote_cell_type": "code"
      },
      "outputs": [],
      "execution_count": 59
    },
    {
      "cell_type": "code",
      "source": "!g++ max_pairwise_product2.cpp -o max_pairwise_product2\n!time ./max_pairwise_product2 < input3.txt",
      "metadata": {
        "tags": [],
        "cell_id": "00048-5ba7f0f5-9f85-4823-bc59-6a9ac08779bc",
        "deepnote_to_be_reexecuted": false,
        "source_hash": "ebe28990",
        "execution_millis": 117102,
        "execution_start": 1617986410420,
        "deepnote_cell_type": "code"
      },
      "outputs": [
        {
          "name": "stdout",
          "text": "39999800000\r\n\r\nreal\t1m55.530s\r\nuser\t1m55.174s\r\nsys\t0m0.068s\r\n",
          "output_type": "stream"
        }
      ],
      "execution_count": 62
    },
    {
      "cell_type": "markdown",
      "source": "Calculate the number of instructions executed by the algorithm as a function of n, add in each line a comment with the number of instructions that are executed in that line",
      "metadata": {
        "tags": [],
        "cell_id": "00045-85bf8621-0057-4bdd-a48c-062976601141",
        "deepnote_cell_type": "markdown"
      }
    },
    {
      "cell_type": "markdown",
      "source": "```\nint main() {                         //N inst exec by line executed  \n\n    int n;                            //1                      \n    std::cin >> n;                    //1\n\n    std::vector<int> numbers(n);      //n    init vector\n    .\n    .\n }\n```",
      "metadata": {
        "tags": [],
        "cell_id": "00046-dd660f37-b76c-41fa-95c1-3c7ee1430a47",
        "deepnote_cell_type": "markdown"
      }
    },
    {
      "cell_type": "code",
      "source": "%%writefile test_init_vectors.cpp\n\n#include <iostream>\n#include <vector>\n#include <algorithm>\n\nint main() {                                                               \n    int n = 10;                        //1                                                                                                       //1\n    std::vector<int> numbers(n);       //n                                     \n    for (int i = 0; i < n; ++i) {      //1+2n                                    \n        std::cout << numbers[i];       //2                                      \n    }\n\n    std::cout << \"\\n\";                 //1      \n    return 0;                          //1                                    \n}\n\n//total number of operations: 6 + 3n",
      "metadata": {
        "tags": [],
        "cell_id": "00045-3a2e7675-f4d8-455e-b00f-97ac0bec5826",
        "deepnote_to_be_reexecuted": false,
        "source_hash": "9428630a",
        "execution_start": 1617986579654,
        "execution_millis": 10,
        "deepnote_cell_type": "code"
      },
      "outputs": [
        {
          "name": "stdout",
          "text": "Writing test_init_vectors.cpp\n",
          "output_type": "stream"
        }
      ],
      "execution_count": 64
    },
    {
      "cell_type": "code",
      "source": "!g++ test_init_vectors.cpp -o test_init_vectors\n!./test_init_vectors",
      "metadata": {
        "tags": [],
        "cell_id": "00046-44ae19ef-e7d8-4d83-a33f-2bd8483d8c7c",
        "deepnote_to_be_reexecuted": false,
        "source_hash": "6d1acd6a",
        "execution_millis": 1602,
        "execution_start": 1617986581833,
        "deepnote_cell_type": "code"
      },
      "outputs": [
        {
          "name": "stdout",
          "text": "0000000000\r\n",
          "output_type": "stream"
        }
      ],
      "execution_count": 65
    },
    {
      "cell_type": "code",
      "source": "#include <iostream>\n#include <vector>\n#include <algorithm>\n\nlong long MaxPairwiseProduct(const std::vector<int>& numbers) {              //N inst exec by line executed \n    long long max_product = 0LL;                                             //1                                          \n\t  long long aux_product = 0LL;                                           //1 \n    int n = numbers.size();                                                  //1 \n                                                                             \n    for (int first = 0; first < n; ++first) {                                //1+2n  \n        for (int second = first + 1; second < n; ++second) {                 //n + (n-1)n \n\t\t\t       aux_product =  (long long) numbers[first] * numbers[second];    //(n-1)n/2 \n            if (max_product < aux_product)  {                                //(n-1)n/2 \n\t\t\t\t        max_product = aux_product;                                   //[0, (n-1)n/2] \n             }\n        }\n    }\n                                                                             // -------------- \n    return max_product;                                                      // 4 + 3n + [2(n-1)n, 2.5 (n-1)n] \n}\n\nint main() {                                              //N inst exec by line executed \n    int n;                                                //1  \n    std::cin >> n;                                        //1\n    std::vector<int> numbers(n);                          //n\n    for (int i = 0; i < n; ++i) {                         //1 + 2n\n        std::cin >> numbers[i];                           //n\n    }\n\n    std::cout << MaxPairwiseProduct(numbers) << \"\\n\";     //1 + 1  + 4 + 3n + [2(n-1)n, 2.5 (n-1)n]\n    return 0;                                             // -------------- \n}                                                         // 9 + 7n + [2(n-1)n, 2.5 (n-1)n]",
      "metadata": {
        "tags": [],
        "cell_id": "00049-847154b0-a2f4-41b4-91b1-78f46af01719",
        "deepnote_cell_type": "code"
      },
      "outputs": [],
      "execution_count": null
    },
    {
      "cell_type": "markdown",
      "source": "Count executed intructions in code and verify with inputs 1, 2 and 3",
      "metadata": {
        "tags": [],
        "cell_id": "00050-8e80be21-c05e-4343-8755-9a9504a20683",
        "deepnote_cell_type": "markdown"
      }
    },
    {
      "cell_type": "code",
      "source": "%%writefile max_pairwise_product_long_execints.cpp\n#include <iostream>\n#include <vector>\n#include <algorithm>\n\nlong long MaxPairwiseProduct(const std::vector<int>& numbers, long long &execints) {              //N inst exec by line executed \n    \n    long long m = 0LL;                                                       //1\n    \n    long long max_product = 0LL;                                             //1\n    execints++;\n\n\t  long long aux_product = 0LL;                                             //1\n    execints++;\n\n    int n = numbers.size();                                                  //1 \n    execints++;\n\n    execints++;                                                                         \n    for (int first = 0; first < n; ++first) {                                //1+2n  \n        execints += 2;\n\n        long long m = 0LL;\n\n        execints++;                                    \n        for (int second = first + 1; second < n; ++second) {                 //n+ (n-1)n \n            execints += 2;                                                \n\n\t\t\t      aux_product =  (long long) numbers[first] * numbers[second];    //(n-1)n/2 \n            execints++; \n\n            execints++; \n            if ( max_product < aux_product)  {                               //(n-1)n/2 \n                       \n\t\t\t\t        max_product = aux_product;                                   //[0, (n-1)n/2] \n                execints++; \n                m++;\n             }\n        }\n        if ( (first <= 10) || (n- first <= 10)) std::cout << m << \"\\n\";\n    }\n                                                                            // -------------- \n    return max_product;                                                     // 4 + 3n + [2(n-1)n, 2.5 (n-1)n] \n}\n\nint main() {                                                 //N inst exec by line executed \n    long long execints =0LL;\n\n    int n;                                                   //1\n    execints++;                                                              \n    \n    std::cin >> n;                                           //1\n    execints++;\n\n    std::vector<int> numbers(n);                             //n\n    execints += n;\n    \n    execints++;\n    for (int i = 0; i < n; ++i) {                            //1 + 2n\n        execints += 2;\n\n        std::cin >> numbers[i];\n        execints++;                                          //n\n    }\n    \n    //std::cout << MaxPairwiseProduct(numbers) << \"\\n\";      //1 + 1  + 4 + 3n + [2(n-1)n, 2.5 (n-1)n]\n\n    execints++;\n    int M = MaxPairwiseProduct(numbers,execints);\n\n    execints++;\n    std::cout <<  execints << \"\\n\";                       \n    return 0;                                                // -------------- \n}                                                            // 9 + 7n + [2(n-1)n, 2.5 (n-1)n]     ",
      "metadata": {
        "tags": [],
        "cell_id": "00050-3d6a99bb-0722-4e91-be79-4a4cdbd8dfd3",
        "deepnote_to_be_reexecuted": false,
        "source_hash": "99de2f74",
        "execution_start": 1617986941633,
        "execution_millis": 7,
        "deepnote_cell_type": "code"
      },
      "outputs": [
        {
          "name": "stdout",
          "text": "Writing max_pairwise_product_long_execints.cpp\n",
          "output_type": "stream"
        }
      ],
      "execution_count": 66
    },
    {
      "cell_type": "code",
      "source": "!g++ max_pairwise_product_long_execints.cpp -o max_pairwise_product_long_execints\n!./max_pairwise_product_long_execints < input1.txt\n!./max_pairwise_product_long_execints < input2.txt\n!./max_pairwise_product_long_execints < input3.txt",
      "metadata": {
        "tags": [],
        "cell_id": "00052-18821604-7c9f-4ca2-8e59-a9113634d9a1",
        "deepnote_to_be_reexecuted": false,
        "source_hash": "5048bce0",
        "execution_millis": 171407,
        "execution_start": 1617987166667,
        "deepnote_cell_type": "code"
      },
      "outputs": [
        {
          "name": "stdout",
          "text": "9\n5\n4\n3\n2\n2\n2\n2\n1\n0\n289\n2\n1\n2\n0\n0\n89\n199999\n100000\n66667\n50000\n40000\n33334\n28572\n25000\n22223\n20000\n18182\n2\n2\n2\n2\n2\n2\n2\n2\n1\n0\n80003672077\n",
          "output_type": "stream"
        }
      ],
      "execution_count": 70
    },
    {
      "cell_type": "markdown",
      "source": "The number of instructions executed by the algooirithm with a list of size $n$ is\n\n$$T = 9+7n+[2(n-1)n, 2.5(n-1)n]$$\n\nIt depends on the size of the lists and the order of the list.",
      "metadata": {
        "tags": [],
        "cell_id": "00053-eb73a66d-4d96-42be-a0f4-f90ab48668fd",
        "deepnote_cell_type": "markdown"
      }
    },
    {
      "cell_type": "markdown",
      "source": "For the input1.txt\n\n    10\n    1 2 3 4 5 6 7 8 9 10\n\n$T = 9+7(10)+2(9)(10)+9+5+4+3+2+2+2+2+1+0=289$\n\nFor the input2.txt\n\n    6\n    1 3 2000000 9 200000 23\n\n$T = 9+7(6)+2(5)(6)+2+1+2+0+0+0=116$\n\n\nFor the input3.txt that is the worst case (n=200000 and list in increasing order)\n\n    200000\n    1 2 3 4 5 6 7 8 9 10 ... 199998 199999 200000\n\n$T=9+7(200000)+2(199999)(200000)+(199999+100000+66667+50000...2+2+1)$\n\n$=80003672077$\n\n$<9+7(200000)+(2.5)(199999)(200000)$\n\n$=100000900009$",
      "metadata": {
        "tags": [],
        "cell_id": "00054-dc7138f2-1b95-4c75-a2be-05326e5d255d",
        "deepnote_cell_type": "markdown"
      }
    },
    {
      "cell_type": "markdown",
      "source": "Calculate estimated time by instruction and number of instructions by second",
      "metadata": {
        "tags": [],
        "cell_id": "00055-c6372499-3dbe-4148-8b86-36f55290fbb4",
        "deepnote_cell_type": "markdown"
      }
    },
    {
      "cell_type": "code",
      "source": "#Estimated time by solution\n\n128/80003672077",
      "metadata": {
        "tags": [],
        "cell_id": "00054-3a740290-0990-495e-ad86-411dd073adb1",
        "deepnote_cell_type": "code"
      },
      "outputs": [],
      "execution_count": null
    },
    {
      "cell_type": "code",
      "source": "# Estimated number of instructions by second\n\n1/(128/80003672077)",
      "metadata": {
        "tags": [],
        "cell_id": "00055-d3e569d1-8e4b-42f2-8532-4ba5731874a4",
        "deepnote_cell_type": "code"
      },
      "outputs": [],
      "execution_count": null
    },
    {
      "cell_type": "markdown",
      "source": "### Efficient solution\n\nAdd in each line a coment with the number of intstrcution that are executed in that line\n\n",
      "metadata": {
        "tags": [],
        "cell_id": "00047-9bf37a33-88ce-43e5-8d09-e2e68f1cca24",
        "deepnote_cell_type": "markdown"
      }
    },
    {
      "cell_type": "code",
      "source": "%%writefile max_pairwise_product_c_efficientc.cpp\n#include <iostream>\n#include <vector>\n#include <algorithm>\n\nlong long int MaxPairwiseProduct(const std::vector<int> &numbers)\n{\n    long long int max_product = 0;        //1\n    int n = numbers.size();               //2\n    int first = -1;                       //1\n    int second = -1;                      //1\n    for (int i = 0; i < n; i++)           //n( 2 + [3,3n] + [2,2n] ) + 1\n    {\n        int number = numbers.at(i);       //2\n        if (number > first)               //1 o 3\n        {\n            second = first;\n            first = number;\n        }\n        else if (number > second)         //1 o 2\n        {\n            second = number;\n        }\n    }\n\n    max_product = ((long long)first) * second; //1+ (1 o 2) + 1\n    return max_product; //7 + n( 2 + [3,3n] + [2,2n] ) + (1 o 2) \n}\n\nint main()\n{\n    int n;                           //1\n    std::cin >> n;                   //1\n    std::vector<int> numbers(n);     //n\n    for (int i = 0; i < n; ++i)      //1 + 2n\n    {\n        std::cin >> numbers[i];      //n\n    }\n    std::cout << MaxPairwiseProduct(numbers) << \"\\n\"; // 3n + 10 + n( 2 + [3,3n] + [2,2n] ) + (1 o 2) \n    return 0; // ----\n}\n\n// Total number of operations: 3n + 12 + n( 2 + [3,3n] + [2,2n] ) + (1 o 2)",
      "metadata": {
        "tags": [],
        "cell_id": "00048-32fbe55d-d8ac-42fe-ac49-d95f705a56fa",
        "deepnote_to_be_reexecuted": false,
        "source_hash": "81f776a5",
        "execution_start": 1617989232945,
        "execution_millis": 9,
        "deepnote_cell_type": "code"
      },
      "outputs": [
        {
          "name": "stdout",
          "text": "Overwriting max_pairwise_product_c_efficientc.cpp\n",
          "output_type": "stream"
        }
      ],
      "execution_count": 90
    },
    {
      "cell_type": "code",
      "source": "%%time\n!g++ max_pairwise_product_c_efficientc.cpp -o max_pairwise_product_c_efficientc",
      "metadata": {
        "tags": [],
        "cell_id": "00059-1ab905ae-b055-4db1-a0ca-05c99a0f5c99",
        "deepnote_cell_type": "code"
      },
      "outputs": [],
      "execution_count": null
    },
    {
      "cell_type": "markdown",
      "source": "\n### Test 1: Small numbers",
      "metadata": {
        "tags": [],
        "cell_id": "00059-231f9adb-0656-4947-8cfb-d16bbb512387",
        "deepnote_cell_type": "markdown"
      }
    },
    {
      "cell_type": "code",
      "source": "%%writefile input1.txt\n10\n1 2 3 4 5 6 7 8 9 10",
      "metadata": {
        "tags": [],
        "cell_id": "00061-732d3b45-937c-4f85-8f95-9ac8661aae70",
        "deepnote_to_be_reexecuted": false,
        "source_hash": "c03030ca",
        "execution_start": 1617987866624,
        "execution_millis": 8,
        "deepnote_cell_type": "code"
      },
      "outputs": [
        {
          "name": "stdout",
          "text": "Overwriting input1.txt\n",
          "output_type": "stream"
        }
      ],
      "execution_count": 74
    },
    {
      "cell_type": "code",
      "source": "%%time\n!./max_pairwise_product_c_efficientc <input1.txt",
      "metadata": {
        "tags": [],
        "cell_id": "00049-82cc30cd-2577-4ea4-b65b-d531cd92adbd",
        "deepnote_to_be_reexecuted": false,
        "source_hash": "400382f6",
        "execution_start": 1617987750551,
        "execution_millis": 658,
        "deepnote_cell_type": "code"
      },
      "outputs": [
        {
          "name": "stdout",
          "text": "90\nCPU times: user 5.4 ms, sys: 4.58 ms, total: 9.98 ms\nWall time: 653 ms\n",
          "output_type": "stream"
        }
      ],
      "execution_count": 71
    },
    {
      "cell_type": "markdown",
      "source": "### Test 2: largest input numbers 200000 200000 in the input",
      "metadata": {
        "tags": [],
        "cell_id": "00062-3bace540-eaa2-41a4-b7cd-1b7ea0560778",
        "deepnote_cell_type": "markdown"
      }
    },
    {
      "cell_type": "code",
      "source": "%%writefile input2.txt\n6\n1 3 200000 9 200000 23",
      "metadata": {
        "tags": [],
        "cell_id": "00064-ffa7e8ff-6d82-431c-8095-a2a05e655c04",
        "deepnote_to_be_reexecuted": false,
        "source_hash": "bf5fc9b6",
        "execution_start": 1617987864972,
        "execution_millis": 13,
        "deepnote_cell_type": "code"
      },
      "outputs": [
        {
          "name": "stdout",
          "text": "Overwriting input2.txt\n",
          "output_type": "stream"
        }
      ],
      "execution_count": 73
    },
    {
      "cell_type": "code",
      "source": "\n!./max_pairwise_product_c_efficientc <input2.txt",
      "metadata": {
        "tags": [],
        "cell_id": "00047-be3e953c-b9c3-437a-be76-aded960c4663",
        "deepnote_to_be_reexecuted": false,
        "source_hash": "2aac8e8f",
        "execution_start": 1617987819420,
        "execution_millis": 697,
        "deepnote_cell_type": "code"
      },
      "outputs": [
        {
          "name": "stdout",
          "text": "40000000000\r\n",
          "output_type": "stream"
        }
      ],
      "execution_count": 72
    },
    {
      "cell_type": "markdown",
      "source": "### Test 3: Stress tests 20 times random n in \\[2, 20\\]",
      "metadata": {
        "tags": [],
        "cell_id": "00066-12591ede-9f66-485c-bb43-5975f1dcb483",
        "deepnote_cell_type": "markdown"
      }
    },
    {
      "cell_type": "code",
      "source": "%%writefile test_3_efficient_c.cpp\n\n#include <random>\n#include <iostream>\n#include <vector>\n#include <algorithm>\nlong long int MaxPairwiseProduct(const std::vector<int> &numbers)\n{\n    long long int max_product = 0;        //1\n    int n = numbers.size();               //numbers.size()\n    int first = -1;                       //1\n    int second = -1;                      //1\n    for (int i = 0; i < n; i++)           //n(1+3n+2n)\n    {\n        int number = numbers.at(i);       //1+1+i\n        if (number > first)\n        {\n            second = first;\n            first = number;\n        }\n        else if (number > second)\n        {\n            second = number;\n        }\n    }\n\n    max_product = ((long long)first) * second;\n    return max_product;\n}\n\n\nint main() {\n\n    std::vector<int> numbers(20);\n    numbers = {1,62,3,4,10,9,80,70,19,50,6,3,1,4,9,8,7,8,15,200};\n    \n    for(int i = 0; i < 20; i++){\n        \n        int n = 2 + (rand() % static_cast<int>(20 - 2 + 1));\n        std::cout<< \"n: \"<<n << \"\\t\";\n\n        std::vector<int> arr(n);\n        \n        for(int j = 0; j < n; j++){\n            arr[j] = numbers[j];\n        }\n        std::cout<< \"Resultado: \";\n        std::cout<< MaxPairwiseProduct(arr) << \"\\n\";\n    }\n}",
      "metadata": {
        "tags": [],
        "cell_id": "00067-c41c48c7-fe32-48a6-b3ba-345ff254148a",
        "deepnote_to_be_reexecuted": false,
        "source_hash": "f3053832",
        "execution_millis": 11,
        "execution_start": 1617989134679,
        "deepnote_cell_type": "code"
      },
      "outputs": [
        {
          "name": "stdout",
          "text": "Writing test_3_efficient_c.cpp\n",
          "output_type": "stream"
        }
      ],
      "execution_count": 87
    },
    {
      "cell_type": "code",
      "source": "!g++ test_3_efficient_c.cpp -o test_3_efficient_c\n\n!time ./test_3_efficient_c\n!./test_3_efficient_c > output3efficient.txt",
      "metadata": {
        "tags": [],
        "cell_id": "00069-9d883a29-d4a0-4717-8aae-04c74a15d9a5",
        "deepnote_to_be_reexecuted": false,
        "source_hash": "e1640cc7",
        "execution_millis": 2258,
        "execution_start": 1617989156290,
        "deepnote_cell_type": "code"
      },
      "outputs": [
        {
          "name": "stdout",
          "text": "n: 4\tResultado: 248\r\nn: 17\tResultado: 5600\r\nn: 5\tResultado: 620\r\nn: 5\tResultado: 620\r\nn: 12\tResultado: 5600\r\nn: 10\tResultado: 5600\r\nn: 12\tResultado: 5600\r\nn: 13\tResultado: 5600\r\nn: 4\tResultado: 248\r\nn: 9\tResultado: 5600\r\nn: 3\tResultado: 186\r\nn: 11\tResultado: 5600\r\nn: 3\tResultado: 186\r\nn: 12\tResultado: 5600\r\nn: 3\tResultado: 186\r\nn: 12\tResultado: 5600\r\nn: 9\tResultado: 5600\r\nn: 19\tResultado: 5600\r\nn: 7\tResultado: 4960\r\nn: 11\tResultado: 5600\r\n\r\nreal\t0m0.003s\r\nuser\t0m0.000s\r\nsys\t0m0.002s\r\n",
          "output_type": "stream"
        }
      ],
      "execution_count": 88
    },
    {
      "cell_type": "markdown",
      "source": "### Test 4 time test measure the execution time running with the the largest worst case file (200000 increasing numbers, 200000 and 200000 the end)\n",
      "metadata": {
        "tags": [],
        "cell_id": "00070-77354c87-9c8a-4f0d-a6f0-6eb4dd8a4348",
        "deepnote_cell_type": "markdown"
      }
    },
    {
      "cell_type": "code",
      "source": "%%writefile Test2Write.cpp\n\n#include <iostream>\n#include <fstream>\n#include <cstdlib>\n\nusing namespace std;\n\nint main() {\n  // Create and open a text file\n  ofstream MyFile(\"input3.txt\");\n\n MyFile << 200000 <<\"\\n\";  // n \n for (int i=1; i < 200001; i++){\n     MyFile << i <<\" \";\n }\n  \n  // Close the file\n  MyFile.close();\n}",
      "metadata": {
        "tags": [],
        "cell_id": "00071-8d0dcd2c-c752-455b-bc16-e9244e811a88",
        "deepnote_to_be_reexecuted": false,
        "source_hash": "7716ad3f",
        "execution_millis": 14,
        "execution_start": 1617990923177,
        "deepnote_cell_type": "code"
      },
      "outputs": [
        {
          "name": "stdout",
          "text": "Overwriting Test2Write.cpp\n",
          "output_type": "stream"
        }
      ],
      "execution_count": 127
    },
    {
      "cell_type": "code",
      "source": "!g++ Test2Write.cpp -o Test2Write\n!./Test2Write",
      "metadata": {
        "tags": [],
        "cell_id": "00072-57cf9853-949f-4af2-becf-7a16dd5421e3",
        "deepnote_to_be_reexecuted": false,
        "source_hash": "60da4f1c",
        "execution_millis": 1565,
        "execution_start": 1617990929001,
        "deepnote_cell_type": "code"
      },
      "outputs": [],
      "execution_count": 128
    },
    {
      "cell_type": "code",
      "source": "!g++ max_pairwise_product_c_efficientc.cpp -o max_pairwise_product_c_efficientc\n!time ./max_pairwise_product_c_efficientc< input3.txt",
      "metadata": {
        "tags": [],
        "cell_id": "00073-83cc6609-c01c-406f-aa1b-039809bbdbd1",
        "deepnote_to_be_reexecuted": false,
        "source_hash": "9f7642bc",
        "execution_millis": 1619,
        "execution_start": 1617989239675,
        "deepnote_cell_type": "code"
      },
      "outputs": [
        {
          "name": "stdout",
          "text": "39999800000\r\n\r\nreal\t0m0.056s\r\nuser\t0m0.054s\r\nsys\t0m0.000s\r\n",
          "output_type": "stream"
        }
      ],
      "execution_count": 91
    },
    {
      "cell_type": "code",
      "source": "%%writefile c_efficientc_execints.cpp\n#include <iostream>\n#include <vector>\n#include <algorithm>\n\nlong long int MaxPairwiseProduct(const std::vector<int> &numbers, long long &execints)\n{\n    long long int max_product = 0;        //1\n    execints++;\n\n    int n = numbers.size();               //2\n    execints += 2;\n\n    int first = -1;                       //1\n    execints++;\n\n    int second = -1;                      //1\n    execints++;\n\n    for (int i = 0; i < n; i++)           //n( 2 + [3,3n] + [2,2n] ) + 1\n    {\n        execints += 2;\n\n        int number = numbers.at(i);       //2\n        execints += 2;\n\n        execints++;\n        if (number > first)               //1 o 3\n        {\n            second = first;\n            execints++;\n\n            first = number;\n            execints++;\n        }\n        else if (number > second)         //1 o 2\n        {\n            second = number;\n            execints++;\n        }\n        execints++;\n    }\n\n    max_product = ((long long)first) * second; //1+ (1 o 2) + 1\n    execints++;\n\n    return max_product; //7 + n( 2 + [3,3n] + [2,2n] ) + (1 o 2) \n}\n\nint main()\n{\n    long long execints = 0LL;\n\n    int n;                           //1\n    execints++;\n\n    std::cin >> n;                   //1\n    execints++;\n\n    std::vector<int> numbers(n);     //n\n    execints += n;\n\n    for (int i = 0; i < n; ++i)      //1 + 2n\n    {\n        execints += 2;\n\n        std::cin >> numbers[i];      //n\n        execints += n;\n    }\n    std::cout << MaxPairwiseProduct(numbers, execints) << \"\\n\"; // 3n + 10 + n( 2 + [3,3n] + [2,2n] ) + (1 o 2) \n    execints++;\n\n    execints++;\n    std::cout <<  \"Número de operaciones: \" << execints << \"\\n\";   \n    return 0; // ----\n}\n\n// Total number of operations: 3n + 12 + n( 2 + [3,3n] + [2,2n] ) + (1 o 2)",
      "metadata": {
        "tags": [],
        "cell_id": "00074-72596f88-4860-4323-9555-32431147ca23",
        "deepnote_to_be_reexecuted": false,
        "source_hash": "4ed257c7",
        "execution_millis": 15,
        "execution_start": 1617990603695,
        "deepnote_cell_type": "code"
      },
      "outputs": [
        {
          "name": "stdout",
          "text": "Overwriting c_efficientc_execints.cpp\n",
          "output_type": "stream"
        }
      ],
      "execution_count": 105
    },
    {
      "cell_type": "code",
      "source": "!g++ c_efficientc_execints.cpp -o c_efficientc_execints\n!./c_efficientc_execints < input3.txt",
      "metadata": {
        "tags": [],
        "cell_id": "00075-f009178a-59fd-4afb-bbed-e3e89d23e6f5",
        "deepnote_to_be_reexecuted": false,
        "source_hash": "33fde92d",
        "execution_millis": 1810,
        "execution_start": 1617990984940,
        "deepnote_cell_type": "code"
      },
      "outputs": [
        {
          "name": "stdout",
          "text": "39999800000\r\nNúmero de operaciones: 40002200010\r\n",
          "output_type": "stream"
        }
      ],
      "execution_count": 131
    },
    {
      "cell_type": "markdown",
      "source": "Calculate estimated time by instruction and number of instructions by second",
      "metadata": {
        "tags": [],
        "cell_id": "00076-2531c6e9-708d-4c4c-86f6-6538785f5376",
        "deepnote_cell_type": "markdown"
      }
    },
    {
      "cell_type": "code",
      "source": "#Estimated time by instruction\n\n0.045/40002200010",
      "metadata": {
        "tags": [],
        "cell_id": "00077-686f7b5b-8f1d-4a87-8410-dea0ddaa6038",
        "deepnote_cell_type": "code"
      },
      "outputs": [],
      "execution_count": null
    },
    {
      "cell_type": "code",
      "source": "# Estimated number of instructions by second\n\n1/(0.045/40002200010)",
      "metadata": {
        "tags": [],
        "cell_id": "00078-6f818d99-25dc-42bd-8526-c708eff0fa6b",
        "deepnote_cell_type": "code"
      },
      "outputs": [],
      "execution_count": null
    },
    {
      "cell_type": "markdown",
      "source": "### Super efficient\nWhitout storing the list in memory and whitout calling a function, add in each line a coment with the number of intstrcution that are executed in that line\n\n",
      "metadata": {
        "tags": [],
        "cell_id": "00074-422ebfec-54ad-4075-811a-51d5b1c0cd60",
        "deepnote_cell_type": "markdown"
      }
    },
    {
      "cell_type": "code",
      "source": "%%writefile super_efficient_c.cpp\n\n#include <iostream>\n#include <fstream>\n#include <cstdlib>\n\nusing namespace std;\n\nint main() {\n    long long execints = 0LL;\n    \n    int n;                           //1\n    long long  aux;                  //1\n    long long  firstmax=0;           //1\n    long long  secondmax=0;          //1\n    std::cin>>n;                     //1\n\n    execints += 5;\n  \n    for (int i=0;i<n;i++){           //n(1+[3,3n])\n\n        execints++;\n        std::cin>>aux;               //1\n\n        execints++;\n        if(aux>=firstmax){           //1 o 3\n            secondmax=firstmax;      //1\n            firstmax=aux;            //1\n            execints+=2;\n        }\n    }\n    \n    std::cout<< \"El resultado es: \"<< firstmax*secondmax << \"\\n\";//3\n\n    execints+=3;\n    std::cout<< \"Número de operaciones: \"<< execints;\n\n}\n//Total number of operations: 8 + n(1 + [3,3n])\n",
      "metadata": {
        "tags": [],
        "cell_id": "00075-eec1ba7f-a5eb-44d0-b5c4-efe8919141f4",
        "deepnote_to_be_reexecuted": false,
        "source_hash": "4c2d1e14",
        "execution_millis": 11,
        "execution_start": 1617993732221,
        "deepnote_cell_type": "code"
      },
      "outputs": [
        {
          "name": "stdout",
          "text": "Overwriting super_efficient_c.cpp\n",
          "output_type": "stream"
        }
      ],
      "execution_count": 177
    },
    {
      "cell_type": "code",
      "source": "!g++ super_efficient_c.cpp -o super_efficient_c",
      "metadata": {
        "tags": [],
        "cell_id": "00078-56830954-a177-4652-9170-b2cdec78f924",
        "deepnote_to_be_reexecuted": false,
        "source_hash": "a91a7330",
        "execution_millis": 937,
        "execution_start": 1617993868757,
        "deepnote_cell_type": "code"
      },
      "outputs": [],
      "execution_count": 181
    },
    {
      "cell_type": "markdown",
      "source": "### Test 1: Small numbers\n",
      "metadata": {
        "tags": [],
        "cell_id": "00078-01e2a5f6-00b9-4972-89ef-47ec91ec4955",
        "deepnote_cell_type": "markdown"
      }
    },
    {
      "cell_type": "code",
      "source": "!time ./super_efficient_c < input1.txt",
      "metadata": {
        "tags": [],
        "cell_id": "00078-f5d6ff91-f354-4792-b68f-2a77e22ab9c6",
        "deepnote_to_be_reexecuted": false,
        "source_hash": "acc85282",
        "execution_millis": 646,
        "execution_start": 1617993739891,
        "deepnote_cell_type": "code"
      },
      "outputs": [
        {
          "name": "stdout",
          "text": "El resultado es: 90\r\nNúmero de operaciones: 48\r\nreal\t0m0.003s\r\nuser\t0m0.001s\r\nsys\t0m0.000s\r\n",
          "output_type": "stream"
        }
      ],
      "execution_count": 179
    },
    {
      "cell_type": "markdown",
      "source": "\n### Test 2: largest input numbers 200000 200000 in the input",
      "metadata": {
        "tags": [],
        "cell_id": "00081-6226f428-3c21-43cb-850c-77b33c72751b",
        "deepnote_cell_type": "markdown"
      }
    },
    {
      "cell_type": "code",
      "source": "!time ./super_efficient_c < input2.txt",
      "metadata": {
        "tags": [],
        "cell_id": "00082-5eaf9a1c-43cf-4961-9b21-a0da74379bcd",
        "deepnote_to_be_reexecuted": false,
        "source_hash": "270a8967",
        "execution_millis": 596,
        "execution_start": 1617993747545,
        "deepnote_cell_type": "code"
      },
      "outputs": [
        {
          "name": "stdout",
          "text": "El resultado es: 40000000000\r\nNúmero de operaciones: 28\r\nreal\t0m0.002s\r\nuser\t0m0.002s\r\nsys\t0m0.000s\r\n",
          "output_type": "stream"
        }
      ],
      "execution_count": 180
    },
    {
      "cell_type": "markdown",
      "source": "### Test 3: Stress test",
      "metadata": {
        "tags": [],
        "cell_id": "00083-07845dd2-f1d3-44e6-bbc4-5b4e905abd05",
        "deepnote_cell_type": "markdown"
      }
    },
    {
      "cell_type": "code",
      "source": "%%writefile test_superefficient_c.cpp\n\n#include <random>\n#include <iostream>\n#include <vector>\n\nint main() {\n\n    std::vector<int> numbers(20);\n    numbers = {1,62,3,4,10,9,80,70,19,50,6,3,1,4,9,8,7,8,15,200};\n    \n    for(int i = 0; i < 20; i++){\n        \n        int n = 2 + (rand() % static_cast<int>(20 - 2 + 1));\n        std::cout<< \"n: \"<<n << \"\\t\";\n\n        std::vector<int> arr(n);\n        \n        for(int j = 0; j < n; j++){\n            arr[j] = numbers[j];\n        }\n\n        long long  aux;\n        long long  firstmax=0;\n        long long  secondmax=0;\n\n        for (int j = 0; j < n; j++){\n            aux = arr[j];\n            if(aux>firstmax){\n                secondmax=firstmax;\n                firstmax=aux;\n            } else if (aux>secondmax){\n                secondmax = aux;\n            }\n        }\n\n        std::cout<< \"El resultado es: \"<< firstmax*secondmax << \"\\n\";\n    }\n}",
      "metadata": {
        "tags": [],
        "cell_id": "00079-8a99f5f1-7590-4db1-967e-2360ee045ba1",
        "deepnote_to_be_reexecuted": false,
        "source_hash": "e4eefe5e",
        "execution_millis": 10,
        "execution_start": 1617993719253,
        "deepnote_cell_type": "code"
      },
      "outputs": [
        {
          "name": "stdout",
          "text": "Overwriting test_superefficient_c.cpp\n",
          "output_type": "stream"
        }
      ],
      "execution_count": 175
    },
    {
      "cell_type": "code",
      "source": "!g++ test_superefficient_c.cpp -o test_superefficient_c\n!./test_superefficient_c",
      "metadata": {
        "tags": [],
        "cell_id": "00085-1f359b3f-a36b-4f5a-a4d0-7270ff7d86e2",
        "deepnote_to_be_reexecuted": false,
        "source_hash": "3578e51d",
        "execution_millis": 1650,
        "execution_start": 1617993725143,
        "deepnote_cell_type": "code"
      },
      "outputs": [
        {
          "name": "stdout",
          "text": "n: 4\tEl resultado es: 248\r\nn: 17\tEl resultado es: 5600\r\nn: 5\tEl resultado es: 620\r\nn: 5\tEl resultado es: 620\r\nn: 12\tEl resultado es: 5600\r\nn: 10\tEl resultado es: 5600\r\nn: 12\tEl resultado es: 5600\r\nn: 13\tEl resultado es: 5600\r\nn: 4\tEl resultado es: 248\r\nn: 9\tEl resultado es: 5600\r\nn: 3\tEl resultado es: 186\r\nn: 11\tEl resultado es: 5600\r\nn: 3\tEl resultado es: 186\r\nn: 12\tEl resultado es: 5600\r\nn: 3\tEl resultado es: 186\r\nn: 12\tEl resultado es: 5600\r\nn: 9\tEl resultado es: 5600\r\nn: 19\tEl resultado es: 5600\r\nn: 7\tEl resultado es: 4960\r\nn: 11\tEl resultado es: 5600\r\n",
          "output_type": "stream"
        }
      ],
      "execution_count": 176
    },
    {
      "cell_type": "markdown",
      "source": "### Test 4: Time test measure the execution time running with the the largest worst case file (200000 increasing numbers, 200000 and 200000 the end)",
      "metadata": {
        "tags": [],
        "cell_id": "00089-52b9dcb6-b3e9-4144-a934-91155c9d8b07",
        "deepnote_cell_type": "markdown"
      }
    },
    {
      "cell_type": "code",
      "source": "!time ./super_efficient_c < input3.txt",
      "metadata": {
        "tags": [],
        "cell_id": "00089-5e009d1b-0e44-4597-9d48-d3fee2cc204b",
        "deepnote_to_be_reexecuted": false,
        "source_hash": "ec45f233",
        "execution_millis": 659,
        "execution_start": 1617997530230,
        "deepnote_cell_type": "code"
      },
      "outputs": [
        {
          "name": "stdout",
          "text": "El resultado es: 39999800000\r\nNúmero de operaciones: 800008\r\nreal\t0m0.056s\r\nuser\t0m0.050s\r\nsys\t0m0.004s\r\n",
          "output_type": "stream"
        }
      ],
      "execution_count": 183
    },
    {
      "cell_type": "markdown",
      "source": "Calculate estimated time by instruction and number of instructions by second",
      "metadata": {
        "tags": [],
        "cell_id": "00087-a5de619a-e770-4f7f-9032-96aac933acb9",
        "deepnote_cell_type": "markdown"
      }
    },
    {
      "cell_type": "code",
      "source": "#Estimated time by instruction\n\n0.081/ 800008",
      "metadata": {
        "tags": [],
        "cell_id": "00087-68eeb2c0-df8e-40c3-89f3-9214bbe3a0c7",
        "deepnote_cell_type": "code"
      },
      "outputs": [],
      "execution_count": null
    },
    {
      "cell_type": "code",
      "source": "#Estimated number of instructions by second\n\n1/(0.081/ 800008)",
      "metadata": {
        "tags": [],
        "cell_id": "00093-edd45537-1c62-4d01-9518-1a804520f90c",
        "deepnote_cell_type": "code"
      },
      "outputs": [],
      "execution_count": null
    },
    {
      "cell_type": "markdown",
      "source": "## Python",
      "metadata": {
        "tags": [],
        "cell_id": "00033-a2e9c477-1f5c-4c0b-9821-9a55052069c2",
        "deepnote_cell_type": "markdown"
      }
    },
    {
      "cell_type": "markdown",
      "source": "### Generate a tests file with the maximun n 200000 numbers and measure time",
      "metadata": {
        "id": "9z9yr5QkeyJF",
        "cell_id": "00033-38d32848-7c3f-43fa-90f4-e94b60246f79",
        "deepnote_cell_type": "markdown"
      }
    },
    {
      "cell_type": "code",
      "metadata": {
        "id": "oLiMjbAIfPlX",
        "cell_id": "00034-7e000ec5-f230-4dc2-a59d-fc336acb97d4",
        "deepnote_to_be_reexecuted": false,
        "source_hash": "edb8e35f",
        "execution_millis": 379,
        "execution_start": 1617998816641,
        "deepnote_cell_type": "code"
      },
      "source": "%%time\n# Number generation\nimport random\n\nrandfile = open(\"testfile.txt\", \"w\" )\nfor i in range(200000):\n    line = str(random.randint(1, 200000)) + \" \"\n    randfile.write(line)\n\nrandfile.close()\nprint('Data written to testfile.txt')",
      "execution_count": 200,
      "outputs": [
        {
          "name": "stdout",
          "text": "Data written to testfile.txt\nCPU times: user 367 ms, sys: 0 ns, total: 367 ms\nWall time: 371 ms\n",
          "output_type": "stream"
        }
      ]
    },
    {
      "cell_type": "markdown",
      "source": "### Naive solution",
      "metadata": {
        "tags": [],
        "cell_id": "00097-6398e369-d59f-4515-a230-9fe09b53a470",
        "deepnote_cell_type": "markdown"
      }
    },
    {
      "cell_type": "code",
      "source": "def max_pairwise_naive(arr): \n    max_product = 0                      #1\n    execints=0\n    execints+=1\n    for i in range(len(arr)):              # 1 + multiplicatoria desde i hasta len(arr) de:\n                                           # (len(arr)-i-1) * 6\n        execints+=1\n        for j in range(i+1,len(arr)):      #(len(arr)-i-1) * 6\n            max_product = max(max_product,arr[i]*arr[j])    #5\n            execints+=6\n    execints+=1;\n    print('Operaciones:',execints)\n    return max_product",
      "metadata": {
        "tags": [],
        "cell_id": "00097-dfb0ce95-50ca-44bb-938c-923eab04c61a",
        "deepnote_to_be_reexecuted": false,
        "source_hash": "ae41902c",
        "execution_millis": 1,
        "is_code_hidden": false,
        "execution_start": 1618002595039,
        "deepnote_cell_type": "code"
      },
      "outputs": [],
      "execution_count": 262
    },
    {
      "cell_type": "markdown",
      "source": "### Test 1: Small numbers",
      "metadata": {
        "tags": [],
        "cell_id": "00099-dcd4fcc3-0cdc-4544-96c0-421fd888f9db",
        "deepnote_cell_type": "markdown"
      }
    },
    {
      "cell_type": "code",
      "source": "%%time\n\narr = [1, 2, 3, 4, 5, 6, 7, 8, 9, 10]\nprint(max_pairwise_naive(arr))",
      "metadata": {
        "tags": [],
        "cell_id": "00100-2a0950e3-66bc-4561-ba3a-80ff6985ac01",
        "deepnote_to_be_reexecuted": false,
        "source_hash": "d3ddf0f3",
        "execution_millis": 34,
        "execution_start": 1618002604484,
        "deepnote_cell_type": "code"
      },
      "outputs": [
        {
          "name": "stdout",
          "text": "Operaciones:  282\n90\nCPU times: user 355 µs, sys: 2 µs, total: 357 µs\nWall time: 284 µs\n",
          "output_type": "stream"
        }
      ],
      "execution_count": 265
    },
    {
      "cell_type": "markdown",
      "source": "### Test 2: Largest input numbers 200000 200000 in the input",
      "metadata": {
        "tags": [],
        "cell_id": "00101-ee8489d1-c23d-4e6c-81fd-0b8c36a3f3e5",
        "deepnote_cell_type": "markdown"
      }
    },
    {
      "cell_type": "code",
      "source": "%%time\n\narr = [1, 3, 200000, 9, 200000, 23]\nprint(max_pairwise_naive(arr))",
      "metadata": {
        "tags": [],
        "cell_id": "00101-b5af54eb-ecb8-4525-90ef-2210a22d7e0c",
        "deepnote_to_be_reexecuted": false,
        "source_hash": "a9d67bd",
        "execution_millis": 8,
        "execution_start": 1618002600392,
        "deepnote_cell_type": "code"
      },
      "outputs": [
        {
          "name": "stdout",
          "text": "Operaciones:  98\n40000000000\nCPU times: user 348 µs, sys: 0 ns, total: 348 µs\nWall time: 262 µs\n",
          "output_type": "stream"
        }
      ],
      "execution_count": 264
    },
    {
      "cell_type": "markdown",
      "source": "### Test 3: Stress tests 20 times random n in \\[2, 20\\]",
      "metadata": {
        "tags": [],
        "cell_id": "00103-8697f9a6-5de4-4a37-bc63-758c59a3f95e",
        "deepnote_cell_type": "markdown"
      }
    },
    {
      "cell_type": "code",
      "source": "\nnumlist = [1,62,3,4,10,9,80,70,19,50,6,3,1,4,9,8,7,8,15,200]\n\nfor i in range(20):\n\n    n = random.randint(2, 20)\n    print(\"n:\",n,\"\\t\")\n\n    arr = numlist[:n]\n\n    print(max_pairwise_naive(arr))\n",
      "metadata": {
        "tags": [],
        "cell_id": "00103-f72d41d8-51a5-4a56-9314-6414e74992ee",
        "deepnote_to_be_reexecuted": false,
        "source_hash": "e1bf1f1a",
        "execution_millis": 26,
        "execution_start": 1618002627262,
        "deepnote_cell_type": "code"
      },
      "outputs": [
        {
          "name": "stdout",
          "text": "n: 5 \t\nOperaciones:  67\n620\nn: 15 \t\nOperaciones:  647\n5600\nn: 10 \t\nOperaciones:  282\n5600\nn: 20 \t\nOperaciones:  1162\n16000\nn: 20 \t\nOperaciones:  1162\n16000\nn: 9 \t\nOperaciones:  227\n5600\nn: 19 \t\nOperaciones:  1047\n5600\nn: 18 \t\nOperaciones:  938\n5600\nn: 14 \t\nOperaciones:  562\n5600\nn: 3 \t\nOperaciones:  23\n186\nn: 19 \t\nOperaciones:  1047\n5600\nn: 11 \t\nOperaciones:  343\n5600\nn: 14 \t\nOperaciones:  562\n5600\nn: 9 \t\nOperaciones:  227\n5600\nn: 13 \t\nOperaciones:  483\n5600\nn: 13 \t\nOperaciones:  483\n5600\nn: 16 \t\nOperaciones:  738\n5600\nn: 3 \t\nOperaciones:  23\n186\nn: 10 \t\nOperaciones:  282\n5600\nn: 18 \t\nOperaciones:  938\n5600\n",
          "output_type": "stream"
        }
      ],
      "execution_count": 267
    },
    {
      "cell_type": "markdown",
      "source": "### Test 4: Time test measure the execution time running with the the largest worst case file (200000 increasing numbers, 200000 and 200000 the end)",
      "metadata": {
        "tags": [],
        "cell_id": "00105-a3ddd5cb-c8df-4dbd-8c01-4dea6ef526eb",
        "deepnote_cell_type": "markdown"
      }
    },
    {
      "cell_type": "code",
      "source": "%%time\n\ndef max_pairwise_naive(arr):\n    max_product = 0\n    for i in range(len(arr)):\n        for j in range(i+1,len(arr)):\n            max_product = max(max_product,arr[i]*arr[j])\n    return max_product\n\n\n# Open file and convert it into array\nwith open('input3.txt') as f:\n    next(f)\n    mylist = [int(x) for x in f.read().split()]\n    mylist[0] = 200000\n\nprint(max_pairwise_naive(mylist))",
      "metadata": {
        "tags": [],
        "cell_id": "00106-4eec8700-c9b0-4caa-b0fd-6d8c3efacec4",
        "deepnote_to_be_reexecuted": false,
        "source_hash": "62c020dd",
        "execution_millis": 5144,
        "execution_start": 1618001300875,
        "deepnote_cell_type": "code"
      },
      "outputs": [
        {
          "output_type": "error",
          "ename": "KeyboardInterrupt",
          "evalue": "",
          "traceback": [
            "\u001b[0;31m---------------------------------------------------------------------------\u001b[0m",
            "\u001b[0;31mKeyboardInterrupt\u001b[0m                         Traceback (most recent call last)",
            "\u001b[0;32m<timed exec>\u001b[0m in \u001b[0;36m<module>\u001b[0;34m\u001b[0m\n",
            "\u001b[0;32m<timed exec>\u001b[0m in \u001b[0;36mmax_pairwise_naive\u001b[0;34m(arr)\u001b[0m\n",
            "\u001b[0;31mKeyboardInterrupt\u001b[0m: "
          ]
        }
      ],
      "execution_count": 235
    },
    {
      "cell_type": "markdown",
      "source": "El tiempo de ejecución supera los 10 minutos :( Se detuvo la ejecución",
      "metadata": {
        "tags": [],
        "cell_id": "00107-f6bcf059-12fe-4ade-9bd4-db0a1a823ffe",
        "deepnote_cell_type": "markdown"
      }
    },
    {
      "cell_type": "markdown",
      "source": "### Efficient solution",
      "metadata": {
        "tags": [],
        "cell_id": "00036-2c957b3c-9f18-4c0b-bdf0-93ccccc4c5d1",
        "deepnote_cell_type": "markdown"
      }
    },
    {
      "cell_type": "code",
      "metadata": {
        "tags": [],
        "cell_id": "00039-0aa95455-f87f-447d-9d62-524c4b12b630",
        "deepnote_to_be_reexecuted": false,
        "source_hash": "d3326c0b",
        "execution_millis": 4,
        "output_cleared": false,
        "execution_start": 1617998847141,
        "deepnote_cell_type": "code"
      },
      "source": "#Efficient\n\ndef max_pairwise_product(seq):\n    largest = 0\n    second_largest = 0\n\n    for elt in seq:\n        if elt > largest:\n            second_largest = largest\n            largest = elt\n        elif elt > second_largest:\n            second_largest = elt\n    return second_largest * largest",
      "execution_count": 204,
      "outputs": []
    },
    {
      "cell_type": "code",
      "metadata": {
        "tags": [],
        "cell_id": "00041-43f1f695-3722-4457-b62a-b4a20fcb1b03",
        "deepnote_to_be_reexecuted": false,
        "source_hash": "dc742c6d",
        "execution_millis": 14,
        "output_cleared": false,
        "execution_start": 1617998865658,
        "deepnote_cell_type": "code"
      },
      "source": "%%time\n# Efficient solution\narr = [1,2,41,9845,12,4]\nprint(max_pairwise_product(arr))",
      "execution_count": 206,
      "outputs": [
        {
          "name": "stdout",
          "text": "403645\nCPU times: user 260 µs, sys: 46 µs, total: 306 µs\nWall time: 251 µs\n",
          "output_type": "stream"
        }
      ]
    },
    {
      "cell_type": "code",
      "metadata": {
        "tags": [],
        "cell_id": "00046-cfc4237f-f66f-48e5-8bab-0dd57a4e07d5",
        "deepnote_to_be_reexecuted": false,
        "source_hash": "76ff1a4b",
        "execution_millis": 22,
        "execution_start": 1617998938212,
        "deepnote_cell_type": "code"
      },
      "source": "%%time\n# Naive solution\n\narr = [1,2,41,9845,12,4]\nprint(max_pairwise_naive(arr))",
      "execution_count": 207,
      "outputs": [
        {
          "name": "stdout",
          "text": "403645\nCPU times: user 1.32 ms, sys: 0 ns, total: 1.32 ms\nWall time: 1.11 ms\n",
          "output_type": "stream"
        }
      ]
    },
    {
      "cell_type": "markdown",
      "source": "### File test",
      "metadata": {
        "tags": [],
        "cell_id": "00041-5c10e384-a1d5-47fc-a944-1187ce114862",
        "deepnote_cell_type": "markdown"
      }
    },
    {
      "cell_type": "markdown",
      "source": "### Test 1: Small numbers",
      "metadata": {
        "tags": [],
        "cell_id": "00105-dea7707b-abac-411c-886d-c209bc4ed12c",
        "deepnote_cell_type": "markdown"
      }
    },
    {
      "cell_type": "code",
      "metadata": {
        "tags": [],
        "cell_id": "00041-c455057c-790c-433f-b83c-d1719acee5fa",
        "deepnote_to_be_reexecuted": false,
        "source_hash": "a9172537",
        "execution_millis": 19,
        "execution_start": 1618003506619,
        "deepnote_cell_type": "code"
      },
      "source": "# Efficient algorithm\ndef max_pairwise_product(seq, execints):\n\n\n    largest = 0                #1         \n    second_largest = 0         #1\n    \n    execints +=2\n    #Sea n = len(seq)\n\n    for elt in seq:            # n([3, 3n] + [2,2n])\n\n        execints +=1\n        if elt > largest:              #1 o 3\n            second_largest = largest   #1\n            largest = elt              #1\n            execints += 2\n\n        elif elt > second_largest:     #1 o 2\n            second_largest = elt       #1\n            execints +=1\n\n        execints +=1 \n\n    execints +=2\n    print(\"After function:\",execints)\n    return second_largest * largest    #2\n    \n\n\n# Open file and convert it into array\nwith open('input1.txt') as f:     #1\n    next(f)                       #1\n\n    execints +=2\n\n    mylist = [int(x) for x in f.read().split()]      #3n + 1\n\n    f2 = f.read()\n    execints = execints + 3*len(f2) + 1\n\n\nprint(max_pairwise_product(mylist, execints)) #1",
      "execution_count": 271,
      "outputs": [
        {
          "name": "stdout",
          "text": "After function: 48\n90\n",
          "output_type": "stream"
        }
      ]
    },
    {
      "cell_type": "markdown",
      "source": "### Test 2: Largest input numbers 200000 200000 in the input",
      "metadata": {
        "tags": [],
        "cell_id": "00107-482a1af0-3c23-4d4e-b395-8bd9341f2b87",
        "deepnote_cell_type": "markdown"
      }
    },
    {
      "cell_type": "code",
      "source": "# Efficient algorithm\ndef max_pairwise_product(seq):\n    largest = 0\n    second_largest = 0\n\n    for elt in seq:\n        if elt > largest:.s\n            second_largest = largest\n            largest = elt\n        elif elt > second_largest:\n            second_largest = elt\n    return second_largest * largest\n\n# Open file and convert it into array\nwith open('input2.txt') as f:\n    next(f)\n    \n    mylist = [int(x) for x in f.read().split()]\n\n    f2 = f.read()\n\nprint(max_pairwise_product(mylist))",
      "metadata": {
        "tags": [],
        "cell_id": "00107-17ad6b45-c59b-4f43-9edc-ef809e3b97c1",
        "deepnote_to_be_reexecuted": false,
        "source_hash": "76f0be19",
        "execution_start": 1617999281969,
        "execution_millis": 14,
        "deepnote_cell_type": "code"
      },
      "outputs": [
        {
          "name": "stdout",
          "text": "40000000000\n",
          "output_type": "stream"
        }
      ],
      "execution_count": 210
    },
    {
      "cell_type": "markdown",
      "source": "### Test 3: Stress tests 20 times random n in \\[2, 20\\]",
      "metadata": {
        "tags": [],
        "cell_id": "00112-67a3de34-8fbf-4ff1-ac7c-29fbcfe3974f",
        "deepnote_cell_type": "markdown"
      }
    },
    {
      "cell_type": "code",
      "source": "import random\n\nnumlist = [1,62,3,4,10,9,80,70,19,50,6,3,1,4,9,8,7,8,15,200]\n\nfor i in range(20):\n\n    n = random.randint(2, 20)\n    print(\"n:\",n,\"\\t\")\n\n    arr = numlist[:n]\n\n    aux = 0\n    firstmax = 0\n    secondmax = 0\n\n    for elt in arr:\n        if elt > firstmax:\n            secondmax = firstmax\n            firstmax = elt\n        elif elt > secondmax:\n            secondmax = elt\n    \n    print(\"firstmax:\",firstmax,\". secondmax:\",secondmax)\n    print(\"Product:\",firstmax*secondmax)",
      "metadata": {
        "tags": [],
        "cell_id": "00112-31fd6b70-a795-4404-9fb0-a057d387a5ca",
        "deepnote_to_be_reexecuted": false,
        "source_hash": "6f05a3a9",
        "execution_millis": 23,
        "execution_start": 1618000407987,
        "deepnote_cell_type": "code"
      },
      "outputs": [
        {
          "name": "stdout",
          "text": "n: 14 \t\nfirstmax: 80 . secondmax: 70\nProduct: 5600\nn: 6 \t\nfirstmax: 62 . secondmax: 10\nProduct: 620\nn: 18 \t\nfirstmax: 80 . secondmax: 70\nProduct: 5600\nn: 3 \t\nfirstmax: 62 . secondmax: 3\nProduct: 186\nn: 6 \t\nfirstmax: 62 . secondmax: 10\nProduct: 620\nn: 18 \t\nfirstmax: 80 . secondmax: 70\nProduct: 5600\nn: 10 \t\nfirstmax: 80 . secondmax: 70\nProduct: 5600\nn: 12 \t\nfirstmax: 80 . secondmax: 70\nProduct: 5600\nn: 17 \t\nfirstmax: 80 . secondmax: 70\nProduct: 5600\nn: 9 \t\nfirstmax: 80 . secondmax: 70\nProduct: 5600\nn: 17 \t\nfirstmax: 80 . secondmax: 70\nProduct: 5600\nn: 10 \t\nfirstmax: 80 . secondmax: 70\nProduct: 5600\nn: 3 \t\nfirstmax: 62 . secondmax: 3\nProduct: 186\nn: 2 \t\nfirstmax: 62 . secondmax: 1\nProduct: 62\nn: 19 \t\nfirstmax: 80 . secondmax: 70\nProduct: 5600\nn: 8 \t\nfirstmax: 80 . secondmax: 70\nProduct: 5600\nn: 3 \t\nfirstmax: 62 . secondmax: 3\nProduct: 186\nn: 14 \t\nfirstmax: 80 . secondmax: 70\nProduct: 5600\nn: 3 \t\nfirstmax: 62 . secondmax: 3\nProduct: 186\nn: 5 \t\nfirstmax: 62 . secondmax: 10\nProduct: 620\n",
          "output_type": "stream"
        }
      ],
      "execution_count": 231
    },
    {
      "cell_type": "markdown",
      "source": "### Test 4: Time test measure the execution time running with the the largest worst case file (200000 increasing numbers, 200000 and 200000 the end)",
      "metadata": {
        "tags": [],
        "cell_id": "00111-62eb597f-7c2f-4aa8-a555-cfb67e6336a4",
        "deepnote_cell_type": "markdown"
      }
    },
    {
      "cell_type": "code",
      "source": "%%time\n# Efficient algorithm\ndef max_pairwise_product(seq):\n    largest = 0\n    second_largest = 0\n\n    for elt in seq:\n        if elt > largest:\n            second_largest = largest\n            largest = elt\n        elif elt > second_largest:\n            second_largest = elt\n    return second_largest * largest\n\n\n# Open file and convert it into array\nwith open('input3.txt') as f:\n    next(f)\n    mylist = [int(x) for x in f.read().split()]\n    mylist[0] = 200000\n\nprint(max_pairwise_product(mylist))",
      "metadata": {
        "tags": [],
        "cell_id": "00112-de412e05-ab96-4dbe-b156-1a8ba7f97c60",
        "deepnote_to_be_reexecuted": false,
        "source_hash": "a10aabab",
        "execution_millis": 114,
        "execution_start": 1618002927264,
        "deepnote_cell_type": "code"
      },
      "outputs": [
        {
          "name": "stdout",
          "text": "40000000000\nCPU times: user 95 ms, sys: 12 ms, total: 107 ms\nWall time: 107 ms\n",
          "output_type": "stream"
        }
      ],
      "execution_count": 269
    },
    {
      "cell_type": "markdown",
      "source": "### Stress testing",
      "metadata": {
        "tags": [],
        "cell_id": "00042-7a0badeb-eaec-44f3-aa55-9e8e1a1276d6",
        "deepnote_cell_type": "markdown"
      }
    },
    {
      "cell_type": "code",
      "metadata": {
        "tags": [],
        "cell_id": "00041-662e2474-d43d-4249-b39e-b242a385f30a",
        "deepnote_to_be_reexecuted": false,
        "source_hash": "46c0dea7",
        "execution_millis": 13,
        "output_cleared": false,
        "execution_start": 1618002950699,
        "deepnote_cell_type": "code"
      },
      "source": "# Stress testing\nfrom random import randint\n\ndef max_prod_stress(N,M):\n    # As both algorithms work, the cycle never stops.\n    for i in range(20):\n        n = randint(2,N)\n        A = [None]*n\n        for i in range(n):\n            A[i] = randint(0,M)\n        print(A)\n        result1 = max_pairwise_naive(A)\n        result2 = max_pairwise_product(A)\n        if result1 == result2:\n            print('Both answers are the same')\n        else:\n            print('Wrong answer:',result1,result2)\n            return\n\nmax_prod_stress(10,100);",
      "execution_count": 270,
      "outputs": [
        {
          "name": "stdout",
          "text": "[70, 1, 1]\nOperaciones:  23\nBoth answers are the same\n[28, 42]\nOperaciones:  10\nBoth answers are the same\n[81, 32, 59, 1, 81, 45, 72, 36, 73, 70]\nOperaciones:  282\nBoth answers are the same\n[98, 83, 98]\nOperaciones:  23\nBoth answers are the same\n[27, 21, 21, 67, 77]\nOperaciones:  67\nBoth answers are the same\n[89, 56]\nOperaciones:  10\nBoth answers are the same\n[55, 83, 9, 0, 93, 83]\nOperaciones:  98\nBoth answers are the same\n[84, 84, 45, 80, 30, 4, 91, 63, 98, 4]\nOperaciones:  282\nBoth answers are the same\n[74, 23, 31, 82, 68, 28]\nOperaciones:  98\nBoth answers are the same\n[85, 10, 89, 16, 24, 20, 8, 63, 77, 78]\nOperaciones:  282\nBoth answers are the same\n[88, 47, 90, 32, 66, 85, 34, 72]\nOperaciones:  178\nBoth answers are the same\n[3, 82, 12]\nOperaciones:  23\nBoth answers are the same\n[70, 60, 72, 67, 19]\nOperaciones:  67\nBoth answers are the same\n[19, 41, 67, 18]\nOperaciones:  42\nBoth answers are the same\n[71, 48, 74, 37, 72]\nOperaciones:  67\nBoth answers are the same\n[49, 55, 48, 26]\nOperaciones:  42\nBoth answers are the same\n[22, 46, 74, 51, 54]\nOperaciones:  67\nBoth answers are the same\n[88, 49, 50, 23, 98, 43, 98]\nOperaciones:  135\nBoth answers are the same\n[88, 35, 51, 45, 69, 31, 90, 36, 79]\nOperaciones:  227\nBoth answers are the same\n[62, 82, 31, 26]\nOperaciones:  42\nBoth answers are the same\n",
          "output_type": "stream"
        }
      ]
    },
    {
      "cell_type": "markdown",
      "source": "### Algorithmic Toolbox coursera",
      "metadata": {
        "tags": [],
        "cell_id": "00123-0e0d44d6-d495-46ad-98da-ddddb2bfe579",
        "deepnote_cell_type": "markdown"
      }
    },
    {
      "cell_type": "code",
      "source": "from IPython.display import display, Image\ndisplay(Image(filename='/work/CourseraMaximumPairwiseProduct.jpg'))\ndisplay(Image(filename='/work/CourseraSumofTwoDigits.jpg'))",
      "metadata": {
        "tags": [],
        "cell_id": "00123-2636923f-aca6-4761-b2a4-5a9d61767ed6",
        "deepnote_to_be_reexecuted": false,
        "source_hash": "bb35d4af",
        "execution_millis": 28,
        "execution_start": 1618004096557,
        "deepnote_cell_type": "code"
      },
      "outputs": [
        {
          "data": {
            "image/jpeg": "[encoded data removed]",
            "text/plain": "<IPython.core.display.Image object>"
          },
          "metadata": {},
          "output_type": "display_data"
        },
        {
          "data": {
            "image/jpeg": "[encoded data removed]",
            "text/plain": "<IPython.core.display.Image object>"
          },
          "metadata": {},
          "output_type": "display_data"
        }
      ],
      "execution_count": 273
    },
    {
      "cell_type": "markdown",
      "source": "<a style='text-decoration:none;line-height:16px;display:flex;color:#5B5B62;padding:10px;justify-content:end;' href='https://deepnote.com?utm_source=created-in-deepnote-cell&projectId=3f8c6564-39de-458b-9d41-98dba29a0d7c' target=\"_blank\">\n<img alt='Created in deepnote.com' style='display:inline;max-height:16px;margin:0px;margin-right:7.5px;' src='data:image/svg+xml;base64,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' > </img>\nCreated in <span style='font-weight:600;margin-left:4px;'>Deepnote</span></a>",
      "metadata": {
        "tags": [],
        "created_in_deepnote_cell": true,
        "deepnote_cell_type": "markdown"
      }
    }
  ],
  "nbformat": 4,
  "nbformat_minor": 0,
  "metadata": {
    "colab": {
      "name": "gjhernandezpAlgorithmicToolboxWeek1.ipynb",
      "provenance": [],
      "collapsed_sections": []
    },
    "kernelspec": {
      "name": "python3",
      "display_name": "Python 3"
    },
    "language_info": {
      "name": "python"
    },
    "deepnote_notebook_id": "dad4708c-57c3-448b-89f7-e7b5f7257efa",
    "deepnote": {},
    "deepnote_execution_queue": []
  }
}