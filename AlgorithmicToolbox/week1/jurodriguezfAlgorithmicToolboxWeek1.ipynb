{
  "cells": [
    {
      "cell_type": "markdown",
      "source": "# I Solving the Sum of Two Digits Programming Challenge",
      "metadata": {
        "id": "N1ok_-56OjB1",
        "cell_id": "00000-6ab30712-3432-462b-8e0e-4c1072740b27",
        "deepnote_cell_type": "markdown"
      }
    },
    {
      "cell_type": "markdown",
      "source": "## C++",
      "metadata": {
        "id": "MMY7kmDSO0KM",
        "cell_id": "00001-6d90503b-896b-4c09-b043-1d63ba483763",
        "deepnote_cell_type": "markdown"
      }
    },
    {
      "cell_type": "code",
      "metadata": {
        "colab": {
          "base_uri": "https://localhost:8080/"
        },
        "id": "2pGGf9BkPNIk",
        "outputId": "8a3759b9-3d79-4473-ce1f-b6d815d6de1b",
        "cell_id": "00002-85b9eec2-cb56-44b8-b295-7015d2f69f16",
        "deepnote_to_be_reexecuted": false,
        "source_hash": "95290c32",
        "execution_millis": 14,
        "execution_start": 1616976647734,
        "deepnote_cell_type": "code"
      },
      "source": "%%writefile sum.cpp\n#include <iostream>\n\nint sum_of_two_digits(int first_digit, int second_digit) {\n    return first_digit + second_digit;\n}\n\nint main() {\n    int a = 0;\n    int b = 0;\n    std::cin >> a;\n    std::cin >> b;\n    std::cout << sum_of_two_digits(a, b);\n    return 0;\n}",
      "execution_count": 1,
      "outputs": [
        {
          "name": "stdout",
          "text": "Overwriting sum.cpp\n",
          "output_type": "stream"
        }
      ]
    },
    {
      "cell_type": "code",
      "metadata": {
        "colab": {
          "base_uri": "https://localhost:8080/"
        },
        "id": "0G3ZKOYAPXSU",
        "outputId": "271ca233-f90a-43bc-d849-c3b175688461",
        "cell_id": "00003-1cdedd49-a7ba-4f98-8393-ca6327b44680",
        "deepnote_to_be_reexecuted": false,
        "source_hash": "254dc972",
        "execution_millis": 1526,
        "execution_start": 1616976647741,
        "deepnote_cell_type": "code"
      },
      "source": "!g++ sum.cpp -o sum\n!./sum < input2.txt",
      "execution_count": 2,
      "outputs": [
        {
          "name": "stdout",
          "text": "4",
          "output_type": "stream"
        }
      ]
    },
    {
      "cell_type": "markdown",
      "source": "### Test input output files",
      "metadata": {
        "id": "iNkG2HqfTl9c",
        "cell_id": "00004-c7127bc4-c952-423a-87f9-133599ce1b22",
        "deepnote_cell_type": "markdown"
      }
    },
    {
      "cell_type": "code",
      "metadata": {
        "colab": {
          "base_uri": "https://localhost:8080/"
        },
        "id": "aTzU2efzMxly",
        "outputId": "b3ee57f0-3ebe-4618-b36a-cba2dbb3a358",
        "cell_id": "00005-965716cc-b768-4e7f-9d88-013bd6e2689e",
        "deepnote_to_be_reexecuted": false,
        "source_hash": "fadeebb9",
        "execution_millis": 10,
        "execution_start": 1616976649261,
        "deepnote_cell_type": "code"
      },
      "source": "%%writefile input1.txt\n4 8",
      "execution_count": 3,
      "outputs": [
        {
          "name": "stdout",
          "text": "Overwriting input1.txt\n",
          "output_type": "stream"
        }
      ]
    },
    {
      "cell_type": "code",
      "metadata": {
        "colab": {
          "base_uri": "https://localhost:8080/"
        },
        "id": "zBJ0Gc0NQRet",
        "outputId": "eb8c08e1-c84d-45bf-d75f-5fa6dc9db8ad",
        "cell_id": "00007-ae034c1f-a2ff-441d-9dbb-3cd201e5a144",
        "deepnote_to_be_reexecuted": false,
        "source_hash": "cfab1a8b",
        "execution_millis": 11,
        "execution_start": 1616976649269,
        "deepnote_cell_type": "code"
      },
      "source": "%%writefile output1.txt\n12",
      "execution_count": 4,
      "outputs": [
        {
          "name": "stdout",
          "text": "Overwriting output1.txt\n",
          "output_type": "stream"
        }
      ]
    },
    {
      "cell_type": "code",
      "metadata": {
        "colab": {
          "base_uri": "https://localhost:8080/"
        },
        "id": "IjEcIx63PJAN",
        "outputId": "d12de767-3ab3-48be-d9e9-0b42144080aa",
        "cell_id": "00008-289ee00c-f103-4e05-97af-98b61772561e",
        "deepnote_to_be_reexecuted": false,
        "source_hash": "5510be02",
        "execution_millis": 8,
        "execution_start": 1616976649276,
        "deepnote_cell_type": "code"
      },
      "source": "%%writefile input2.txt\n-5 9",
      "execution_count": 5,
      "outputs": [
        {
          "name": "stdout",
          "text": "Overwriting input2.txt\n",
          "output_type": "stream"
        }
      ]
    },
    {
      "cell_type": "code",
      "metadata": {
        "colab": {
          "base_uri": "https://localhost:8080/"
        },
        "id": "Up9gOrxURTmd",
        "outputId": "8b1ffc9a-b9d2-4b03-9e0e-a25ae27a64b3",
        "cell_id": "00009-0431fe26-3bc4-4d1a-9df7-e67d71d8d030",
        "deepnote_to_be_reexecuted": false,
        "source_hash": "7412da69",
        "execution_millis": 8,
        "execution_start": 1616976649323,
        "deepnote_cell_type": "code"
      },
      "source": "%%writefile output2.txt\n4",
      "execution_count": 6,
      "outputs": [
        {
          "name": "stdout",
          "text": "Overwriting output2.txt\n",
          "output_type": "stream"
        }
      ]
    },
    {
      "cell_type": "code",
      "metadata": {
        "colab": {
          "base_uri": "https://localhost:8080/"
        },
        "id": "PST6G-s-Pwgc",
        "outputId": "069de8c1-7dbb-4c2b-bfc5-f1c7550d5c4f",
        "cell_id": "00010-15df3ec1-ed07-4c1a-aa0b-741a9df4cd90",
        "deepnote_to_be_reexecuted": false,
        "source_hash": "ccc410e6",
        "execution_millis": 608,
        "execution_start": 1616976649324,
        "deepnote_cell_type": "code"
      },
      "source": "!./sum < input1.txt",
      "execution_count": 7,
      "outputs": [
        {
          "name": "stdout",
          "text": "12",
          "output_type": "stream"
        }
      ]
    },
    {
      "cell_type": "code",
      "metadata": {
        "colab": {
          "base_uri": "https://localhost:8080/"
        },
        "id": "cKxZOjSlRfIN",
        "outputId": "d5946364-d492-4049-8bb5-5fedd2c3a253",
        "cell_id": "00011-1de42ff2-5567-4672-94e6-9eb9d508d819",
        "deepnote_to_be_reexecuted": false,
        "source_hash": "502da1a9",
        "execution_millis": 644,
        "execution_start": 1616976649933,
        "deepnote_cell_type": "code"
      },
      "source": "!./sum < input2.txt",
      "execution_count": 8,
      "outputs": [
        {
          "name": "stdout",
          "text": "4",
          "output_type": "stream"
        }
      ]
    },
    {
      "cell_type": "markdown",
      "source": "### Comparing files with grep\n\nhttps://askubuntu.com/questions/546796/comparing-two-text-files",
      "metadata": {
        "id": "Qw2TQWCCUwqk",
        "cell_id": "00013-9638c1fb-982d-466a-b860-13e9f672bec6",
        "deepnote_cell_type": "markdown"
      }
    },
    {
      "cell_type": "code",
      "metadata": {
        "id": "WVIaAmMKU4QM",
        "cell_id": "00014-65ee4146-ab48-46e8-9f1e-006c9ce33107",
        "deepnote_to_be_reexecuted": false,
        "source_hash": "474ebaf4",
        "execution_millis": 640,
        "execution_start": 1616976650574,
        "deepnote_cell_type": "code"
      },
      "source": "!grep -xvFf output1.txt output1.txt ",
      "execution_count": 9,
      "outputs": []
    },
    {
      "cell_type": "code",
      "metadata": {
        "colab": {
          "base_uri": "https://localhost:8080/"
        },
        "id": "MQU8gPPjQuYO",
        "outputId": "c700e9c9-2d36-4d64-faac-f7cefe711e08",
        "cell_id": "00015-157b716d-3a1c-4cc7-b41f-18ba89299d11",
        "deepnote_to_be_reexecuted": false,
        "source_hash": "4291cbd4",
        "execution_millis": 637,
        "execution_start": 1616976651220,
        "deepnote_cell_type": "code"
      },
      "source": "!grep -xvFf output1.txt output2.txt ",
      "execution_count": 10,
      "outputs": [
        {
          "name": "stdout",
          "text": "4\r\n",
          "output_type": "stream"
        }
      ]
    },
    {
      "cell_type": "code",
      "metadata": {
        "colab": {
          "base_uri": "https://localhost:8080/"
        },
        "id": "jYL9OuYBTD_l",
        "outputId": "03cba134-2ad3-4251-a72c-a8a5ab76aad3",
        "cell_id": "00016-f2a319f2-dcb6-4414-af78-7e2d8bf07815",
        "deepnote_to_be_reexecuted": false,
        "source_hash": "e71a28de",
        "execution_millis": 642,
        "execution_start": 1616976651861,
        "deepnote_cell_type": "code"
      },
      "source": "!grep -xvFf output2.txt output1.txt ",
      "execution_count": 11,
      "outputs": [
        {
          "name": "stdout",
          "text": "12\r\n",
          "output_type": "stream"
        }
      ]
    },
    {
      "cell_type": "code",
      "metadata": {
        "id": "Jlja0Xm4TX9M",
        "cell_id": "00017-d6beeecc-b093-44f9-952d-a2cb6ec5a674",
        "deepnote_to_be_reexecuted": false,
        "source_hash": "97465882",
        "execution_millis": 1282,
        "execution_start": 1616976652506,
        "deepnote_cell_type": "code"
      },
      "source": "!./sum < input1.txt> ctest1.txt\n!grep -xvFf output1.txt ctest1.txt",
      "execution_count": 12,
      "outputs": []
    },
    {
      "cell_type": "code",
      "metadata": {
        "id": "g9OIUZA_QLCQ",
        "cell_id": "00018-5b8f9030-69a6-47ac-877d-e1440528157c",
        "deepnote_to_be_reexecuted": false,
        "source_hash": "f6e9fb58",
        "execution_millis": 1284,
        "execution_start": 1616976653792,
        "deepnote_cell_type": "code"
      },
      "source": "!./sum < input2.txt > ctest2.txt\n!grep -xvFf output2.txt ctest2.txt",
      "execution_count": 13,
      "outputs": []
    },
    {
      "cell_type": "markdown",
      "source": "## Python",
      "metadata": {
        "id": "3BgOaDjUVJk6",
        "cell_id": "00019-00a88733-f768-4a8f-9b2c-b2141d7f5fb3",
        "deepnote_cell_type": "markdown"
      }
    },
    {
      "cell_type": "code",
      "metadata": {
        "colab": {
          "base_uri": "https://localhost:8080/"
        },
        "id": "DBvl-T0CTN_8",
        "outputId": "4965153b-ad00-481e-a0be-007c4ec4a079",
        "cell_id": "00020-e71681a7-a1a2-46f9-8167-4df49e715176",
        "deepnote_to_be_reexecuted": false,
        "source_hash": "1cff20cb",
        "execution_millis": 12,
        "execution_start": 1616976655080,
        "deepnote_cell_type": "code"
      },
      "source": "%%writefile sum.py\n# python3\n\n\ndef sum_of_two_digits(first_digit, second_digit):\n    return first_digit + second_digit\n\nif __name__ == '__main__':\n    a, b = map(int, input().split())\n    print(sum_of_two_digits(a, b))",
      "execution_count": 14,
      "outputs": [
        {
          "name": "stdout",
          "text": "Overwriting sum.py\n",
          "output_type": "stream"
        }
      ]
    },
    {
      "cell_type": "code",
      "metadata": {
        "colab": {
          "base_uri": "https://localhost:8080/"
        },
        "id": "QKoKM11_WGyF",
        "outputId": "684fb7e7-eb60-46ae-8394-cb8dbb98b3fb",
        "cell_id": "00021-f3fd9a8c-7718-4665-9d2b-02302aa22775",
        "deepnote_to_be_reexecuted": false,
        "source_hash": "3325df10",
        "execution_millis": 661,
        "output_cleared": false,
        "execution_start": 1616976655089,
        "deepnote_cell_type": "code"
      },
      "source": "!python sum.py <input2.txt",
      "execution_count": 15,
      "outputs": [
        {
          "name": "stdout",
          "text": "4\r\n",
          "output_type": "stream"
        }
      ]
    },
    {
      "cell_type": "code",
      "metadata": {
        "id": "cocFbPRTWrqt",
        "cell_id": "00022-1bf7c8c6-c7f0-4271-bf43-712c92d74a40",
        "deepnote_to_be_reexecuted": false,
        "source_hash": "286aa15b",
        "execution_millis": 1364,
        "execution_start": 1616976655747,
        "deepnote_cell_type": "code"
      },
      "source": "!python sum.py  < input1.txt> ptest1.txt\n!grep -xvFf output1.txt ptest1.txt",
      "execution_count": 16,
      "outputs": []
    },
    {
      "cell_type": "code",
      "metadata": {
        "id": "MorKTa-XXASN",
        "cell_id": "00023-e20d2972-b0f1-498b-adfc-e444b5825a2c",
        "deepnote_to_be_reexecuted": false,
        "source_hash": "1326fddd",
        "execution_millis": 1306,
        "execution_start": 1616976657115,
        "deepnote_cell_type": "code"
      },
      "source": "!python sum.py  < input2.txt> ptest2.txt\n!grep -xvFf output2.txt ptest2.txt",
      "execution_count": 17,
      "outputs": []
    },
    {
      "cell_type": "markdown",
      "source": "# II Solving The Maximum Pairwise Product Programming Challenge in C++",
      "metadata": {
        "id": "uvP-mOubW_5F",
        "cell_id": "00024-a52e11c8-1acf-4f98-a8db-d60d3fd83910",
        "deepnote_cell_type": "markdown"
      }
    },
    {
      "cell_type": "markdown",
      "source": "## C++",
      "metadata": {
        "id": "C12yoFR6Xonl",
        "cell_id": "00025-8e4beda1-da84-4247-989c-4f5068cdb8e6",
        "deepnote_cell_type": "markdown"
      }
    },
    {
      "cell_type": "markdown",
      "source": "### 200.000 number generation (C)",
      "metadata": {
        "tags": [],
        "cell_id": "00025-b9b41bc6-2583-45f8-b16d-439b8f1e99f1",
        "deepnote_cell_type": "markdown"
      }
    },
    {
      "cell_type": "code",
      "source": "# Number generation\nimport random\nline= str(200000)+\"\\n\"\n\nrandfile = open(\"testfileC.txt\", \"w\" )\nrandfile.write(line)\nfor i in range(200000):\n    line = str(random.randint(1, 200000)) + \" \"\n    randfile.write(line)\n\nrandfile.close()\nprint('Data written to testfileC.txt')",
      "metadata": {
        "tags": [],
        "cell_id": "00025-bf39bbf6-a4f9-45ee-a8a1-590f31d0193d",
        "deepnote_cell_type": "code"
      },
      "outputs": [],
      "execution_count": null
    },
    {
      "cell_type": "markdown",
      "source": "### Naive solution",
      "metadata": {
        "tags": [],
        "cell_id": "00025-46f208ab-ab88-4f89-a9ad-75fe8cecd9cd",
        "deepnote_cell_type": "markdown"
      }
    },
    {
      "cell_type": "code",
      "metadata": {
        "colab": {
          "base_uri": "https://localhost:8080/"
        },
        "id": "YL4qJX3tXxdd",
        "outputId": "8eaa34d4-52e7-4661-e22e-98055fc719e5",
        "cell_id": "00026-a7a14e87-f191-43c8-9864-6a0daa4017ce",
        "deepnote_to_be_reexecuted": false,
        "source_hash": "15d198ce",
        "execution_millis": 10,
        "execution_start": 1616976658427,
        "deepnote_cell_type": "code"
      },
      "source": "%%writefile max_pairwise_product1.cpp\n#include <iostream>\n#include <vector>\n#include <algorithm>\n\nint MaxPairwiseProduct(const std::vector<int>& numbers) {\n    int max_product = 0;\n    int n = numbers.size();\n\n    for (int first = 0; first < n; ++first) {\n        for (int second = first + 1; second < n; ++second) {\n            max_product = std::max(max_product,\n                numbers[first] * numbers[second]);\n        }\n    }\n\n    return max_product;\n}\n\nint main() {\n    int n;\n    std::cin >> n;\n    std::vector<int> numbers(n);\n    for (int i = 0; i < n; ++i) {\n        std::cin >> numbers[i];\n    }\n\n    std::cout << MaxPairwiseProduct(numbers) << \"\\n\";\n    return 0;\n}\n",
      "execution_count": 18,
      "outputs": [
        {
          "name": "stdout",
          "text": "Overwriting max_pairwise_product1.cpp\n",
          "output_type": "stream"
        }
      ]
    },
    {
      "cell_type": "code",
      "metadata": {
        "colab": {
          "base_uri": "https://localhost:8080/"
        },
        "id": "KGxaEjvWX__O",
        "outputId": "05843964-7c68-4b8f-84c9-07d54b39b703",
        "cell_id": "00027-8851e1be-6003-43c9-9716-0d06078cf0fe",
        "deepnote_to_be_reexecuted": false,
        "source_hash": "a0d18cf2",
        "execution_millis": 1598,
        "output_cleared": false,
        "execution_start": 1616980142982,
        "deepnote_cell_type": "code"
      },
      "source": "%%time\n!g++ max_pairwise_product1.cpp -o max_pairwise_product1\n!./max_pairwise_product1 <input1.txt",
      "execution_count": 96,
      "outputs": [
        {
          "name": "stdout",
          "text": "1345294336\nCPU times: user 12.2 ms, sys: 8.11 ms, total: 20.3 ms\nWall time: 1.6 s\n",
          "output_type": "stream"
        }
      ]
    },
    {
      "cell_type": "markdown",
      "source": "### Efficient solution",
      "metadata": {
        "tags": [],
        "cell_id": "00030-269246f0-15a3-4375-8740-a4e3e2acdd17",
        "deepnote_cell_type": "markdown"
      }
    },
    {
      "cell_type": "code",
      "source": "%%writefile max_pairwise_product_c_efficientc.cpp\n#include <iostream>\n#include <vector>\n#include <algorithm>\n\nlong long int MaxPairwiseProduct(const std::vector<int> &numbers)\n{\n    long long int max_product = 0;\n    int n = numbers.size();\n    int first = -1;\n    int second = -1;\n    for (int i = 0; i < n; i++)\n    {\n        int number = numbers.at(i);\n        if (number > first)\n        {\n            second = first;\n            first = number;\n        }\n        else if (number > second)\n        {\n            second = number;\n        }\n    }\n\n    max_product = ((long long)first) * second;\n    return max_product;\n}\n\nint main()\n{\n    int n;\n    std::cin >> n;\n    std::vector<int> numbers(n);\n    for (int i = 0; i < n; ++i)\n    {\n        std::cin >> numbers[i];\n    }\n\n    std::cout << MaxPairwiseProduct(numbers) << \"\\n\";\n    return 0;\n}",
      "metadata": {
        "tags": [],
        "cell_id": "00029-4a4d7059-8af6-4151-b5d6-38b5cba83163",
        "deepnote_to_be_reexecuted": false,
        "source_hash": "20d43ca4",
        "execution_millis": 6,
        "execution_start": 1616979815530,
        "deepnote_cell_type": "code"
      },
      "outputs": [
        {
          "name": "stdout",
          "text": "Overwriting max_pairwise_product_c_efficientc.cpp\n",
          "output_type": "stream"
        }
      ],
      "execution_count": 87
    },
    {
      "cell_type": "code",
      "source": "%%time\n!g++ max_pairwise_product_c_efficientc.cpp -o max_pairwise_product_c_efficientc",
      "metadata": {
        "tags": [],
        "cell_id": "00030-1dca2a58-6088-4883-8c43-c2f99126679c",
        "deepnote_to_be_reexecuted": false,
        "source_hash": "d0180a83",
        "execution_millis": 905,
        "execution_start": 1616979898474,
        "deepnote_cell_type": "code"
      },
      "outputs": [
        {
          "name": "stdout",
          "text": "CPU times: user 2.02 ms, sys: 12 ms, total: 14 ms\nWall time: 941 ms\n",
          "output_type": "stream"
        }
      ],
      "execution_count": 91
    },
    {
      "cell_type": "code",
      "source": "%%time\n!./max_pairwise_product_c_efficientc <testfileC.txt",
      "metadata": {
        "tags": [],
        "cell_id": "00032-ea0546d6-f145-456a-ad1a-e9830d3dce33",
        "deepnote_to_be_reexecuted": false,
        "source_hash": "52ce9c31",
        "execution_start": 1616979906455,
        "execution_millis": 708,
        "deepnote_cell_type": "code"
      },
      "outputs": [
        {
          "name": "stdout",
          "text": "40000000000\nCPU times: user 6.51 ms, sys: 3.99 ms, total: 10.5 ms\nWall time: 706 ms\n",
          "output_type": "stream"
        }
      ],
      "execution_count": 92
    },
    {
      "cell_type": "markdown",
      "source": "### Test: largest input numbers 200000 200000 in the input",
      "metadata": {
        "id": "IeZ3kTjpYmR9",
        "cell_id": "00028-5a683d1b-1c3c-43e5-9616-64a63d387b01",
        "deepnote_cell_type": "markdown"
      }
    },
    {
      "cell_type": "code",
      "metadata": {
        "colab": {
          "base_uri": "https://localhost:8080/"
        },
        "id": "LQNlZqaqYt7U",
        "outputId": "1ca93a74-1d34-45e9-af1d-0dc053b80e03",
        "cell_id": "00029-3b294904-9d06-439d-b350-9d6225217f01",
        "deepnote_to_be_reexecuted": false,
        "source_hash": "dade9dfc",
        "execution_millis": 9,
        "execution_start": 1616976660018,
        "deepnote_cell_type": "code"
      },
      "source": "%%writefile input1.txt\n5\n1 3 200000 9 200000 23",
      "execution_count": 20,
      "outputs": [
        {
          "name": "stdout",
          "text": "Overwriting input1.txt\n",
          "output_type": "stream"
        }
      ]
    },
    {
      "cell_type": "code",
      "metadata": {
        "colab": {
          "base_uri": "https://localhost:8080/"
        },
        "id": "2Wad2VZUZDxR",
        "outputId": "2e838aaf-e9c9-4901-e745-3b2289e16135",
        "cell_id": "00030-4e73f364-d120-445a-bc7e-4d34e3582db7",
        "deepnote_to_be_reexecuted": false,
        "source_hash": "67d90120",
        "execution_millis": 638,
        "execution_start": 1616976660023,
        "deepnote_cell_type": "code"
      },
      "source": "!./max_pairwise_product1 < input1.txt",
      "execution_count": 21,
      "outputs": [
        {
          "name": "stdout",
          "text": "1345294336\r\n",
          "output_type": "stream"
        }
      ]
    },
    {
      "cell_type": "code",
      "metadata": {
        "colab": {
          "base_uri": "https://localhost:8080/"
        },
        "id": "I5pCeOG1Zm7s",
        "outputId": "5c34e461-24a6-4fb8-e8d8-2275619f9227",
        "cell_id": "00032-49546c62-4799-48f5-b651-583145f2a168",
        "deepnote_to_be_reexecuted": false,
        "source_hash": "2b575a54",
        "execution_millis": 1590,
        "execution_start": 1616976660676,
        "deepnote_cell_type": "code"
      },
      "source": "!g++ max_pairwise_product2.cpp -o max_pairwise_product2\n!./max_pairwise_product2 < input1.txt",
      "execution_count": 23,
      "outputs": [
        {
          "name": "stdout",
          "text": "40000000000\r\n",
          "output_type": "stream"
        }
      ]
    },
    {
      "cell_type": "markdown",
      "source": "## Python",
      "metadata": {
        "tags": [],
        "cell_id": "00033-a2e9c477-1f5c-4c0b-9821-9a55052069c2",
        "deepnote_cell_type": "markdown"
      }
    },
    {
      "cell_type": "markdown",
      "source": "### Test 2  generate a tests file with the maximun n 200000 numbers and measure time",
      "metadata": {
        "id": "9z9yr5QkeyJF",
        "cell_id": "00033-38d32848-7c3f-43fa-90f4-e94b60246f79",
        "deepnote_cell_type": "markdown"
      }
    },
    {
      "cell_type": "code",
      "metadata": {
        "id": "oLiMjbAIfPlX",
        "cell_id": "00034-7e000ec5-f230-4dc2-a59d-fc336acb97d4",
        "deepnote_to_be_reexecuted": false,
        "source_hash": "99ab6ea6",
        "execution_millis": 324,
        "execution_start": 1616978836194,
        "deepnote_cell_type": "code"
      },
      "source": "%%time\n# Number generation\nimport random\n\nrandfile = open(\"testfile.txt\", \"w\" )\nfor i in range(200000):\n    line = str(random.randint(1, 200000)) + \" \"\n    randfile.write(line)\n\nrandfile.close()\nprint('Data written to testfile.txt')",
      "execution_count": 72,
      "outputs": [
        {
          "name": "stdout",
          "text": "Data written to testfile.txt\n",
          "output_type": "stream"
        }
      ]
    },
    {
      "cell_type": "markdown",
      "source": "### Efficient solution",
      "metadata": {
        "tags": [],
        "cell_id": "00036-2c957b3c-9f18-4c0b-bdf0-93ccccc4c5d1",
        "deepnote_cell_type": "markdown"
      }
    },
    {
      "cell_type": "code",
      "metadata": {
        "tags": [],
        "cell_id": "00039-0aa95455-f87f-447d-9d62-524c4b12b630",
        "deepnote_to_be_reexecuted": false,
        "source_hash": "34cab53f",
        "execution_millis": 9,
        "output_cleared": false,
        "execution_start": 1616977322114,
        "deepnote_cell_type": "code"
      },
      "source": "%%writefile max_pairwise_product.py\n\n#Efficient\n\ndef max_pairwise_product(seq):\n    largest = 0\n    second_largest = 0\n\n    for elt in seq:\n        if elt > largest:\n            second_largest = largest\n            largest = elt\n        elif elt > second_largest:\n            second_largest = elt\n    return second_largest * largest",
      "execution_count": 53,
      "outputs": [
        {
          "name": "stdout",
          "text": "Overwriting max_pairwise_product.py\n",
          "output_type": "stream"
        }
      ]
    },
    {
      "cell_type": "markdown",
      "source": "### Naive solution",
      "metadata": {
        "tags": [],
        "cell_id": "00038-210600a5-c141-4e51-9949-64e10767d04e",
        "deepnote_cell_type": "markdown"
      }
    },
    {
      "cell_type": "code",
      "metadata": {
        "tags": [],
        "cell_id": "00040-40a704f1-e4a0-4f76-8d45-1bec47a36782",
        "deepnote_to_be_reexecuted": false,
        "source_hash": "9053dd21",
        "execution_millis": 3,
        "execution_start": 1616976662603,
        "deepnote_cell_type": "code"
      },
      "source": "# Naive solution\n\ndef max_pairwise_naive(arr):\n    max_product = 0\n    for i in range(len(arr)):\n        for j in range(i+1,len(arr)):\n            max_product = max(max_product,arr[i]*arr[j])\n    return max_product",
      "execution_count": 26,
      "outputs": []
    },
    {
      "cell_type": "markdown",
      "source": "### Test",
      "metadata": {
        "tags": [],
        "cell_id": "00040-c907c1d5-9f6c-42f1-918e-6b4d2f49d9e3",
        "deepnote_cell_type": "markdown"
      }
    },
    {
      "cell_type": "code",
      "metadata": {
        "tags": [],
        "cell_id": "00041-43f1f695-3722-4457-b62a-b4a20fcb1b03",
        "deepnote_to_be_reexecuted": false,
        "source_hash": "bf219c5c",
        "execution_millis": 8,
        "output_cleared": false,
        "execution_start": 1616980066431,
        "deepnote_cell_type": "code"
      },
      "source": "%%time\n# Efficient solution\n\n#input_numbers = [int(x) for x in input().split()]\n#print(max_pairwise_product(input_numbers))\n\narr = [1,2,41,9845,12,4]\nprint(max_pairwise_product(arr))",
      "execution_count": 94,
      "outputs": [
        {
          "name": "stdout",
          "text": "403645\nCPU times: user 231 µs, sys: 42 µs, total: 273 µs\nWall time: 232 µs\n",
          "output_type": "stream"
        }
      ]
    },
    {
      "cell_type": "code",
      "source": "%%time\n# Naive solution\n\n#input_numbers = [int(x) for x in input().split()]\n#print(max_pairwise_naive(input_numbers))\n\narr = [1,2,41,9845,12,4]\nprint(max_pairwise_naive(arr))",
      "metadata": {
        "tags": [],
        "cell_id": "00046-cfc4237f-f66f-48e5-8bab-0dd57a4e07d5",
        "deepnote_to_be_reexecuted": false,
        "source_hash": "51ef6608",
        "execution_start": 1616980077086,
        "execution_millis": 10,
        "deepnote_cell_type": "code"
      },
      "outputs": [
        {
          "name": "stdout",
          "text": "403645\nCPU times: user 282 µs, sys: 52 µs, total: 334 µs\nWall time: 294 µs\n",
          "output_type": "stream"
        }
      ],
      "execution_count": 95
    },
    {
      "cell_type": "markdown",
      "source": "### File test",
      "metadata": {
        "tags": [],
        "cell_id": "00041-5c10e384-a1d5-47fc-a944-1187ce114862",
        "deepnote_cell_type": "markdown"
      }
    },
    {
      "cell_type": "code",
      "source": "%%writefile max_pairwise_product.py\n\n# Efficient algorithm\ndef max_pairwise_product(seq):\n    largest = 0\n    second_largest = 0\n\n    for elt in seq:\n        if elt > largest:\n            second_largest = largest\n            largest = elt\n        elif elt > second_largest:\n            second_largest = elt\n    return second_largest * largest\n\n\n# Open file and convert it into array\nwith open('testfile.txt') as f:\n    mylist = [int(x) for x in f.read().split()]\n\nprint(max_pairwise_product(mylist))",
      "metadata": {
        "tags": [],
        "cell_id": "00041-c455057c-790c-433f-b83c-d1719acee5fa",
        "deepnote_to_be_reexecuted": false,
        "source_hash": "1340ceb7",
        "execution_start": 1616977386134,
        "execution_millis": 11,
        "deepnote_cell_type": "code"
      },
      "outputs": [
        {
          "name": "stdout",
          "text": "Overwriting max_pairwise_product.py\n",
          "output_type": "stream"
        }
      ],
      "execution_count": 56
    },
    {
      "cell_type": "code",
      "metadata": {
        "tags": [],
        "cell_id": "00041-67544592-a127-4f30-8ab2-0368bbe750d5",
        "deepnote_to_be_reexecuted": false,
        "source_hash": "3e1cd967",
        "execution_millis": 728,
        "execution_start": 1616977388924,
        "deepnote_cell_type": "code"
      },
      "source": "!python max_pairwise_product.py <testfile.txt",
      "execution_count": 57,
      "outputs": [
        {
          "name": "stdout",
          "text": "40000000000\r\n",
          "output_type": "stream"
        }
      ]
    },
    {
      "cell_type": "markdown",
      "source": "### Stress testing",
      "metadata": {
        "tags": [],
        "cell_id": "00042-7a0badeb-eaec-44f3-aa55-9e8e1a1276d6",
        "deepnote_cell_type": "markdown"
      }
    },
    {
      "cell_type": "code",
      "metadata": {
        "tags": [],
        "cell_id": "00041-662e2474-d43d-4249-b39e-b242a385f30a",
        "deepnote_to_be_reexecuted": false,
        "source_hash": "47675e2c",
        "execution_millis": 9,
        "output_cleared": false,
        "execution_start": 1616979576442,
        "deepnote_cell_type": "code"
      },
      "source": "# Stress testing\nfrom random import randint\n\ndef max_prod_stress(N,M):\n    # As both algorithms work, the cycle never stops.\n    for i in range(10):\n        n = randint(2,N)\n        A = [None]*n\n        for i in range(n):\n            A[i] = randint(0,M)\n        print(A)\n        result1 = max_pairwise_naive(A)\n        result2 = max_pairwise_product(A)\n        if result1 == result2:\n            print('Both answers are the same')\n        else:\n            print('Wrong answer:',result1,result2)\n            return\n\nmax_prod_stress(10,100);",
      "execution_count": 86,
      "outputs": [
        {
          "name": "stdout",
          "text": "[45, 30, 23, 0, 57, 12]\nok\n[24, 75, 75, 85, 70, 26, 46]\nok\n[75, 94, 16, 50, 95, 21, 53, 44, 6]\nok\n[61, 61, 77, 16, 68, 6]\nok\n[29, 10, 47, 37]\nok\n[20, 44]\nok\n[16, 43, 34, 80, 62, 48, 53, 6, 3, 68]\nok\n[20, 41, 8, 17]\nok\n[26, 82, 75, 40, 79, 68, 59]\nok\n[2, 52, 24, 62, 42, 70, 93, 81]\nok\n",
          "output_type": "stream"
        }
      ]
    },
    {
      "cell_type": "markdown",
      "source": "<a style='text-decoration:none;line-height:16px;display:flex;color:#5B5B62;padding:10px;justify-content:end;' href='https://deepnote.com?utm_source=created-in-deepnote-cell&projectId=3f8c6564-39de-458b-9d41-98dba29a0d7c' target=\"_blank\">\n<img style='display:inline;max-height:16px;margin:0px;margin-right:7.5px;' src='data:image/svg+xml;base64,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' > </img>\nCreated in <span style='font-weight:600;margin-left:4px;'>Deepnote</span></a>",
      "metadata": {
        "tags": [],
        "created_in_deepnote_cell": true,
        "deepnote_cell_type": "markdown"
      }
    }
  ],
  "nbformat": 4,
  "nbformat_minor": 0,
  "metadata": {
    "colab": {
      "name": "gjhernandezpAlgorithmicToolboxWeek1.ipynb",
      "provenance": [],
      "collapsed_sections": []
    },
    "kernelspec": {
      "name": "python3",
      "display_name": "Python 3"
    },
    "language_info": {
      "name": "python"
    },
    "deepnote_notebook_id": "dad4708c-57c3-448b-89f7-e7b5f7257efa",
    "deepnote": {},
    "deepnote_execution_queue": []
  }
}