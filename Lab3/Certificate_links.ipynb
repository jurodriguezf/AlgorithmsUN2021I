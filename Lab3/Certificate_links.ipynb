{
  "nbformat": 4,
  "nbformat_minor": 0,
  "metadata": {
    "colab": {
      "name": "Certificate links.ipynb",
      "provenance": []
    },
    "kernelspec": {
      "name": "python3",
      "display_name": "Python 3"
    },
    "language_info": {
      "name": "python"
    }
  },
  "cells": [
    {
      "cell_type": "markdown",
      "metadata": {
        "id": "xA-yU93RKmcv"
      },
      "source": [
        "# Applied Data Science with Python"
      ]
    },
    {
      "cell_type": "markdown",
      "metadata": {
        "id": "WkwyVcy5KvOF"
      },
      "source": [
        "## Python for Data Science\n",
        "\n",
        "[Link](https://courses.cognitiveclass.ai/certificates/e3afa8a5217a49a38ee0eab7d95cab6d)"
      ]
    },
    {
      "cell_type": "markdown",
      "metadata": {
        "id": "31q_sGUKK_OS"
      },
      "source": [
        "## Data Analysis with Python\n",
        "\n",
        "[Link](https://courses.cognitiveclass.ai/certificates/d909a6f04b6441098f68afe772c90141)"
      ]
    },
    {
      "cell_type": "markdown",
      "metadata": {
        "id": "nfXjfAtoLv2X"
      },
      "source": [
        "## Data Visualization with Python\n",
        "\n",
        "[Link](https://courses.cognitiveclass.ai/certificates/ba7b3d5fcecf4174ac27c061bb7b949a)"
      ]
    }
  ]
}