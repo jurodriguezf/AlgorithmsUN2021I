{
 "cells": [
  {
   "cell_type": "markdown",
   "source": "# Fibonacci sequence \n\nFibonacci  - https://en.wikipedia.org/wiki/Fibonacci Leonardo Bonacci, Leonardo of Pisa, or Leonardo Bigollo Pisano ('Leonardo the Traveller from Pisa')  \n\n$$\n f_n = \\left\\{ \n \\begin{array}{lll}\n 0& if & n=0\\\\\n 1& if & n=1\\\\\n f_{n-1} +   f_{n-2} & if & n> 1 \\text{ (otherwise)}\\\\\n \\end{array}\n   \\right.\n$$\n\n",
   "metadata": {
    "id": "X8n2KKvk9VxL",
    "cell_id": "00000-41843aa5-45f9-44cb-819f-fee0a6660969",
    "deepnote_cell_type": "markdown"
   }
  },
  {
   "cell_type": "markdown",
   "source": "## Fibonacci recursive algorithm $O\\left( \\left(  \\frac{1+\\sqrt(5)}{2}  \\right)^n  lg\\ n\\right)$ [Relaxed asymptotic bound $O(2^n\\ lg\\ n)$]",
   "metadata": {
    "id": "kPF1PvZye5T9",
    "cell_id": "00001-b97d8818-a2b3-4f64-b589-81fb3b7bf018",
    "deepnote_cell_type": "markdown"
   }
  },
  {
   "cell_type": "code",
   "metadata": {
    "id": "nNNFssFuzeqk",
    "cell_id": "00002-0f62f827-6db3-4a80-8912-2aa1d808f117",
    "deepnote_to_be_reexecuted": false,
    "source_hash": "b89b6d4e",
    "execution_start": 1627265798030,
    "execution_millis": 0,
    "deepnote_cell_type": "code"
   },
   "source": "# fibR - Fibonacci Recursive O( ( (1+sqrt(5)/2 )^n lg n ) [Relaxed asymptotic bound O(2^n lg n)] \ndef fibR(n):\n    if n==0 :\n        return 0\n    if n==1 :\n        return 1\n    return fibR(n-1)+fibR(n-2)    # for large n´s  the addition will take lg n stetp because the numebers are very large",
   "execution_count": null,
   "outputs": []
  },
  {
   "cell_type": "markdown",
   "source": "https://www.geeksforgeeks.org/time-process_time-function-in-python/",
   "metadata": {
    "id": "h9hJRvO-8TEY",
    "cell_id": "00003-a4b6d2fb-9f95-4a9f-b66a-b7d7aadd90c2",
    "deepnote_cell_type": "markdown"
   }
  },
  {
   "cell_type": "code",
   "metadata": {
    "colab": {
     "base_uri": "https://localhost:8080/"
    },
    "id": "8HSgvCagzi1T",
    "outputId": "a3c82585-1d31-4fee-9be8-d555027c08a4",
    "cell_id": "00004-ebdb703c-f5dc-47c2-9ffe-a7616e3367da",
    "deepnote_cell_type": "code"
   },
   "source": "from time import process_time\nn=40\nt0 = process_time() \nk = fibR(n)\ntf =process_time() \nprint(\"n=\",n,\"fib(\",n,\")=\",k,\"time\",tf - t0, \"seconds process time\")",
   "execution_count": null,
   "outputs": [
    {
     "output_type": "stream",
     "text": "n= 40 fib( 40 )= 102334155 time 48.816497086000005 seconds process time\n",
     "name": "stdout"
    }
   ]
  },
  {
   "cell_type": "code",
   "metadata": {
    "colab": {
     "base_uri": "https://localhost:8080/"
    },
    "id": "O8HLJ3E1zqIf",
    "outputId": "68f66096-dada-4ac9-bbb7-19fd070c233a",
    "cell_id": "00005-7a835bb9-a990-473d-a609-da651ac7cc2d",
    "deepnote_cell_type": "code"
   },
   "source": "from time import process_time\nn=41\nt0 = process_time() \nk = fibR(n)\ntf =process_time() \nprint(\"n=\",n,\"fib(\",n,\")=\",k,\"time\",tf - t0, \"seconds process time\")",
   "execution_count": null,
   "outputs": [
    {
     "output_type": "stream",
     "text": "n= 41 fib( 41 )= 165580141 time 78.68676524099999 seconds process time\n",
     "name": "stdout"
    }
   ]
  },
  {
   "cell_type": "code",
   "metadata": {
    "colab": {
     "base_uri": "https://localhost:8080/"
    },
    "id": "1ZRB-cTgj3_9",
    "outputId": "b5da332b-4a80-4c27-de4f-6562ea325941",
    "cell_id": "00006-d79a4fea-998f-4c14-a8ba-e7a47091c08c",
    "deepnote_cell_type": "code"
   },
   "source": "78.68676524099999 /48.816497086000005",
   "execution_count": null,
   "outputs": [
    {
     "output_type": "execute_result",
     "data": {
      "text/plain": "1.6118888068182677"
     },
     "metadata": {
      "tags": []
     },
     "execution_count": 82
    }
   ]
  },
  {
   "cell_type": "code",
   "metadata": {
    "colab": {
     "base_uri": "https://localhost:8080/"
    },
    "id": "fw5Pepxt0NG-",
    "outputId": "d9dd8aa1-5671-40b3-d202-f39220fe3d5c",
    "cell_id": "00007-e769f197-8b0e-4a35-9c2f-29a65d35c5fc",
    "deepnote_cell_type": "code"
   },
   "source": "from time import process_time\nn=42\nt0 = process_time()\nk = fibR(n)\ntf =process_time()\nprint(\"n=\",n,\"fib(\",n,\")=\",k,\"time\",tf - t0, \"seconds process time\")",
   "execution_count": null,
   "outputs": [
    {
     "output_type": "stream",
     "text": "n= 42 fib( 42 )= 267914296 time 124.40780009600002 seconds process time\n",
     "name": "stdout"
    }
   ]
  },
  {
   "cell_type": "code",
   "metadata": {
    "colab": {
     "base_uri": "https://localhost:8080/"
    },
    "id": "Nfj9Apgmj9yt",
    "outputId": "b5216822-56bb-4224-b0b8-1420597088ed",
    "cell_id": "00008-8a86a50e-5e68-42a2-b066-4124ab95c2bf",
    "deepnote_cell_type": "code"
   },
   "source": "124.40780009600002 / 78.68676524099999",
   "execution_count": null,
   "outputs": [
    {
     "output_type": "execute_result",
     "data": {
      "text/plain": "1.581051142653618"
     },
     "metadata": {
      "tags": []
     },
     "execution_count": 83
    }
   ]
  },
  {
   "cell_type": "code",
   "metadata": {
    "colab": {
     "base_uri": "https://localhost:8080/"
    },
    "id": "st1qvaSPkSnn",
    "outputId": "980cfcdd-a8f3-4623-ba05-2d250b0773c4",
    "cell_id": "00009-b4359a85-3496-4618-82a8-4fccf50cea88",
    "deepnote_cell_type": "code"
   },
   "source": "from time import process_time\nn=43\nt0 = process_time()\nk = fibR(n)\ntf =process_time()\nprint(\"n=\",n,\"fib(\",n,\")=\",k,\"time\",tf - t0, \"seconds process time\")",
   "execution_count": null,
   "outputs": [
    {
     "output_type": "stream",
     "text": "n= 43 fib( 43 )= 433494437 time 193.222576109 seconds process time\n",
     "name": "stdout"
    }
   ]
  },
  {
   "cell_type": "code",
   "metadata": {
    "colab": {
     "base_uri": "https://localhost:8080/"
    },
    "id": "2tEUx3C7kUHV",
    "outputId": "eeb9e94f-e124-43a4-cf45-79340dd3ca58",
    "cell_id": "00010-be1c468b-e5ac-4609-bb7c-707ac966858e",
    "deepnote_cell_type": "code"
   },
   "source": "193.222576109 /124.40780009600002",
   "execution_count": null,
   "outputs": [
    {
     "output_type": "execute_result",
     "data": {
      "text/plain": "1.5531387578584193"
     },
     "metadata": {
      "tags": []
     },
     "execution_count": 92
    }
   ]
  },
  {
   "cell_type": "code",
   "metadata": {
    "colab": {
     "base_uri": "https://localhost:8080/"
    },
    "id": "ckNkH1HoL3_l",
    "outputId": "7d08400f-9ab2-42f9-91f3-0f707c7662b1",
    "cell_id": "00011-79fb0bb9-85dc-4fb7-bc2d-362c21e5e12c",
    "deepnote_cell_type": "code"
   },
   "source": "from time import process_time\nn=45\nt0 = process_time()\nk = fibR(n)\ntf =process_time()\nprint(\"n=\",n,\"fib(\",n,\")=\",k,\"time\",tf - t0, \"seconds process time\")",
   "execution_count": null,
   "outputs": [
    {
     "output_type": "stream",
     "text": "n= 45 fib( 45 )= 1134903170 time 503.726255125 seconds process time\n",
     "name": "stdout"
    }
   ]
  },
  {
   "cell_type": "code",
   "metadata": {
    "colab": {
     "base_uri": "https://localhost:8080/"
    },
    "id": "rtO7RnQyktKo",
    "outputId": "c1abad63-2827-4a06-a2cf-90f15b35cf2c",
    "cell_id": "00012-19774338-c9a4-4cad-b668-3d390f4cd21e",
    "deepnote_cell_type": "code"
   },
   "source": "# Max n in 1 year 60*60*24*365 s if n= 41 takes  aporx 1 mins \n\nimport math \n41+ int(math.log2(2460**365))",
   "execution_count": null,
   "outputs": [
    {
     "output_type": "execute_result",
     "data": {
      "text/plain": "60"
     },
     "metadata": {
      "tags": []
     },
     "execution_count": 1
    }
   ]
  },
  {
   "cell_type": "code",
   "metadata": {
    "colab": {
     "base_uri": "https://localhost:8080/"
    },
    "id": "CpIGWRzCl81s",
    "outputId": "f29d5543-31f9-4ad6-ee00-71e67121e4f4",
    "cell_id": "00013-917a1259-5574-4154-8a98-c1584a09495f",
    "deepnote_cell_type": "code"
   },
   "source": "# Max n 100 years 60*60*24*365*100 s if n= 41 takes  aporx 1 mins \n\nimport math \n41+ int(math.log2(60*24*365*100))",
   "execution_count": null,
   "outputs": [
    {
     "output_type": "execute_result",
     "data": {
      "text/plain": "66"
     },
     "metadata": {
      "tags": []
     },
     "execution_count": 88
    }
   ]
  },
  {
   "cell_type": "code",
   "metadata": {
    "colab": {
     "base_uri": "https://localhost:8080/"
    },
    "id": "bD9q_MyumGgU",
    "outputId": "8784df09-8e0b-4371-c57c-bcd823b6d832",
    "cell_id": "00014-dd93ba5c-4872-4744-8f0a-68b9722bf176",
    "deepnote_cell_type": "code"
   },
   "source": "# Max n 1000 years 60*60*24*360*100 s if n= 41 takes  aporx 1 mins \n\nimport math \n41+ int(math.log2(60*24*360*1000))",
   "execution_count": null,
   "outputs": [
    {
     "output_type": "execute_result",
     "data": {
      "text/plain": "69"
     },
     "metadata": {
      "tags": []
     },
     "execution_count": 89
    }
   ]
  },
  {
   "cell_type": "code",
   "metadata": {
    "colab": {
     "base_uri": "https://localhost:8080/"
    },
    "id": "3agEZf9SmNSl",
    "outputId": "ede31904-d287-47be-c57c-df425a586cda",
    "cell_id": "00015-bead8274-9df8-48fb-9780-87fab14d83cd",
    "deepnote_cell_type": "code"
   },
   "source": "# Max n 1000000 years 60*60*24*360*100 s if n= 41 takes  aporx 1 mins \n\nimport math \n41+ int(math.log2(60*24*360*1000000))",
   "execution_count": null,
   "outputs": [
    {
     "output_type": "execute_result",
     "data": {
      "text/plain": "79"
     },
     "metadata": {
      "tags": []
     },
     "execution_count": 90
    }
   ]
  },
  {
   "cell_type": "code",
   "metadata": {
    "tags": [],
    "cell_id": "00016-72fd35ee-d9ec-435e-b5c8-154c90640268",
    "deepnote_to_be_reexecuted": false,
    "source_hash": "b9c99261",
    "execution_start": 1627280945125,
    "execution_millis": 140301,
    "deepnote_cell_type": "code"
   },
   "source": "from time import process_time\nimport numpy as np\nimport matplotlib.pyplot as plt\n\ntime = []\n\nfor i in range(41):\n    t0 = process_time()\n    k = fibR(i)\n    tf = process_time()\n\n    timeElapsed = tf - t0\n    time.append(timeElapsed)\n\nprint(time)\n\nx = np.array(range(41))\nplt.plot(time)\nplt.plot(x)\nplt.title(\"Recursive Fibonacci Algorithm\")\nplt.xlabel(\"n\")\nplt.ylabel(\"Execution Time\")\nplt.show()",
   "execution_count": null,
   "outputs": [
    {
     "name": "stdout",
     "text": "[5.259998943074606e-06, 1.160000465461053e-06, 1.9500002963468432e-06, 2.019998646574095e-06, 2.4599994503660128e-06, 3.309998646727763e-06, 4.909999915980734e-06, 7.450000339304097e-06, 1.1449999874457717e-05, 1.7639998986851424e-05, 2.8550000934046693e-05, 4.631999945559073e-05, 7.488099981856067e-05, 0.00011952999921049923, 0.0001932420000230195, 0.0009872440004983218, 0.0005106129992782371, 0.0008234750002884539, 0.0013779170003545005, 0.002669505000085337, 0.003858811000100104, 0.006727697000314947, 0.010136074999536504, 0.01639164200059895, 0.02550745900043694, 0.043024804999731714, 0.07411783399948035, 0.10685448299955169, 0.1690585119995376, 0.2571934630013857, 0.4251628599995456, 0.6793512759995792, 1.136274078000497, 1.8323698050007806, 2.9777702120009053, 4.852052918000481, 7.8388675340011105, 12.497179324998797, 20.54289138400054, 33.21537977600019, 53.34598127600111]\n",
     "output_type": "stream"
    },
    {
     "data": {
      "text/plain": "<Figure size 432x288 with 1 Axes>",
      "image/png": "[encoded data removed]"
     },
     "metadata": {
      "needs_background": "light",
      "image/png": {
       "width": 382,
       "height": 278
      }
     },
     "output_type": "display_data"
    }
   ]
  },
  {
   "cell_type": "markdown",
   "source": "## Fibonacci analytical solution\n\nThe Fibonacci sequence is the solution of the homogenous linear difference equation or  homogenous linear recurrence relation  https://en.wikipedia.org/wiki/Linear_difference_equation\n\n$$\nf_n =  f_{n-1} + f_{n-2} \\ \\ \\ \\ \\ \\ \\ \\text{if}\\ \\ \\ \\ \\ n> 1 \n$$\nwith intial conditions\n$$\nf_0 =0 \\text{ and }f_1 = 1\\\n$$\n\nAll linear difference equations have a solution of the from  $\\lambda^n$\n$$\nf_n = \\lambda^n\n$$ \nso \n$$ \n\\lambda^n =  \\lambda^{n-1} + \\lambda^{n-2} \n$$ \ndivding by $\\lambda^{n-2} $\n$$ \n\\lambda^2 -  \\lambda -  1 = 0\n$$ \nthen\n$$\n\\lambda = \\frac{1 \\pm \\sqrt{5}}{2}\n$$\ntherefore\n$$\nf_n =  A \\left( \\frac{1 + \\sqrt{5}}{2} \\right)^n  + B \\left(\\frac{1 - \\sqrt{5}}{2} \\right)^n\n$$\nwe find $A$ and $B$ with initial conditions\n$$\nf_0 = 0  = A \\left( \\frac{1 + \\sqrt{5}}{2} \\right)^0  + B \\left(\\frac{1 - \\sqrt{5}}{2} \\right)^0 = A+B\n$$\nso\n$$\nB = -A\n$$\nand \n$$\nf_1 = 1  = A \\left( \\frac{1 + \\sqrt{5}}{2} \\right)^1  + B \\left(\\frac{1 - \\sqrt{5}}{2} \\right)^1 = A \\left( \\frac{1 + \\sqrt{5}}{2} \\right)  - A \\left(\\frac{1 - \\sqrt{5}}{2} \\right) = A \\sqrt{5}\n$$\nso \n$$\nA =\\frac{1}{\\sqrt{5}}\n$$\nthen\n$$\nf_n =  \\frac{1}{\\sqrt{5}} \\left( \\frac{1 + \\sqrt{5}}{2} \\right)^n  - \\frac{1}{\\sqrt{5}} \\left(\\frac{1 - \\sqrt{5}}{2} \\right)^n\n$$",
   "metadata": {
    "id": "3dfhpTAXEAjM",
    "cell_id": "00016-f57a9ad8-779d-441f-bef1-1576f1f91314",
    "deepnote_cell_type": "markdown"
   }
  },
  {
   "cell_type": "code",
   "metadata": {
    "id": "zJ2XBkns0UzP",
    "cell_id": "00017-0831d407-de23-4102-b977-9a72a7c93730",
    "deepnote_cell_type": "code"
   },
   "source": "import math\ndef fibA(n):\n  r5= math.sqrt(5)\n  return  (1/r5)*((1 + r5 )/2)**n - (1/r5)*((1 - r5 )/2)**n",
   "execution_count": null,
   "outputs": []
  },
  {
   "cell_type": "code",
   "metadata": {
    "colab": {
     "base_uri": "https://localhost:8080/"
    },
    "id": "shhR4n5RHA2j",
    "outputId": "05982ac3-62c4-47ab-c6bc-dfd325b16857",
    "cell_id": "00018-7fe3a813-2a10-495d-85db-09cf14d3a0ed",
    "deepnote_cell_type": "code"
   },
   "source": " for n in range(0, 11):\n   print(fibA(n))",
   "execution_count": null,
   "outputs": [
    {
     "output_type": "stream",
     "text": "0.0\n1.0\n0.9999999999999999\n2.0\n3.0000000000000004\n5.000000000000001\n8.000000000000002\n13.000000000000004\n21.000000000000004\n34.000000000000014\n55.00000000000002\n",
     "name": "stdout"
    }
   ]
  },
  {
   "cell_type": "code",
   "metadata": {
    "colab": {
     "base_uri": "https://localhost:8080/"
    },
    "id": "r9AYdb8tHULc",
    "outputId": "7171eb92-6926-44f3-cecb-bef7f6cc9d81",
    "cell_id": "00019-be4a6887-f517-434f-8a49-e8eb1f8c7531",
    "deepnote_cell_type": "code"
   },
   "source": "for n in range(0, 11):\n   print(round(fibA(n)))",
   "execution_count": null,
   "outputs": [
    {
     "output_type": "stream",
     "text": "0\n1\n1\n2\n3\n5\n8\n13\n21\n34\n55\n",
     "name": "stdout"
    }
   ]
  },
  {
   "cell_type": "markdown",
   "source": "## The time complexity of Fibonacci recursive algorithm\n\nThe time complexity (running time in a RAM - number of elementary instructions) of the Fibonacci recursive algorithm \n\n```(phyton)\ndef fibR(n):\n    if n==0 :\n        return 0\n    if n==1 :\n        return 1\n    return fibR(n-1)+fibR(n-2)\n```\nis\n$$\nT(n)=  T(n-1) + T(n-1)  + 3 \\ \\ \\ \\ \\ \\ \\ \\text{if}\\ \\ \\ \\ \\ \\ n> 1 \n$$\n\nChanging the notation $T(n) = t_n$ this is an inhomogenous linear difference equation or recurrence relation https://en.wikipedia.org/wiki/Linear_difference_equation\n$$\nt_n =  t_{n-1} + t_{n-2} + 3\\ \\ \\ \\ \\ \\ \\ \\text{if}\\ \\ \\ \\ \\ \\ n> 1 \n$$\nwith intial conditions\n$$\nt_0 =1, t_1 = 2 \\text{ and } t_2 = 6   \\\n$$\n\nAll inhomogenous linear difference equations  of the from \n$$\na_n t_n + a_{n-1} t_{n-1} + a_{n-1} t_{n-2} + \\cdots + a_{n-k} t_{n-k} = b^n p(n)\n$$\nwith $b$ constant, $p(n)$ polynomial of degree $d$ and $k$ initial condition have a the solution of the from\n$$\n(a_n t_n + a_{n-1} t_{n-1} + a_{n-1} t_{n-2} + \\cdots + a_{n-k} t_{n-k}) (t-b)^{d+1} = 0\n$$\nIn our case\n$$\nt_n -  t_{n-1} - t_{n-2} = 3 = 1^n 3n^0\n$$\nso $ b=1$ and $d=0$, so we have $\\lambda =1$ with multiplicity $1$\n$$\nt_n =  A \\left( \\frac{1 + \\sqrt{5}}{2} \\right)^n  + B \\left(\\frac{1 - \\sqrt{5}}{2} \\right)^n + C 1^n\n$$\nwe find $A$ $B$ and $C$ with initial conditions\n$$\n\\begin{array}{lll}\nA + B + C &=&  1\\\\\n A \\left( \\frac{1 + \\sqrt{5}}{2} \\right) + B\\left( \\frac{1 - \\sqrt{5}}{2} \\right) + C  &=&  2 \\\\\nA \\left( \\frac{1 + \\sqrt{5}}{2} \\right)^2 + B\\left( \\frac{1 - \\sqrt{5}}{2} \\right)^2 + C  &=& 6 \n\\end{array}\n$$\nso\n$$\n\\begin{array}{lll}\nA &=&  2 + \\frac{3}{\\sqrt(5)}\\\\\nB &=&  2 - \\frac{3}{\\sqrt(5)} \\\\\nC &=&  -3 \n\\end{array}\n$$\nthen\n$$\nt_n = T(n)=   \\left(2 + \\frac{3}{\\sqrt(5)}\\right) \\left( \\frac{1 + \\sqrt{5}}{2} \\right)^n  + \\left(2 - \\frac{3}{\\sqrt(5)}\\right) \\left(\\frac{1 - \\sqrt{5}}{2} \\right)^n - 3 =  O\\left( \\left(\\frac{1 + \\sqrt{5}}{2} \\right)^n \\right) = O \\left(1.6180339887499^n \\right)\n$$\nThat is aproximated with a very relaxed asymptotic bound by\n$$ t_n = T(n) =  O \\left( 2^n \\right)$$\n\nHaving into account that  for large $n$´s  the addition is not a elementary instructions because the numbers are very large  and  will take $lg\\ n$ stetps, then running time is\n$$\nt_n = T(n)=  O \\left(\\left( \\frac{1 + \\sqrt{5}}{2} \\right)^n\\ lg\\ n  \\right) = O \\left( 1.6180339887499^n\\ lg\\ n \\right)\n$$\naproximated with a very relaxed asymptotic bound by\n$$\nt_n = T(n)=  O \\left( 2^n\\ lg\\ n \\right)\n$$",
   "metadata": {
    "id": "kOrB14wvK-fS",
    "cell_id": "00020-bf385199-8970-4b29-a9f1-3dd95c142e17",
    "deepnote_cell_type": "markdown"
   }
  },
  {
   "cell_type": "markdown",
   "source": "# Fibonacci iterative algoritm (forward) $O(n\\ lgn)$",
   "metadata": {
    "id": "YubnxTUgjqey",
    "cell_id": "00021-20490cc8-2bf3-485e-bd9c-8e8564dd392f",
    "deepnote_cell_type": "markdown"
   }
  },
  {
   "cell_type": "code",
   "metadata": {
    "id": "xvN0wMin9HOI",
    "cell_id": "00022-4d9f9eb9-f7d5-4158-990e-785b4c367324",
    "deepnote_to_be_reexecuted": false,
    "source_hash": "a4917ab4",
    "execution_start": 1627309022379,
    "execution_millis": 2,
    "deepnote_cell_type": "code"
   },
   "source": "# fibI - Fibonacci Iterartive (forward) O(n lgn)\ndef fibI(n):\n    if n==0 :\n        return 0\n    a, b = 0, 1\n    for i in range(1, n):\n        a, b = b, a+b\n    return b",
   "execution_count": 2,
   "outputs": []
  },
  {
   "cell_type": "code",
   "metadata": {
    "colab": {
     "base_uri": "https://localhost:8080/"
    },
    "id": "B_CYmIdM9NiG",
    "outputId": "7b388980-cf94-4bc4-9af5-8edaaebcca37",
    "cell_id": "00023-c53bab3a-db01-4e87-9a83-6a3090c91d3f",
    "deepnote_cell_type": "code"
   },
   "source": "from time import process_time\nn=10\nt0 = process_time()\nk = fibI(n)\ntf =process_time()\nprint(\"n=\",n,\"fib(\",n,\")=\",k,\"time\",tf - t0, \"seconds process time\")",
   "execution_count": null,
   "outputs": [
    {
     "output_type": "stream",
     "text": "n= 10 fib( 10 )= 55 time 3.5158999992290774e-05 seconds process time\n",
     "name": "stdout"
    }
   ]
  },
  {
   "cell_type": "code",
   "metadata": {
    "colab": {
     "base_uri": "https://localhost:8080/"
    },
    "id": "jZ-Nfx73_tGV",
    "outputId": "a819dfe4-d654-43da-d85f-9310ee89988e",
    "cell_id": "00024-44449e32-a837-42ad-a188-d96ae8591f66",
    "deepnote_cell_type": "code"
   },
   "source": "from time import process_time\nn=100\nt0 = process_time()\nk = fibI(n)\ntf =process_time()\nprint(\"n=\",n,\"fib(\",n,\")=\",k,\"time\",tf - t0, \"seconds process time\")",
   "execution_count": null,
   "outputs": [
    {
     "output_type": "stream",
     "text": "n= 100 fib( 100 )= 354224848179261915075 time 4.3787999970845704e-05 seconds process time\n",
     "name": "stdout"
    }
   ]
  },
  {
   "cell_type": "code",
   "metadata": {
    "colab": {
     "base_uri": "https://localhost:8080/"
    },
    "id": "3jE6xoo2_wgF",
    "outputId": "2d0f0355-47ab-4803-a4df-8096bd7aae6c",
    "cell_id": "00025-b5ff1537-1bf4-4656-8706-e8c3aeb20455",
    "deepnote_cell_type": "code"
   },
   "source": "from time import process_time\nn=1000\nt0 = process_time()\nk =fibI(n)\ntf =process_time()\nprint(\"n=\",n,\"fib(\",n,\")=\",k,\"time\",tf - t0, \"seconds process time\")",
   "execution_count": null,
   "outputs": [
    {
     "output_type": "stream",
     "text": "n= 1000 fib( 1000 )= 43466557686937456435688527675040625802564660517371780402481729089536555417949051890403879840079255169295922593080322634775209689623239873322471161642996440906533187938298969649928516003704476137795166849228875 time 0.00013438700000278914 seconds process time\n",
     "name": "stdout"
    }
   ]
  },
  {
   "cell_type": "code",
   "metadata": {
    "colab": {
     "base_uri": "https://localhost:8080/"
    },
    "id": "MC3OE5nGT1XP",
    "outputId": "5f7b6dea-5e8c-4698-84ba-b661aef46df8",
    "cell_id": "00026-d1190390-b5d8-42a7-82e1-cd08db35723d",
    "deepnote_cell_type": "code"
   },
   "source": "from time import process_time\nn=1001\nt0 = process_time()\nk =fibI(n)\ntf =process_time()\nprint(\"n=\",n,\"fib(\",n,\")=\",k,\"time\",tf - t0, \"seconds process time\")",
   "execution_count": null,
   "outputs": [
    {
     "output_type": "stream",
     "text": "n= 1001 fib( 1001 )= 70330367711422815821835254877183549770181269836358732742604905087154537118196933579742249494562611733487750449241765991088186363265450223647106012053374121273867339111198139373125598767690091902245245323403501 time 0.00012054299999997298 seconds process time\n",
     "name": "stdout"
    }
   ]
  },
  {
   "cell_type": "code",
   "metadata": {
    "colab": {
     "base_uri": "https://localhost:8080/"
    },
    "id": "0bkmZtweT6M3",
    "outputId": "b03eebed-9f3d-49bf-b68a-cc8516edaa53",
    "cell_id": "00027-649e1a0c-ea08-407d-baaf-d79ed2747584",
    "deepnote_cell_type": "code"
   },
   "source": "from time import process_time\nn=1002\nt0 = process_time()\nk =fibI(n)\ntf =process_time()\nprint(\"n=\",n,\"fib(\",n,\")=\",k,\"time\",tf - t0, \"seconds process time\")",
   "execution_count": null,
   "outputs": [
    {
     "output_type": "stream",
     "text": "n= 1002 fib( 1002 )= 113796925398360272257523782552224175572745930353730513145086634176691092536145985470146129334641866902783673042322088625863396052888690096969577173696370562180400527049497109023054114771394568040040412172632376 time 0.00022098400000003515 seconds process time\n",
     "name": "stdout"
    }
   ]
  },
  {
   "cell_type": "code",
   "metadata": {
    "tags": [],
    "cell_id": "00030-6ebca7df-acd0-4fde-8b8f-8c69bf848211",
    "deepnote_to_be_reexecuted": false,
    "source_hash": "5e8da6d9",
    "execution_start": 1627309026841,
    "execution_millis": 167,
    "deepnote_cell_type": "code"
   },
   "source": "from time import process_time\nimport numpy as np\nimport matplotlib.pyplot as plt\n\ntime = []\n\nfor i in range(1001):\n    t0 = process_time()\n    k = fibI(i)\n    tf = process_time()\n\n    timeElapsed = tf - t0\n    time.append(timeElapsed)\n\nprint(time)\n\nx = np.array(range(1001))\nplt.plot(time)\nplt.plot(x)\nplt.title(\"Fibonacci iterative algoritm (forward)\")\nplt.xlabel(\"n\")\nplt.ylabel(\"Execution Time\")\nplt.show()",
   "execution_count": 3,
   "outputs": [
    {
     "name": "stdout",
     "text": "[5.000999999893452e-06, 1.9569999998303444e-06, 1.6700000000646753e-06, 1.6079999998197536e-06, 1.7290000000613759e-06, 1.3650000001419471e-06, 1.4189999997249458e-06, 1.403999999816108e-06, 1.442999999934358e-06, 1.5200000000881175e-06, 1.5239999999749898e-06, 1.5410000000493085e-06, 1.4980000000441862e-06, 1.560999999927759e-06, 1.7290000000613759e-06, 1.868000000015968e-06, 1.930999999899541e-06, 1.915999999990703e-06, 1.957999999913085e-06, 1.8640000001290957e-06, 1.96799999985231e-06, 2.673000000008585e-06, 2.0229999999621384e-06, 2.040000000036457e-06, 2.0809999998760986e-06, 2.1220000001598294e-06, 2.1910000000957552e-06, 2.2289999996871757e-06, 2.2280000000485245e-06, 2.3580000001466317e-06, 2.3399999999895726e-06, 2.476000000140033e-06, 2.440999999908655e-06, 2.4569999999002334e-06, 2.561000000067537e-06, 2.5649999999544093e-06, 2.60600000023814e-06, 2.645999999995041e-06, 2.693999999969776e-06, 2.7009999996607803e-06, 2.723000000148801e-06, 2.7770000001758888e-06, 2.847999999833206e-06, 2.8570000001337803e-06, 2.9129999998822598e-06, 3.0029999997793766e-06, 3.266000000223812e-06, 3.1409999996512283e-06, 3.10599999986394e-06, 3.1479999997863217e-06, 3.1859999998218314e-06, 3.1980000003706266e-06, 3.2100000000312434e-06, 3.3059999999807133e-06, 3.3129999996717174e-06, 3.353999999955448e-06, 3.374000000277988e-06, 3.465000000257845e-06, 3.5240000002545457e-06, 3.4929999999100403e-06, 3.570999999702451e-06, 3.5980000001600843e-06, 3.648999999938951e-06, 3.7100000001011324e-06, 3.736000000031936e-06, 3.8069999996892534e-06, 3.808000000216083e-06, 3.85899999999495e-06, 3.927999999930876e-06, 3.93800000031419e-06, 4.000000000115023e-06, 4.016000000106601e-06, 4.07200000029917e-06, 4.2069999999228e-06, 4.178999999826516e-06, 4.204000000118668e-06, 4.24600000004105e-06, 4.28400000007656e-06, 4.32300000019481e-06, 4.325999999998942e-06, 4.440999999744122e-06, 4.479999999862372e-06, 4.520000000063362e-06, 4.554999999850651e-06, 4.571999999924969e-06, 4.61200000012596e-06, 4.640000000222244e-06, 4.661000000183435e-06, 4.737000000254454e-06, 4.864999999742992e-06, 4.952999999918717e-06, 4.9459999997836235e-06, 4.986999999623265e-06, 5.052000000116408e-06, 5.077999999603122e-06, 5.0630000001383735e-06, 5.101000000173883e-06, 5.132000000074299e-06, 5.172999999913941e-06, 5.241000000211216e-06, 5.274999999915764e-06, 5.317999999920886e-06, 5.389000000022293e-06, 5.400000000044258e-06, 5.42300000017093e-06, 5.503999999767473e-06, 5.624999999565006e-06, 5.558999999877301e-06, 5.6059999997692955e-06, 5.670000000179698e-06, 5.688999999975408e-06, 5.7770000001511335e-06, 5.7499999996935e-06, 5.840000000034706e-06, 6.067000000165024e-06, 6.356000000096174e-06, 6.227999999719458e-06, 6.017000000024808e-06, 6.142999999791954e-06, 6.079999999908381e-06, 6.046999999842484e-06, 6.086000000404823e-06, 6.214999999976101e-06, 6.230000000329028e-06, 6.245000000237866e-06, 6.265000000116316e-06, 6.332999999969502e-06, 6.473000000006834e-06, 6.436000000054065e-06, 6.396999999935815e-06, 6.476999999893707e-06, 6.52200000006431e-06, 6.576000000091398e-06, 6.775000000125431e-06, 6.739999999894053e-06, 6.795000000003881e-06, 6.795000000003881e-06, 6.818000000130553e-06, 6.904999999779449e-06, 6.979000000129076e-06, 6.991999999872434e-06, 7.0519999999518745e-06, 7.0189999998859776e-06, 7.117000000000928e-06, 7.200999999845692e-06, 7.2050000001766534e-06, 7.2500000003472564e-06, 7.33400000019202e-06, 7.308999999899868e-06, 7.42900000005875e-06, 7.424000000089137e-06, 7.490999999859582e-06, 7.48699999997271e-06, 7.533000000226053e-06, 7.575999999787086e-06, 7.64300000000162e-06, 7.6279999996486936e-06, 7.742000000199312e-06, 7.79699999986505e-06, 7.79699999986505e-06, 7.83499999990056e-06, 7.899999999949614e-06, 7.894999999980001e-06, 8.04699999967795e-06, 8.054000000257133e-06, 8.036000000100074e-06, 8.121000000027578e-06, 8.073000000052843e-06, 8.226999999916274e-06, 8.25799999981669e-06, 8.312999999926518e-06, 8.352000000044768e-06, 8.408999999875988e-06, 8.39399999996715e-06, 8.408000000237337e-06, 8.4920000000821e-06, 8.618999999931987e-06, 8.701000000055359e-06, 8.631000000036693e-06, 8.757999999886579e-06, 8.789999999869735e-06, 8.83799999984447e-06, 8.819999999687411e-06, 8.923000000216064e-06, 8.923999999854715e-06, 8.989999999986509e-06, 9.015999999917312e-06, 9.125000000054229e-06, 9.14900000026364e-06, 9.079000000244974e-06, 9.195000000072895e-06, 9.26400000000882e-06, 9.375999999949869e-06, 9.411000000181247e-06, 9.409000000015766e-06, 9.445999999968535e-06, 9.503999999882495e-06, 9.503999999882495e-06, 9.557999999909583e-06, 9.644000000363917e-06, 9.621999999875896e-06, 9.76299999999597e-06, 9.777999999904807e-06, 9.6670000000465e-06, 9.82400000015815e-06, 9.883999999793502e-06, 9.99700000026138e-06, 1.0005000000035125e-05, 9.93700000018194e-06, 1.005600000025808e-05, 1.0064000000031825e-05, 1.0127999999998138e-05, 1.0140000000102845e-05, 1.0199000000099545e-05, 1.0229999999999961e-05, 1.0311000000040593e-05, 1.03039999999055e-05, 1.0446999999746964e-05, 1.0431999999838126e-05, 1.0508999999991886e-05, 1.0667999999824929e-05, 1.0716999999882404e-05, 1.0727000000265718e-05, 1.0839999999845418e-05, 1.0699999999808085e-05, 1.0830999999988933e-05, 1.0803999999975389e-05, 1.0888999999902893e-05, 1.092200000041288e-05, 1.0993000000070197e-05, 1.1079999999719092e-05, 1.1071999999945348e-05, 1.1166000000173426e-05, 1.1160000000121073e-05, 1.1093999999989279e-05, 1.1227999999974259e-05, 1.127099999997938e-05, 1.144199999991713e-05, 1.1358999999711017e-05, 1.144199999991713e-05, 1.1588000000006815e-05, 1.1879999999742097e-05, 1.1590000000172296e-05, 1.1686999999760417e-05, 1.17340000000965e-05, 1.1725999999878667e-05, 1.1763999999914176e-05, 1.1811999999888911e-05, 1.1810999999806171e-05, 1.1889000000042671e-05, 1.184800000020303e-05, 1.1878999999659356e-05, 1.1919999999943087e-05, 1.1953000000008984e-05, 1.1931000000409142e-05, 1.2012000000005685e-05, 1.2166999999951855e-05, 1.2220999999978943e-05, 1.2497000000166736e-05, 1.2717999999800611e-05, 1.2721000000048832e-05, 1.2670000000269965e-05, 1.2771999999827699e-05, 1.2653000000195647e-05, 1.2612999999994656e-05, 1.2750999999866508e-05, 1.2840999999763625e-05, 1.2882000000047356e-05, 1.2973000000027213e-05, 1.3002999999844889e-05, 1.2943999999848188e-05, 1.3109999999816324e-05, 1.3221000000118721e-05, 1.3089999999937874e-05, 1.3299999999993872e-05, 1.3290000000054647e-05, 1.3383999999838636e-05, 1.3408000000048048e-05, 1.3361000000156054e-05, 1.3556999999941866e-05, 1.3528999999845581e-05, 1.369999999978333e-05, 1.3762999999666903e-05, 1.3827000000077305e-05, 1.3905000000313805e-05, 1.3794000000011408e-05, 3.4588999999751735e-05, 1.66560000001148e-05, 1.4188000000192602e-05, 1.4100000000016877e-05, 1.4129000000195902e-05, 1.4181000000057509e-05, 1.4431999999953149e-05, 1.424000000005421e-05, 1.435800000004761e-05, 1.4585999999816579e-05, 1.445299999991434e-05, 1.4477000000123752e-05, 1.4537999999841844e-05, 1.4764999999972162e-05, 1.4637999999678186e-05, 1.4842000000125921e-05, 1.4853000000147887e-05, 1.4833999999908087e-05, 1.4893000000348877e-05, 1.506999999989489e-05, 1.5105999999764919e-05, 1.5204000000323958e-05, 1.5246999999884991e-05, 1.5310999999851305e-05, 1.5601000000309284e-05, 1.5406000000162123e-05, 1.5434000000258408e-05, 1.541700000018409e-05, 1.555300000033455e-05, 1.5556999999777332e-05, 1.5637999999817964e-05, 1.5673999999687993e-05, 1.5713000000250332e-05, 1.5963000000063232e-05, 1.5848999999956703e-05, 1.5896999999931438e-05, 1.5945000000350262e-05, 1.605699999984722e-05, 1.6138999999970594e-05, 1.6195000000163162e-05, 0.00010167599999988397, 0.0001378859999996429, 1.7401000000027977e-05, 1.667499999991051e-05, 1.6620999999883423e-05, 1.71749999999804e-05, 1.6784000000047428e-05, 1.6894000000267084e-05, 1.708100000019641e-05, 1.7141000000275852e-05, 1.7163000000319784e-05, 1.7353000000053243e-05, 1.7301999999830286e-05, 1.7294000000056542e-05, 1.7324999999956958e-05, 1.752099999974277e-05, 1.7494999999811967e-05, 1.746199999974607e-05, 1.761600000005359e-05, 1.752000000010412e-05, 1.7844999999905298e-05, 1.756099999994376e-05, 3.075699999977033e-05, 2.481700000034337e-05, 1.831499999971342e-05, 1.7971000000116533e-05, 1.812000000001035e-05, 1.819699999972002e-05, 1.7952999999959474e-05, 1.8336000000118702e-05, 1.8132999999753707e-05, 1.825699999979946e-05, 1.8516999999995676e-05, 1.842799999973721e-05, 1.862200000024572e-05, 1.844399999972879e-05, 1.8573000000188244e-05, 1.8635999999627728e-05, 1.8952999999655162e-05, 1.977900000005306e-05, 2.0149999999663493e-05, 1.945299999972505e-05, 1.904700000032733e-05, 1.8959000000151605e-05, 1.9198000000386628e-05, 1.92610000002702e-05, 1.923799999969944e-05, 1.9400000000224793e-05, 1.931700000001868e-05, 1.939499999981109e-05, 1.9358999999941062e-05, 1.935600000013693e-05, 1.9460999999942885e-05, 1.971899999997362e-05, 1.9788000000353634e-05, 1.983699999996702e-05, 2.9918000000073164e-05, 2.5289999999955626e-05, 3.00250000000446e-05, 2.4514999999780684e-05, 2.1387000000316903e-05, 2.6158999999914556e-05, 2.041599999991206e-05, 2.1915000000038987e-05, 2.593300000031107e-05, 2.0730000000135362e-05, 2.0525000000048976e-05, 2.0440000000121472e-05, 2.0641000000320986e-05, 2.0831000000054445e-05, 2.0928000000086655e-05, 2.093500000022175e-05, 2.104999999996693e-05, 2.095599999973885e-05, 2.103399999997535e-05, 2.1088000000002438e-05, 2.1176000000178163e-05, 2.095400000001746e-05, 2.128599999995373e-05, 2.1101000000189885e-05, 2.130199999994531e-05, 2.1294999999810216e-05, 2.149699999964838e-05, 2.1624000000386445e-05, 2.1386999999872813e-05, 2.1663000000060606e-05, 2.198099999972669e-05, 2.187999999980761e-05, 2.1951999999991756e-05, 3.982600000007608e-05, 2.2283999999928028e-05, 2.1912999999873506e-05, 3.13579999997593e-05, 2.8380999999910728e-05, 2.2254000000110352e-05, 2.2409999999695174e-05, 2.9797999999914282e-05, 2.271200000025786e-05, 2.222800000017955e-05, 3.055100000004529e-05, 2.2877000000143255e-05, 2.2493999999984027e-05, 3.0271999999609278e-05, 2.2820999999950686e-05, 2.3201999999944434e-05, 3.087099999987686e-05, 2.313600000025673e-05, 2.307799999989868e-05, 3.025999999994866e-05, 2.3436999999848496e-05, 2.435500000030899e-05, 2.966200000020791e-05, 2.3409999999834952e-05, 2.5235999999928538e-05, 2.8817999999652955e-05, 2.3488000000071452e-05, 2.7030000000038967e-05, 2.7295999999843445e-05, 2.369500000032332e-05, 2.9780000000201312e-05, 2.523800000009402e-05, 2.4071999999986105e-05, 3.222899999988371e-05, 2.4482999999797528e-05, 2.416100000024457e-05, 3.220100000023152e-05, 2.4318999999994872e-05, 2.410299999988652e-05, 3.269600000033179e-05, 2.4553999999898934e-05, 4.9506000000310024e-05, 2.5254000000085597e-05, 2.4653000000096625e-05, 3.166599999993025e-05, 2.4883000000031075e-05, 2.603400000023015e-05, 2.9191999999955698e-05, 2.50839999997865e-05, 3.232300000011179e-05, 2.495099999988426e-05, 2.4946999999997388e-05, 3.216700000008288e-05, 2.5162000000023e-05, 2.49710000002068e-05, 3.129700000004121e-05, 2.558499999993913e-05, 3.265100000016119e-05, 2.5884999999892244e-05, 2.5447999999705928e-05, 3.250200000026737e-05, 2.5659000000288756e-05, 2.7173999999963172e-05, 3.0750000000079325e-05, 2.595499999991091e-05, 3.310000000000812e-05, 2.6179999999875747e-05, 2.59360000001152e-05, 3.3143000000013245e-05, 2.6290000000095404e-05, 3.3396000000074366e-05, 2.6420999999832162e-05, 2.6275999999825217e-05, 3.337200000030904e-05, 2.6693000000133082e-05, 3.2330000000246883e-05, 2.8823000000066656e-05, 2.8399999999706438e-05, 4.0978000000357895e-05, 2.7155000000167462e-05, 2.7146999999949628e-05, 3.416000000022734e-05, 2.7360000000253848e-05, 3.44229999997836e-05, 2.7527999999943376e-05, 2.705700000005251e-05, 3.4321999999864516e-05, 2.7687000000220507e-05, 3.448500000002852e-05, 2.782700000025784e-05, 2.8587000000079854e-05, 3.258799999983353e-05, 2.7581999999970463e-05, 3.490699999986191e-05, 2.8003999999803852e-05, 3.223899999982294e-05, 2.987099999973708e-05, 2.7853999999827295e-05, 3.499100000015076e-05, 5.8051999999975124e-05, 0.000101448000000115, 2.861499999973205e-05, 3.5092000000069845e-05, 2.8400000000150527e-05, 3.580100000011299e-05, 2.8357999999784056e-05, 3.3083000000377893e-05, 3.490299999997504e-05, 2.898600000023066e-05, 3.6419999999814934e-05, 2.8803000000188206e-05, 3.591399999969269e-05, 2.9164999999942154e-05, 2.8995000000087146e-05, 3.6291000000243656e-05, 2.8974000000125955e-05, 3.693699999995914e-05, 2.9346999999901868e-05, 3.411700000022222e-05, 3.104299999989735e-05, 2.9531000000027063e-05, 3.6849000000227505e-05, 2.9644000000050852e-05, 3.710699999981415e-05, 2.985300000002411e-05, 3.546200000004163e-05, 3.070599999999146e-05, 2.9791000000223278e-05, 3.70679999996959e-05, 3.0329999999967328e-05, 3.0079000000071687e-05, 3.740400000040722e-05, 2.9848000000054498e-05, 3.0148000000007613e-05, 2.993100000026061e-05, 3.824699999999126e-05, 3.01239999997982e-05, 3.024100000015295e-05, 3.023799999990473e-05, 3.076499999998816e-05, 3.076100000010129e-05, 3.1561000000124295e-05, 3.652899999995185e-05, 3.1021999999936156e-05, 3.072199999998304e-05, 3.062099999961987e-05, 3.096700000027042e-05, 3.0920999999572985e-05, 3.1520999999923305e-05, 3.095400000008297e-05, 3.112600000010346e-05, 3.135700000012065e-05, 3.1230000000270763e-05, 4.553600000001268e-05, 3.1770999999736205e-05, 3.175799999999285e-05, 3.146100000028795e-05, 3.130300000009356e-05, 3.165100000002141e-05, 3.195600000038823e-05, 3.1519999999840564e-05, 3.2046999999924e-05, 3.194899999980905e-05, 5.154699999998513e-05, 3.216800000016562e-05, 3.207600000010302e-05, 3.23020000001506e-05, 3.236399999995143e-05, 3.215300000025678e-05, 3.209399999981599e-05, 3.2503999999988764e-05, 3.258999999999901e-05, 3.2526000000032695e-05, 3.832199999997954e-05, 3.3972999999853926e-05, 3.2893999999838996e-05, 3.2968999999827275e-05, 3.303699999968046e-05, 3.268999999983535e-05, 3.276799999962776e-05, 3.321099999986643e-05, 3.3219000000084264e-05, 3.3106000000060476e-05, 3.308799999990342e-05, 3.3160999999726215e-05, 3.36089999999345e-05, 3.332100000008609e-05, 3.334099999996454e-05, 3.375600000010692e-05, 3.3509000000098155e-05, 3.37650000004075e-05, 3.353399999994622e-05, 3.396000000011057e-05, 3.427200000016839e-05, 3.4330999999721e-05, 3.415200000000951e-05, 3.434600000007393e-05, 3.436199999962142e-05, 3.402499999971553e-05, 3.45010000000201e-05, 3.4282000000107615e-05, 3.475400000008122e-05, 3.658799999994855e-05, 3.7310999999817795e-05, 3.4864000000300877e-05, 3.477199999979419e-05, 3.5051999999868855e-05, 3.476899999999006e-05, 3.47110000000761e-05, 3.4916000000162484e-05, 3.4960999999889e-05, 4.152800000012391e-05, 3.5862999999913825e-05, 3.5341000000244094e-05, 3.52889999999384e-05, 3.504600000026059e-05, 3.512499999969165e-05, 3.508100000004788e-05, 3.514000000004458e-05, 3.546299999968028e-05, 3.556199999987797e-05, 3.5497999999911656e-05, 3.5459000000237495e-05, 3.5533999999781685e-05, 3.556299999996071e-05, 3.5554999999742876e-05, 3.5827000000043796e-05, 3.627200000000386e-05, 3.624399999990757e-05, 3.602200000019096e-05, 3.592700000032423e-05, 3.6515999999764404e-05, 3.621699999989403e-05, 3.655199999963443e-05, 3.6770000000352354e-05, 3.679299999959085e-05, 3.652900000039594e-05, 3.643500000016786e-05, 3.673900000000785e-05, 3.6774000000239226e-05, 3.7076999999996474e-05, 5.8575000000171684e-05, 3.76059999998013e-05, 3.763300000025893e-05, 4.0051000000040915e-05, 9.863099999973812e-05, 3.753500000014398e-05, 3.782099999982691e-05, 3.728100000000012e-05, 3.7482999999838285e-05, 3.780300000011394e-05, 3.7697999999863896e-05, 3.781800000002278e-05, 3.7791000000009234e-05, 3.772700000004292e-05, 3.8258000000013226e-05, 3.821100000012123e-05, 3.835700000021092e-05, 3.8350000000075823e-05, 3.834299999994073e-05, 3.8487999999947675e-05, 3.808800000015822e-05, 3.896299999972541e-05, 3.8680999999929355e-05, 3.8373000000202495e-05, 3.832300000006228e-05, 3.848500000014354e-05, 3.913400000010725e-05, 3.902099999963937e-05, 3.907099999977959e-05, 4.7037999999943736e-05, 4.738800000003707e-05, 3.9839000000263525e-05, 3.899299999998718e-05, 3.9548999999805545e-05, 3.9031000000022686e-05, 3.931299999981874e-05, 3.916700000017315e-05, 4.754599999978737e-05, 3.990600000003397e-05, 3.942499999975979e-05, 3.949900000010942e-05, 4.0052000000123655e-05, 3.9913999999807714e-05, 3.976700000007938e-05, 4.0183999999943154e-05, 4.029199999999733e-05, 4.000800000003579e-05, 4.025399999996182e-05, 4.0052999999762307e-05, 4.005800000017601e-05, 4.885499999973675e-05, 4.2424999999735036e-05, 4.566300000030665e-05, 4.6477000000155755e-05, 4.061399999999438e-05, 5.090900000004339e-05, 4.77449999998214e-05, 4.070299999980875e-05, 4.78160000003669e-05, 4.133299999997675e-05, 4.785700000020654e-05, 4.823700000011755e-05, 4.194700000015317e-05, 4.860999999989346e-05, 4.186999999999941e-05, 4.8233000000230675e-05, 4.8445999999646716e-05, 4.1540000000228616e-05, 4.8639000000072485e-05, 4.2287999999945924e-05, 4.6573000000105225e-05, 4.860999999989346e-05, 4.222600000014509e-05, 4.890000000035144e-05, 4.559999999997899e-05, 4.420800000026759e-05, 4.955299999975793e-05, 4.232399999981595e-05, 5.021399999982634e-05, 4.919299999972537e-05, 4.2387999999782267e-05, 4.897599999997837e-05, 4.436100000004828e-05, 4.7713999999920986e-05, 4.950999999975281e-05, 4.26599999996391e-05, 4.957799999960599e-05, 5.212199999959921e-05, 4.657799999963075e-05, 5.0569000000333375e-05, 5.0145000000334505e-05, 4.363000000040529e-05, 5.105699999985447e-05, 5.4372000000135756e-05, 4.353099999976351e-05, 5.165700000020479e-05, 5.066899999972563e-05, 4.383799999985172e-05, 5.04420000000394e-05, 5.04819999997963e-05, 4.35570000001384e-05, 5.121700000021434e-05, 4.735000000000156e-05, 4.626999999990389e-05, 5.163700000032634e-05, 4.4817000000030305e-05, 5.0585999999963605e-05, 5.14400000000137e-05, 4.4198999999967015e-05, 5.077399999997567e-05, 5.116100000002177e-05, 4.469699999987142e-05, 5.1357999999890325e-05, 5.0721000000031324e-05, 6.63899999997497e-05, 9.017100000008327e-05, 7.066399999988704e-05, 0.0002949249999999459, 4.596899999986803e-05, 5.22140000001059e-05, 5.217999999995726e-05, 4.521700000026385e-05, 5.2553999999815915e-05, 5.218200000012274e-05, 4.521899999998524e-05, 5.216399999996568e-05, 5.237600000018716e-05, 4.606400000017885e-05, 5.216500000004842e-05, 5.258500000016042e-05, 4.6204999999854834e-05, 5.227399999974125e-05, 4.635300000011e-05, 5.2480999999993116e-05, 4.616299999993245e-05, 4.9427999999629435e-05, 4.959499999968031e-05, 4.6422000000045927e-05, 4.6557000000113646e-05, 4.72330000000909e-05, 5.337699999996559e-05, 4.671200000005982e-05, 4.6941999999994266e-05, 4.656100000000052e-05, 4.6437999999593416e-05, 5.3885999999891965e-05, 4.700599999996058e-05, 5.0241000000283975e-05, 4.931799999985387e-05, 4.7347000000197426e-05, 4.6983000000278e-05, 4.7325000000153494e-05, 4.708800000008395e-05, 4.7727999999747084e-05, 4.768099999985509e-05, 4.729599999997447e-05, 4.725700000030031e-05, 4.766000000033799e-05, 4.7541000000261846e-05, 4.799900000040935e-05, 4.7533999999682663e-05, 4.7558999999974816e-05, 5.3557000000203914e-05, 4.79740000001172e-05, 4.781300000011868e-05, 4.793900000032991e-05, 4.796800000006485e-05, 4.8505000000087506e-05, 4.823699999967346e-05, 4.812900000006337e-05, 4.895700000018266e-05, 4.899699999993956e-05, 4.851700000019221e-05, 4.849400000006554e-05, 4.8715000000143505e-05, 4.859100000009775e-05, 4.924399999994833e-05, 4.908699999983668e-05, 4.847099999993887e-05, 5.815699999978108e-05, 5.0301000000363416e-05, 4.9565999999945376e-05, 4.9293000000005804e-05, 5.042200000016095e-05, 4.956800000011086e-05, 4.99629999999307e-05, 4.9176999999733795e-05, 6.1006000000141114e-05, 6.893300000010427e-05, 5.1224999999988086e-05, 5.0316999999910905e-05, 4.964699999998601e-05, 5.049999999995336e-05, 4.990700000018222e-05, 4.990600000009948e-05, 4.9913000000234575e-05, 5.748400000005205e-05, 5.042900000029604e-05, 5.0297000000032455e-05, 5.012800000026019e-05, 5.0545999999762614e-05, 5.034399999992445e-05, 5.0531999999936517e-05, 5.126799999999321e-05, 5.080700000004157e-05, 5.067700000038755e-05, 5.07700000000888e-05, 5.1376000000047384e-05, 5.074699999996213e-05, 5.081099999992844e-05, 5.1415000000165634e-05, 5.1165000000352734e-05, 5.1883000000252366e-05, 0.00018069700000022948, 5.574799999985558e-05, 5.7477000000361045e-05, 5.372599999997618e-05, 5.280100000026877e-05, 5.283900000030428e-05, 5.218299999976139e-05, 5.2498999999706086e-05, 5.246500000000154e-05, 5.1994999999749325e-05, 5.1937999999918105e-05, 5.279699999993781e-05, 5.2188000000175094e-05, 6.750000000010914e-05, 5.264599999987851e-05, 5.304300000030793e-05, 5.245299999989683e-05, 5.3405000000061875e-05, 6.0834999999759276e-05, 5.320399999986236e-05, 5.321399999980159e-05, 5.319999999997549e-05, 5.265799999998322e-05, 5.316900000007507e-05, 5.340899999994875e-05, 5.297500000001065e-05, 5.320100000005823e-05, 6.262000000001322e-05, 6.739099999997222e-05, 6.0774999999679835e-05, 5.8463000000230636e-05, 5.3825999999812524e-05, 6.486299999997058e-05, 6.127499999974972e-05, 6.053399999972342e-05, 5.619300000025973e-05, 5.7631000000224475e-05, 6.146300000020588e-05, 6.183100000001218e-05, 6.128099999980208e-05, 5.4371000000053016e-05, 6.117699999963477e-05, 6.210699999975589e-05, 6.234900000023913e-05, 6.0951000000031286e-05, 7.628299999984378e-05, 6.212999999988256e-05, 6.142400000008763e-05, 5.520599999986331e-05, 6.121300000039298e-05, 6.283800000028705e-05, 6.24849999999455e-05, 6.166000000007443e-05, 5.573100000022535e-05, 6.172800000037171e-05, 6.240899999987448e-05, 6.29050000000575e-05, 6.23149999996464e-05, 5.625800000030878e-05, 6.005500000005881e-05, 6.333400000002598e-05, 6.250299999965847e-05, 6.27679999998243e-05, 6.0599999999855214e-05, 5.737299999974965e-05, 6.294900000014536e-05, 6.345599999990625e-05, 6.33649999999264e-05, 6.288799999998318e-05, 5.64800000000254e-05, 6.266300000001834e-05, 6.416300000022801e-05, 6.415599999964883e-05, 6.432300000014379e-05, 6.41130000000878e-05, 5.730900000022743e-05, 6.345400000018486e-05, 6.401999999994246e-05, 6.426300000006435e-05, 6.375800000002485e-05, 6.421599999972827e-05, 5.7285000000018016e-05, 6.40349999998513e-05, 8.878599999961878e-05, 8.276699999987258e-05, 5.943699999999552e-05, 5.8132000000377104e-05, 5.877500000028846e-05, 5.822600000016109e-05, 5.813499999973715e-05, 5.8113999999775956e-05, 5.854400000027127e-05, 5.834999999976276e-05, 5.858300000038952e-05, 5.874600000010943e-05, 5.8382000000190004e-05, 5.8591999999801914e-05, 5.885600000032909e-05, 5.9042000000175676e-05, 5.8964000000383265e-05, 5.889800000025147e-05, 5.943299999966456e-05, 6.687499999991076e-05, 5.9789999999892984e-05, 5.937400000011195e-05, 5.94529999999871e-05, 5.9312000000311116e-05, 7.240599999969177e-05, 6.0465999999870235e-05, 5.962600000009033e-05, 5.9521999999923025e-05, 6.0445999999991784e-05, 5.9869000000212225e-05, 5.989400000006029e-05, 5.979999999983221e-05, 5.995300000005699e-05, 5.995300000005699e-05, 6.026799999991894e-05, 6.043600000005256e-05, 6.020299999986989e-05, 7.01909999998307e-05, 6.0777000000289405e-05, 6.126899999969737e-05, 6.136400000000819e-05, 6.103999999984566e-05, 6.070899999999213e-05, 6.0871000000073394e-05, 6.193199999993126e-05, 6.576800000024363e-05, 6.834099999997179e-05, 6.317799999999707e-05, 7.125499999993679e-05]\n",
     "output_type": "stream"
    },
    {
     "data": {
      "text/plain": "<Figure size 432x288 with 1 Axes>",
      "image/png": "[encoded data removed]"
     },
     "metadata": {
      "needs_background": "light",
      "image/png": {
       "width": 395,
       "height": 278
      }
     },
     "output_type": "display_data"
    }
   ]
  },
  {
   "cell_type": "markdown",
   "source": "# Fibonacci memoization (dynamic programming)  algoritm  (backward) $O(n\\ lgn)$",
   "metadata": {
    "id": "1zWAZdcikD1V",
    "cell_id": "00028-1c18ab05-96c8-4ebe-8065-fb017dc53e4d",
    "deepnote_cell_type": "markdown"
   }
  },
  {
   "cell_type": "code",
   "metadata": {
    "id": "XDct88yn74Lu",
    "cell_id": "00029-300788e8-91b3-41ba-9686-af4ac65db867",
    "deepnote_to_be_reexecuted": false,
    "source_hash": "5a1baade",
    "execution_start": 1627309040520,
    "execution_millis": 4,
    "deepnote_cell_type": "code"
   },
   "source": "# fibI - Fibonacci Memoization (dynamic programming) (backward) O(n lg n)\n\ndef fibM(n):\n    memo = {}\n    def fib(n):\n        if n==0 :\n            return 0\n        if n==1 :\n            return 1\n        if (n-2) not in memo:\n            memo[n-2] = fib(n-2)\n        if (n-1) not in memo:\n            memo[n-1] = fib(n-1)\n        return memo[n-1] + memo[n-2]\n    return fib(n)",
   "execution_count": 4,
   "outputs": []
  },
  {
   "cell_type": "code",
   "metadata": {
    "colab": {
     "base_uri": "https://localhost:8080/"
    },
    "id": "IPG-IF2-79_s",
    "outputId": "0d9eae2e-775c-4de5-acd5-73b3a0dd0ab9",
    "cell_id": "00030-7e22c195-20a1-4df2-94f6-7aa40bdee842",
    "deepnote_cell_type": "code"
   },
   "source": "from time import process_time\nn=10\nt0 = process_time()\nk = fibM(n)\ntf =process_time()\nprint(\"n=\",n,\"fib(\",n,\")=\",k,\"time\",tf - t0, \"seconds process time\")",
   "execution_count": null,
   "outputs": [
    {
     "output_type": "stream",
     "text": "n= 10 fib( 10 )= 55 time 4.459899997755201e-05 seconds process time\n",
     "name": "stdout"
    }
   ]
  },
  {
   "cell_type": "code",
   "metadata": {
    "colab": {
     "base_uri": "https://localhost:8080/"
    },
    "id": "NDZ1mxQPAjiY",
    "outputId": "6d5af9ec-e9f1-44e9-8d21-ed3aed8492d2",
    "cell_id": "00031-89ca764d-8dbc-44da-a1d1-a38b11825a2b",
    "deepnote_cell_type": "code"
   },
   "source": "from time import process_time\nn=100\nt0 = process_time()\nk = fibM(n)\ntf =process_time()\nprint(\"n=\",n,\"fib(\",n,\")=\",k,\"time\",tf - t0, \"seconds process time\")",
   "execution_count": null,
   "outputs": [
    {
     "output_type": "stream",
     "text": "n= 100 fib( 100 )= 354224848179261915075 time 0.00019928299997218346 seconds process time\n",
     "name": "stdout"
    }
   ]
  },
  {
   "cell_type": "code",
   "metadata": {
    "colab": {
     "base_uri": "https://localhost:8080/"
    },
    "id": "xC6tLnv1AlQD",
    "outputId": "e7cfd74b-e6ab-457e-ecc7-224feb8c3086",
    "cell_id": "00032-cd743693-11bf-4452-8a59-4ea3b4692652",
    "deepnote_cell_type": "code"
   },
   "source": "from time import process_time\nn=1000\nt0 = process_time()\nk = fibM(n)\ntf =process_time()\nprint(\"n=\",n,\"fib(\",n,\")=\",k,\"time\",tf - t0, \"seconds process time\")",
   "execution_count": null,
   "outputs": [
    {
     "output_type": "stream",
     "text": "n= 1000 fib( 1000 )= 43466557686937456435688527675040625802564660517371780402481729089536555417949051890403879840079255169295922593080322634775209689623239873322471161642996440906533187938298969649928516003704476137795166849228875 time 0.0012733259999890834 seconds process time\n",
     "name": "stdout"
    }
   ]
  },
  {
   "cell_type": "code",
   "metadata": {
    "id": "UgCSkL3-0u2Y",
    "colab": {
     "base_uri": "https://localhost:8080/"
    },
    "outputId": "5acbd3e7-f52a-429f-8141-da3a2cdeb48b",
    "cell_id": "00033-5202f3a8-449e-4f2d-9006-5c43c5a68bc3",
    "deepnote_cell_type": "code"
   },
   "source": "from time import process_time\nn=10\nt0 = process_time()\nk = fibA(n)\ntf =process_time()\nprint(\"n=\",n,\"fib(\",n,\")=\",k,\"time\",tf - t0, \"seconds process time\")",
   "execution_count": null,
   "outputs": [
    {
     "output_type": "stream",
     "text": "n= 10 fib( 10 )= 55.00000000000002 time 7.380100004183987e-05 seconds process time\n",
     "name": "stdout"
    }
   ]
  },
  {
   "cell_type": "code",
   "metadata": {
    "colab": {
     "base_uri": "https://localhost:8080/"
    },
    "id": "bNJhztlfIcNT",
    "outputId": "4c656739-9a6b-4cae-8eab-0a0c060f7b8f",
    "cell_id": "00034-09e48aeb-1493-424f-9ede-06423abc41c1",
    "deepnote_cell_type": "code"
   },
   "source": "from time import process_time\nn=100\nt0 = process_time()\nk = fibA(n)\ntf =process_time()\nprint(\"n=\",n,\"fib(\",n,\")=\",k,\"time\",tf - t0, \"seconds process time\")",
   "execution_count": null,
   "outputs": [
    {
     "output_type": "stream",
     "text": "n= 100 fib( 100 )= 3.542248481792631e+20 time 4.480699999476201e-05 seconds process time\n",
     "name": "stdout"
    }
   ]
  },
  {
   "cell_type": "code",
   "metadata": {
    "colab": {
     "base_uri": "https://localhost:8080/"
    },
    "id": "DWNNTiw4HceL",
    "outputId": "02ee34b5-fb39-4d17-cdf6-d4cfd9ff8aa6",
    "cell_id": "00035-a7ca8b72-073f-4838-9a93-56c4faa807a7",
    "deepnote_cell_type": "code"
   },
   "source": "from time import process_time\nn=1000\nt0 = process_time()\nk = fibA(n)\ntf =process_time()\nprint(\"n=\",n,\"fib(\",n,\")=\",k,\"time\",tf - t0, \"seconds process time\")",
   "execution_count": null,
   "outputs": [
    {
     "output_type": "stream",
     "text": "n= 1000 fib( 1000 )= 4.3466557686938915e+208 time 5.118799998626855e-05 seconds process time\n",
     "name": "stdout"
    }
   ]
  },
  {
   "cell_type": "code",
   "metadata": {
    "tags": [],
    "cell_id": "00039-b7e634fe-b6ad-4186-ba2b-cb39f37df0fb",
    "deepnote_to_be_reexecuted": false,
    "source_hash": "69aafab7",
    "execution_start": 1627309053314,
    "execution_millis": 435,
    "deepnote_cell_type": "code"
   },
   "source": "from time import process_time\nimport numpy as np\nimport matplotlib.pyplot as plt\n\ntime = []\n\nfor i in range(1001):\n    t0 = process_time()\n    k = fibM(i)\n    tf = process_time()\n\n    timeElapsed = tf - t0\n    time.append(timeElapsed)\n\nprint(time)\n\nx = np.array(range(1001))\nplt.plot(time)\nplt.plot(x)\nplt.title(\"Fibonacci memoization (dynamic programming) algoritm (backward)\")\nplt.xlabel(\"n\")\nplt.ylabel(\"Execution Time\")\nplt.show()",
   "execution_count": 6,
   "outputs": [
    {
     "name": "stdout",
     "text": "[6.097999999621351e-06, 1.7340000000309885e-06, 2.7999999998584713e-06, 2.7610000001843105e-06, 2.7460000002754725e-06, 3.212000000196724e-06, 3.238999999766179e-06, 3.545999999854388e-06, 3.906999999969685e-06, 4.173000000218252e-06, 4.316999999698368e-06, 5.288999999741861e-06, 5.167999999944328e-06, 5.8739999997392545e-06, 5.899000000031407e-06, 6.229999999884939e-06, 6.6450000000273235e-06, 7.173999999832148e-06, 7.179999999884501e-06, 7.628000000092783e-06, 8.23900000002098e-06, 8.314000000009258e-06, 8.928999999824327e-06, 9.356000000071418e-06, 9.436999999667961e-06, 9.675000000264333e-06, 1.0108000000119688e-05, 1.0366000000150422e-05, 1.0762999999691658e-05, 1.1015999999752779e-05, 1.134499999988492e-05, 1.1687999999843157e-05, 1.1897999999899156e-05, 1.2229999999835428e-05, 1.2492000000197123e-05, 1.2980999999800957e-05, 1.32370000001103e-05, 1.3454999999940043e-05, 1.3827999999715956e-05, 1.4543999999894197e-05, 1.4213000000040665e-05, 1.4977000000193641e-05, 1.5180000000114546e-05, 1.5949000000237135e-05, 1.647699999995922e-05, 1.676699999997311e-05, 1.7415999999936815e-05, 1.7279999999786355e-05, 1.7549999999921795e-05, 1.8122999999814482e-05, 1.823499999975553e-05, 1.8883000000080585e-05, 1.9011000000013212e-05, 1.8955999999903383e-05, 1.9618000000054536e-05, 1.9698000000012428e-05, 2.009000000002814e-05, 2.016600000009916e-05, 2.0834000000302666e-05, 2.1294000000171565e-05, 2.1424000000269672e-05, 2.1451999999921867e-05, 2.2224999999931327e-05, 2.226599999977097e-05, 2.225099999986213e-05, 2.3110999999964577e-05, 2.3354000000086472e-05, 2.3842000000051655e-05, 2.367899999988765e-05, 2.460299999995641e-05, 2.4519999999750297e-05, 2.5237000000011278e-05, 2.508400000023059e-05, 2.5983000000007195e-05, 2.5824000000174152e-05, 2.5842999999969862e-05, 2.6327000000048173e-05, 2.747600000008177e-05, 2.6867999999957703e-05, 2.717299999988043e-05, 2.7503000000095312e-05, 2.8168000000050597e-05, 2.8261999999834586e-05, 2.9144999999619614e-05, 2.8785999999669798e-05, 2.9919000000155904e-05, 3.141800000028283e-05, 3.08910000001994e-05, 3.139100000026929e-05, 3.1791999999697396e-05, 3.1926999999765115e-05, 3.1657000000073765e-05, 3.22690000000847e-05, 3.273299999984047e-05, 3.330500000009451e-05, 3.369100000005787e-05, 3.435199999968219e-05, 3.4416000000092595e-05, 3.4244000000072106e-05, 3.521399999995012e-05, 0.0002581369999998806, 3.546499999984576e-05, 3.5017000000081566e-05, 3.6133000000049265e-05, 3.69550000001162e-05, 3.700499999981233e-05, 3.701799999999977e-05, 3.751699999998692e-05, 3.795699999997737e-05, 3.802099999994368e-05, 3.872699999973861e-05, 3.918899999977299e-05, 3.911499999986745e-05, 3.9413999999737825e-05, 3.995200000028731e-05, 4.0337999999806584e-05, 4.0401000000134246e-05, 4.067700000032204e-05, 4.0900000000121395e-05, 5.2359999999751494e-05, 4.21269999999474e-05, 4.195200000012278e-05, 4.3024000000002616e-05, 4.2944000000044724e-05, 4.330000000019041e-05, 4.389699999984842e-05, 6.275500000008094e-05, 4.463699999979198e-05, 4.961299999983737e-05, 0.0010323080000000928, 7.863100000005119e-05, 8.487199999995809e-05, 8.277200000028628e-05, 8.714799999998135e-05, 9.050900000007189e-05, 8.743500000019111e-05, 0.00012162499999979204, 9.15450000000817e-05, 8.217900000007106e-05, 8.252800000008165e-05, 8.680999999999273e-05, 9.231099999995607e-05, 9.316999999997577e-05, 7.98440000000511e-05, 0.0001345310000000488, 9.653899999984006e-05, 9.977599999988485e-05, 9.057800000000782e-05, 9.714899999968551e-05, 0.00010061799999983023, 0.0001531919999999687, 0.00010283599999993953, 0.00010436400000024548, 0.0001005109999998588, 9.53770000000631e-05, 0.00010498200000030877, 9.778499999990586e-05, 0.00010001099999978891, 0.00010442200000015944, 0.00010698200000014424, 0.00011208999999956504, 0.0001007050000003673, 0.00011182200000003917, 9.701600000022736e-05, 0.00010961600000003457, 9.221699999972799e-05, 0.00010129800000013844, 0.00010396000000012506, 0.00010515999999993753, 0.00010220600000021562, 9.548900000000415e-05, 0.00018336899999971124, 6.890400000036934e-05, 6.294300000009301e-05, 6.237300000000445e-05, 6.379200000017349e-05, 6.318500000013216e-05, 6.408900000032247e-05, 6.430100000009986e-05, 6.514000000024112e-05, 6.432599999994792e-05, 6.584899999984017e-05, 6.583799999981821e-05, 6.96979999998959e-05, 7.338299999970488e-05, 6.731200000009707e-05, 6.688499999984998e-05, 6.778500000015342e-05, 6.74990000000264e-05, 6.777500000021419e-05, 6.89220000000823e-05, 6.902499999972278e-05, 6.92519999998531e-05, 6.977699999977105e-05, 7.026000000021071e-05, 7.04250000000961e-05, 7.021700000020559e-05, 7.321600000009809e-05, 7.185599999992576e-05, 7.14560000001363e-05, 7.130799999988113e-05, 7.244399999972728e-05, 0.00010961499999995183, 7.403599999999955e-05, 7.327099999976383e-05, 7.36740000002456e-05, 8.458300000002694e-05, 7.817399999998642e-05, 7.46199999999142e-05, 7.73569999998891e-05, 7.574199999993425e-05, 7.615200000010702e-05, 7.603400000011362e-05, 0.00010220799999993702, 7.795000000010432e-05, 7.737500000004616e-05, 7.833499999998494e-05, 7.889600000021701e-05, 8.300500000002486e-05, 8.392400000012401e-05, 7.998999999969669e-05, 7.922800000015329e-05, 8.000000000008001e-05, 8.252099999994655e-05, 8.025599999994526e-05, 8.123000000015423e-05, 8.11490000001136e-05, 8.140899999986573e-05, 8.170300000021058e-05, 8.326899999966386e-05, 8.328699999982092e-05, 8.31570000001669e-05, 8.312100000029687e-05, 8.30529999999996e-05, 8.61699999998855e-05, 8.563399999994559e-05, 8.889700000036527e-05, 0.0001405170000001732, 8.549999999996061e-05, 8.662400000014614e-05, 8.58559999996622e-05, 8.679299999991841e-05, 8.674499999994367e-05, 8.745899999995643e-05, 8.749900000015742e-05, 8.855799999984981e-05, 8.79610000001918e-05, 8.943799999983071e-05, 8.930899999981534e-05, 8.864200000013867e-05, 8.986899999996467e-05, 9.321799999995051e-05, 9.0476000000006e-05, 9.112899999985657e-05, 9.097600000007589e-05, 9.119300000026698e-05, 9.149600000002422e-05, 9.221599999964525e-05, 9.289899999975759e-05, 0.00011174099999999854, 9.655699999999712e-05, 9.52800000000309e-05, 9.486100000000164e-05, 9.586699999974968e-05, 9.585899999997594e-05, 0.00010008500000013854, 9.645999999996491e-05, 9.741499999993408e-05, 9.856899999993729e-05, 9.790699999978614e-05, 9.842200000020895e-05, 9.941900000010051e-05, 9.920299999999216e-05, 0.00010042300000012716, 9.988900000035272e-05, 0.00010080099999987269, 0.00010111799999990012, 0.00010200299999985063, 0.00015040899999974044, 0.0005822669999999697, 0.00010432700000029271, 0.00010471700000014295, 0.00012675000000017533, 0.0002419129999999825, 0.00010727399999987952, 0.00010806700000021152, 0.0001077619999998447, 0.00010526499999974348, 0.00010792100000012184, 0.00010847399999969198, 0.00010771800000020093, 0.0001258010000002585, 0.00011791200000033086, 0.00016290699999998992, 0.0001652729999999103, 0.00017619000000035356, 0.0001816879999996246, 0.00019251300000000526, 0.00018517899999981324, 0.00018490300000006954, 0.00020037199999967115, 0.0002065739999999039, 0.00021858300000010544, 0.0001912090000000255, 0.00018490500000023502, 0.00018072599999996442, 0.00018462000000019074, 0.00020081599999999256, 0.00020345400000021385, 0.00020113199999993725, 0.00021042199999987687, 0.000213325000000264, 0.00021790800000021093, 0.00022827999999996962, 0.00022293399999995245, 0.00021590500000012725, 0.00020341600000017834, 0.00020412000000025188, 0.00021739600000003634, 0.00021133300000020228, 0.00022205100000016742, 0.000233816999999803, 0.00023223599999999678, 0.00024119500000008287, 0.00022303799999967566, 0.0002145659999999161, 0.00021051900000035317, 0.00021300499999998834, 0.0002345749999999036, 0.00023256400000004618, 0.00022934299999999297, 0.0002449849999996978, 0.00024385899999979088, 0.0002378380000003233, 0.00022579899999985997, 0.00022340800000009153, 0.00019450399999998425, 0.00020524000000010645, 0.00022043499999968574, 0.00023360799999982973, 0.00022837700000000183, 0.0002105900000000105, 0.00013783500000030813, 0.0001366469999997122, 0.00013372899999986032, 0.00013545900000000444, 0.00013717700000004385, 0.0001372019999998919, 0.00015662599999988203, 0.00014161700000014932, 0.0001384519999998446, 0.00013862499999994782, 0.00013900500000030291, 0.00013918200000029302, 0.00013678599999966679, 0.00013944900000018023, 0.00014008899999984337, 0.00014098100000037306, 0.0001401579999997793, 0.00014145500000006805, 0.0001507929999999824, 0.0001438579999999412, 0.00014258200000005772, 0.000147521999999789, 0.00014290199999988928, 0.00014356199999987496, 0.0001445850000001414, 0.00014445000000007369, 0.0001442640000002271, 0.00014624499999982277, 0.00014685300000039092, 0.00014805899999981165, 0.00014645400000024011, 0.0001487610000001638, 0.00014792300000010528, 0.00016220399999999913, 0.00016007600000023103, 0.00015691000000028765, 0.0001512340000000556, 0.00015319300000005143, 0.00015118300000027673, 0.00015248500000009102, 0.00015312300000003276, 0.00015406699999997997, 0.00015507100000000662, 0.00015528200000014536, 0.0001559059999998169, 0.0001564040000001654, 0.0001558820000000516, 0.00016171600000003394, 0.0001597520000000685, 0.00015884299999990859, 0.00016020599999988505, 0.0001835569999997233, 0.0001760610000003382, 0.00016209299999969673, 0.00016462300000030794, 0.00016253899999973953, 0.0001629839999996996, 0.00016530700000005893, 0.00019227700000001846, 0.0001677010000000756, 0.00016444600000031784, 0.00017259100000011074, 0.0001684370000001323, 0.00017465100000002565, 0.0001752540000001801, 0.00017554099999994577, 0.00017306400000016708, 0.00017826599999981596, 0.0001737720000001275, 0.00017738599999983506, 0.0001780049999999811, 0.00018072899999976855, 0.00017679499999978532, 0.00017926900000020396, 0.00017878900000001252, 0.0001836920000002351, 0.00017979899999964744, 0.000181121999999867, 0.000179801000000257, 0.00019358099999999823, 0.0001982550000003691, 0.00020692000000011035, 0.00018156400000002293, 0.00018561799999972095, 0.0001835499999995882, 0.00018952699999985612, 0.00018355999999997152, 0.00018788999999985734, 0.0001870469999998292, 0.0001906190000000585, 0.00018994699999996811, 0.00018822000000007222, 0.00018676000000006354, 0.0001936229999999206, 0.00019148099999988233, 0.00019398700000028413, 0.00019019399999997688, 0.0001965909999999127, 0.00019296200000029629, 0.00020139299999977212, 0.00019689899999963956, 0.00022301700000015856, 0.000197208999999976, 0.00020082599999993178, 0.00019576100000007202, 0.0002055860000003129, 0.00022920799999992525, 0.00020118399999979886, 0.00021048000000023492, 0.00020909500000021453, 0.00023067500000006902, 0.0012555519999999376, 0.0002033180000000634, 0.00019597699999973628, 0.00019553299999985896, 0.00021251899999974455, 0.00019402800000012377, 0.00020110899999981058, 0.0001929669999998218, 0.0001953290000002994, 0.0001952230000004107, 0.00019605499999997278, 0.00019786200000027065, 0.00019678600000005986, 0.00020714199999982696, 0.00019872799999998136, 0.0001976840000001978, 0.00020002099999993916, 0.00019903500000006957, 0.0002007700000001833, 0.00020155499999985338, 0.00020540100000010497, 0.00020116700000016863, 0.0002022400000001312, 0.00020520999999984468, 0.0002179139999998192, 0.00020679699999970325, 0.0002044720000000666, 0.00020379600000008935, 0.0002073999999998577, 0.00020696800000008508, 0.00020677100000021653, 0.0002080349999999953, 0.0002101159999998714, 0.0002074400000000587, 0.00022467299999995305, 0.00021143099999987314, 0.00020821300000006815, 0.00021157500000024143, 0.00024061000000008548, 0.00022322500000004908, 0.00021186800000005945, 0.0002142780000000677, 0.00021641199999988814, 0.0002271679999998888, 0.00021582900000005623, 0.0002156300000000222, 0.00021790800000021093, 0.00021853900000001758, 0.0002227580000000451, 0.00021781200000026146, 0.00021806800000012672, 0.00021685100000023994, 0.00021738999999998398, 0.00021855899999989603, 0.00022075899999984827, 0.0002217180000001484, 0.00022132199999980173, 0.0002203419999999845, 0.00022270000000013113, 0.0002243269999997466, 0.00023337500000009115, 0.00023370599999994468, 0.00023260099999999895, 0.0002253279999999691, 0.00022599200000028574, 0.000225658000000184, 0.000226377999999805, 0.00022763499999989278, 0.00022598199999990243, 0.00022972399999998672, 0.0002276920000001681, 0.00022900099999967338, 0.00023074400000000495, 0.00023068600000009098, 0.0002308330000002634, 0.0002312479999999617, 0.00023727100000003887, 0.0002318450000000638, 0.00024162899999957688, 0.0002426070000001168, 0.00023356900000015557, 0.0002343719999999827, 0.00032485099999979283, 0.0002483049999999487, 0.00023558399999989987, 0.00023423199999994537, 0.00024665199999995835, 0.00023684499999987452, 0.00023893100000016432, 0.0002388150000003364, 0.0002460540000002176, 0.0002403110000002151, 0.00024010500000004598, 0.00024072099999994379, 0.00025468099999992333, 0.00024259199999976389, 0.00024170500000009199, 0.0002527340000000322, 0.0002434110000000267, 0.00024218400000020068, 0.00031589899999984183, 0.0003564590000002532, 0.00025669199999978076, 0.00024727199999974303, 0.00024525800000008147, 0.00024797799999998205, 0.00024684600000002277, 0.00024419099999972715, 0.00024847299999963823, 0.0002493980000002338, 0.00027086300000034313, 0.00024915299999994645, 0.00025169199999997005, 0.00025269700000007944, 0.0002501270000001554, 0.00024994099999986474, 0.0002595379999998926, 0.0002673039999998572, 0.0002555599999998215, 0.0002641370000002752, 0.0002561309999999928, 0.00028211799999988685, 0.00025764500000002855, 0.00026804599999996626, 0.0002584979999999959, 0.00026939100000022975, 0.0002610010000001495, 0.0002586780000002342, 0.0002565959999998313, 0.0002587099999997733, 0.0002638400000001262, 0.00025647300000031237, 0.0002575120000001263, 0.000258301999999766, 0.000260455999999909, 0.0002602769999997534, 0.00026109700000009894, 0.00026110899999975956, 0.0002612800000001414, 0.00027137000000010403, 0.00029894399999985666, 0.0002722039999998316, 0.0002902049999997658, 0.00029482199999986136, 0.0002918009999999249, 0.00027359300000018294, 0.0002998040000004032, 0.00028142900000016624, 0.00028490000000003235, 0.0002738519999998523, 0.00028807799999963635, 0.00033494799999989056, 0.0002866400000001157, 0.00028691000000025113, 0.00029199499999998935, 0.0002911370000000524, 0.0002824640000000933, 0.000304491999999712, 0.0002854389999997764, 0.000292228000000172, 0.00028356000000018255, 0.0002809660000000491, 0.00028092700000037496, 0.0002826320000002269, 0.0002822650000000593, 0.0002844220000000064, 0.0002831220000003576, 0.0002873430000001065, 0.0020730439999998573, 0.00028306699999980367, 0.0002780330000002884, 0.00027981499999985004, 0.00030203300000009037, 0.00028036000000009054, 0.00029358100000020926, 0.00028168200000022736, 0.00032432300000007075, 0.0002856890000000334, 0.00029345799999980215, 0.00028264700000013576, 0.0002820420000002599, 0.0002879499999997037, 0.0002877849999998183, 0.00028661800000007176, 0.0002870859999997144, 0.00031163099999975685, 0.0003041129999998837, 0.00029068800000020545, 0.00029991399999973467, 0.00030690499999996845, 0.00029452200000035234, 0.00029339700000008406, 0.0002947830000001872, 0.00029346499999993725, 0.000293682999999767, 0.00029571600000011244, 0.00029906200000029415, 0.00030062600000002604, 0.000298015999999901, 0.000300304000000029, 0.0003048770000000367, 0.000313349999999879, 0.00031120700000020207, 0.00030427400000032634, 0.0003053700000004156, 0.0002995989999998727, 0.0003054640000001996, 0.0003047020000002121, 0.00030336300000000094, 0.0003047070000001817, 0.00030670500000029577, 0.00030323399999998557, 0.000307381000000273, 0.00030901199999977536, 0.00031307500000021804, 0.0003156719999997115, 0.0003097729999996801, 0.00030665000000018594, 0.00034433700000002787, 0.0003139469999999811, 0.0003112079999998407, 0.00032210299999979597, 0.00031495299999972914, 0.00030749999999990507, 0.0003106509999999396, 0.000308158999999808, 0.0003137459999997816, 0.0003144969999997471, 0.00033029999999989457, 0.0003148109999999704, 0.0003222589999998249, 0.00032954700000020765, 0.00035031600000001717, 0.0003335949999998533, 0.00033371899999989907, 0.0003223560000003012, 0.000319761000000085, 0.0003241819999999507, 0.0003260350000000578, 0.00032979500000029915, 0.0003369570000000266, 0.0003302249999999063, 0.0003353169999997796, 0.00032780300000023743, 0.0003300460000001948, 0.00032736899999985525, 0.00034098400000015516, 0.0003307420000000505, 0.0003280969999996941, 0.0003663360000007998, 0.00033441699999947616, 0.0003403500000001003, 0.0003442240000000041, 0.0003378129999997981, 0.00033411500000024574, 0.0003316150000003404, 0.0003406359999997832, 0.00033674800000049743, 0.00033474800000021787, 0.000337088999999402, 0.00036777800000020733, 0.0003475660000002989, 0.00033735899999953745, 0.0003634740000002523, 0.0003849970000002756, 0.00033929000000032516, 0.000391113000000054, 0.00040606099999962453, 0.0003508850000004671, 0.0003381339999997124, 0.0003395510000006041, 0.0003379580000002491, 0.00033822500000013633, 0.00037291300000052985, 0.00035439500000045143, 0.000366777000000873, 0.00034152399999953786, 0.00036412800000018564, 0.0003526789999996893, 0.0003707449999996726, 0.0003457099999994995, 0.0003417839999997341, 0.0003722320000001389, 0.00036501800000010576, 0.00036773799999956225, 0.0003889749999999026, 0.00039595099999978345, 0.00036733700000013414, 0.00036233800000040617, 0.00035687000000006464, 0.00037647799999973586, 0.0003583580000006137, 0.000361303000000035, 0.0003625870000005804, 0.0003642070000005049, 0.0003646639999992374, 0.0003691789999997752, 0.00038768099999941796, 0.00036846999999973207, 0.0003635580000000971, 0.0003657449999998619, 0.00036869399999961416, 0.00037911799999967855, 0.0003714160000001243, 0.00039982499999968724, 0.0003804970000000907, 0.000385466000000001, 0.0004213980000002948, 0.0004157559999997673, 0.00039911600000053227, 0.00041575400000049, 0.0004059959999995755, 0.00040927100000054395, 0.0004106830000001338, 0.0004148029999999636, 0.00041242999999990815, 0.00042194400000017396, 0.0030223359999999033, 0.0004452830000003516, 0.0004714240000005532, 0.0004182689999998601, 0.0005056859999994501, 0.0004596149999995802, 0.0003774019999998046, 0.00041926400000047437, 0.0005833239999999407, 0.00042967999999987683, 0.00037555300000047254, 0.0003743270000002852, 0.00047675099999988646, 0.000379814999999617, 0.00037073699999989884, 0.00037522700000014453, 0.00038615900000049663, 0.0003745350000006198, 0.0003782440000001941, 0.0003750020000001797, 0.00037547800000048426, 0.0003866540000005969, 0.00039924199999941123, 0.00039094999999989, 0.0003800160000002606, 0.0004029820000006623, 0.00039707500000041307, 0.00038130600000041426, 0.0004223969999994637, 0.00041134499999984087, 0.0003892529999998118, 0.0003889819999995936, 0.00039795699999967127, 0.0003818749999995319, 0.0003797920000003785, 0.00039023900000056955, 0.00038459700000004204, 0.00038365999999978584, 0.0003832460000001703, 0.0003808630000001756, 0.00038046099999977656, 0.00038853499999991215, 0.00039798300000004616, 0.00040979200000013094, 0.00038322799999956914, 0.0003898810000002584, 0.00038835400000003517, 0.00038972900000011634, 0.0003890599999998301, 0.00039584500000078293, 0.00038798100000025926, 0.0003914919999994382, 0.0004004570000004648, 0.000526569999999893, 0.0004533999999996041, 0.0004079639999998719, 0.000403434999999952, 0.00040698900000002425, 0.000397104000000148, 0.0003938359999997587, 0.0003944210000002002, 0.0003971509999995959, 0.00042584400000045264, 0.0004266969999999759, 0.00042336599999970304, 0.00040055900000002254, 0.0004751259999995483, 0.0005276020000000159, 0.00040216599999975955, 0.00040036800000020634, 0.00040002799999960814, 0.0004132690000000494, 0.00040305299999943145, 0.0004019929999996563, 0.0004060250000001986, 0.00040371199999977847, 0.0004157559999997673, 0.0004154839999994664, 0.0004360690000000389, 0.0004168599999996303, 0.00040832200000018304, 0.0004314839999999265, 0.00040518799999933464, 0.0004077520000000945, 0.00041032600000079356, 0.00041033199999951364, 0.0004056549999997827, 0.0004123890000000685, 0.00040687300000019633, 0.00041234499999998064, 0.00042487700000037876, 0.0004313600000003248, 0.00041326999999924396, 0.000411627000000081, 0.0004123389999994842, 0.0004120419999997793, 0.00041188800000035997, 0.00041571900000025863, 0.0004178279999997869, 0.000414505000000176, 0.0004351809999993961, 0.00041781199999935126, 0.0004468590000001882, 0.0004207059999998819, 0.0004154719999993617, 0.0004262790000000294, 0.0004191840000000724, 0.00043632100000046137, 0.0004226429999993897, 0.0004935869999993514, 0.0004355809999996296, 0.00045164299999989055, 0.00046562799999971816, 0.0004676390000000197, 0.00042397500000035393, 0.0004232740000000845, 0.0005312050000005897, 0.000509669000000379, 0.0004951509999999715, 0.0007193149999995541, 0.0007375729999994363, 0.0008358760000000132, 0.0007178159999998712, 0.0005548119999998491, 0.0005662570000000144, 0.0005219740000006468, 0.0005532600000002219, 0.0005065110000002093, 0.0006621110000004649, 0.0008099799999996549, 0.0005281609999991943, 0.0005137250000002425, 0.0005133009999997995, 0.0027321420000001595, 0.0004922350000002851, 0.0004343140000004908, 0.0004602419999999441, 0.0004446739999997007, 0.000435119999999678, 0.0004352569999994671, 0.0004347969999995982, 0.00043719299999978034, 0.00043557199999977314, 0.0005667730000000759, 0.00046250200000041986, 0.00044714800000011934, 0.0005557640000004582, 0.0004827550000001679, 0.00046617499999968004, 0.00045562800000009673, 0.0004443649999998911, 0.0004634489999997271, 0.00044752099999989525, 0.00044299799999958367, 0.0004426240000006132, 0.00044402400000009834, 0.0004519350000000699, 0.000447445999999907, 0.0004810059999993399, 0.0004635519999993676, 0.0005388320000001556, 0.00046063699999976393, 0.00044843700000019027, 0.0004544550000007419, 0.0004548060000004739, 0.0004545750000000126, 0.0004528639999996642, 0.0004543369999998603, 0.0004708490000000509, 0.0004789959999991211, 0.000457146999999658, 0.000458726000000631, 0.00047083300000050343, 0.0004618459999994329, 0.00045928299999964395, 0.00045888200000021584, 0.0004573780000001193, 0.000492170000000236, 0.00046990299999993823, 0.0004901190000001776, 0.0004689489999991636, 0.0004655909999993213, 0.00046201099999976236, 0.00046904699999927857, 0.00046758200000063255, 0.0004676129999996448, 0.0004852539999999905, 0.0004753170000002527, 0.0004668850000006941, 0.0004789530000000042, 0.0004668020000000439, 0.0004675919999996836, 0.00047037999999943736, 0.00046630699999994363, 0.0004820399999996283, 0.00046793100000019905, 0.0004718160000001248, 0.0004729010000001921, 0.0004710040000004412, 0.0004834369999997534, 0.0005250980000006678, 0.0004955949999994047, 0.000504858000000219, 0.0004938120000002044, 0.0007609500000000935, 0.0007698050000000123, 0.0008695799999998144, 0.0009104930000001232, 0.0008971950000002948, 0.0008950140000001383, 0.0009031049999999041, 0.0008957440000001426, 0.0009200229999999365, 0.0009038769999998308, 0.0009022270000000887, 0.0009374550000007531, 0.0009319139999997006, 0.000924492000000221, 0.0009220810000005741, 0.0008675379999996125, 0.0008142470000001012, 0.0009337139999994193, 0.0008338200000004292, 0.000874523000000238, 0.0008211359999998891, 0.0008307890000001095, 0.0009109189999998435, 0.0008567150000002854, 0.0008558559999993776, 0.0008681870000000202, 0.0008834800000006027]\n",
     "output_type": "stream"
    },
    {
     "data": {
      "text/plain": "<Figure size 432x288 with 1 Axes>",
      "image/png": "[encoded data removed]"
     },
     "metadata": {
      "needs_background": "light",
      "image/png": {
       "width": 434,
       "height": 278
      }
     },
     "output_type": "display_data"
    }
   ]
  },
  {
   "cell_type": "markdown",
   "source": "# Fibonacci  binary exponentiation matrix algorithm $O(lg^2 n) $",
   "metadata": {
    "id": "yxLkXgpNkPrS",
    "cell_id": "00036-ed4cb4d0-1be4-4957-9c5d-2b186c2f96dd",
    "deepnote_cell_type": "markdown"
   }
  },
  {
   "cell_type": "markdown",
   "source": "The Fibonacci Q-matrix | Lecture 6 | Fibonacci Numbers and the Golden Ratio https://youtu.be/lTHVwsHJrG0\n\nExercise 0.4. Dasgupta S., Papadimitriou C., Vazirani U. , “Algorithms” , McGraw Hill, 2007.\n\nFast matrix solution https://stackoverflow.com/a/40117659\n\nThis is a superfast solution refer to https://stackoverflow.com/a/23462371/3700852\n\nYou can read some more about involved math here https://en.wikipedia.org/wiki/Fibonacci_number#Matrix_form\n\nEfficient calculation of Fibonacci series https://stackoverflow.com/questions/18172257/efficient-calculation-of-fibonacci-series\n\nPython: Compute a Huge Fibonacci Number Modulo m https://stackoverflow.com/questions/40096097/python-compute-a-huge-fibonacci-number-modulo-m#:~:text=Pisano%20periods%20follows%20a%20Fibonacci,in%20finding%20the%20Pisano%20period.\n\nBinary Exponentiation https://cp-algorithms.com/algebra/binary-exp.html\n\nExponentiation by squaring https://en.wikipedia.org/wiki/Exponentiation_by_squaring ",
   "metadata": {
    "id": "O9sNNaXwIBWl",
    "cell_id": "00037-fc41a51a-5eb2-431f-a607-c4ec16a03c48",
    "deepnote_cell_type": "markdown"
   }
  },
  {
   "cell_type": "code",
   "metadata": {
    "id": "VcNX7LjMICLz",
    "cell_id": "00038-dd122c5f-9d1a-42f3-9803-989a91f23ce6",
    "deepnote_cell_type": "code"
   },
   "source": "# Fibonacci fast matrix O(lg^2 n) - https://stackoverflow.com/a/40117659  \n\ndef fib_fast_matrix(n):\n\n    if n==0: return 0\n\n    # Initialize a matrix [[1,1],[1,0]]    \n    v1, v2, v3 = 1, 1, 0  \n    # Perform fast exponentiation of the matrix (quickly raise it to the nth power)\n    for rec in bin(n)[3:]:\n        calc = (v2*v2) \n        v1, v2, v3 = (v1*v1+calc) , ((v1+v3)*v2) , (calc+v3*v3) \n        if rec == '1': v1, v2, v3 = (v1+v2), v1, v2\n    return v2;    ",
   "execution_count": null,
   "outputs": []
  },
  {
   "cell_type": "code",
   "metadata": {
    "colab": {
     "base_uri": "https://localhost:8080/"
    },
    "id": "6ONxPvSdI9mr",
    "outputId": "24a86a40-c8ab-405d-c001-8cd6f815a24f",
    "cell_id": "00039-2416d197-ecf3-4e11-abd2-d01140abd22d",
    "deepnote_cell_type": "code"
   },
   "source": " for n in range(0, 20):\n   print(fib_fast_matrix(n))",
   "execution_count": null,
   "outputs": [
    {
     "output_type": "stream",
     "text": "0\n1\n1\n2\n3\n5\n8\n13\n21\n34\n55\n89\n144\n233\n377\n610\n987\n1597\n2584\n4181\n",
     "name": "stdout"
    }
   ]
  },
  {
   "cell_type": "code",
   "metadata": {
    "colab": {
     "base_uri": "https://localhost:8080/"
    },
    "id": "xij3BFA0H3sM",
    "outputId": "99024659-fa19-47e0-d86a-025f79f4a790",
    "cell_id": "00040-19494b0f-20e1-47df-8e35-04b411c41e69",
    "deepnote_cell_type": "code"
   },
   "source": "from time import process_time\nn=10\nt0 = process_time()\nk = fib_fast_matrix(n)\ntf =process_time()\nprint(\"n=\",n,\"fib(\",n,\")=\",k,\"time\",tf - t0, \"seconds process time\")",
   "execution_count": null,
   "outputs": [
    {
     "output_type": "stream",
     "text": "n= 10 fib( 10 )= 55 time 6.432500003938912e-05 seconds process time\n",
     "name": "stdout"
    }
   ]
  },
  {
   "cell_type": "code",
   "metadata": {
    "colab": {
     "base_uri": "https://localhost:8080/"
    },
    "id": "9G6c4AX_KcAS",
    "outputId": "5f3141d4-8ace-42fa-db61-ca372e591b91",
    "cell_id": "00041-58256e8f-4665-4257-8b25-a84e05b1d37a",
    "deepnote_cell_type": "code"
   },
   "source": "from time import process_time\nn=100\nt0 = process_time()\nk = fib_fast_matrix(n)\ntf =process_time()\nprint(\"n=\",n,\"fib(\",n,\")=\",k,\"time\",tf - t0, \"seconds process time\")",
   "execution_count": null,
   "outputs": [
    {
     "output_type": "stream",
     "text": "n= 100 fib( 100 )= 354224848179261915075 time 6.234999995058388e-05 seconds process time\n",
     "name": "stdout"
    }
   ]
  },
  {
   "cell_type": "code",
   "metadata": {
    "colab": {
     "base_uri": "https://localhost:8080/"
    },
    "id": "rkJvGhmQKe45",
    "outputId": "62863815-04a7-45b8-8a51-615b74f17ee4",
    "cell_id": "00042-7c6381a1-1e1e-4fc6-8489-4ed0a6a0e54f",
    "deepnote_cell_type": "code"
   },
   "source": "from time import process_time\nn=1000\nt0 = process_time()\nk = fib_fast_matrix(n)\ntf =process_time()\nprint(\"n=\",n,\"fib(\",n,\")=\",k,\"time\",tf - t0, \"seconds process time\")",
   "execution_count": null,
   "outputs": [
    {
     "output_type": "stream",
     "text": "n= 1000 fib( 1000 )= 43466557686937456435688527675040625802564660517371780402481729089536555417949051890403879840079255169295922593080322634775209689623239873322471161642996440906533187938298969649928516003704476137795166849228875 time 4.804599996077741e-05 seconds process time\n",
     "name": "stdout"
    }
   ]
  },
  {
   "cell_type": "code",
   "metadata": {
    "colab": {
     "base_uri": "https://localhost:8080/"
    },
    "id": "bOzN2bmAmv76",
    "outputId": "01ac2a50-7bc8-4c67-f271-89d35642a045",
    "cell_id": "00043-ff9f02bc-eb98-43cd-8cc3-6ad691ec41c5",
    "deepnote_cell_type": "code"
   },
   "source": "from time import process_time\nn=100000\nm=10\nt0 = process_time()\nk = fib_fast_matrix(n)\ntf =process_time()\nprint(\"n=\",n,\"fib(\",n,\")=\",k,\"time\",tf - t0, \"seconds process time\")",
   "execution_count": null,
   "outputs": [
    {
     "output_type": "stream",
     "text": "n= 100000 fib( 100000 )= 2597406934722172416615503402127591541488048538651769658472477070395253454351127368626555677283671674475463758722307443211163839947387509103096569738218830449305228763853133492135302679278956701051276578271635608073050532200243233114383986516137827238124777453778337299916214634050054669860390862750996639366409211890125271960172105060300350586894028558103675117658251368377438684936413457338834365158775425371912410500332195991330062204363035213756525421823998690848556374080179251761629391754963458558616300762819916081109836526352995440694284206571046044903805647136346033000520852277707554446794723709030979019014860432846819857961015951001850608264919234587313399150133919932363102301864172536477136266475080133982431231703431452964181790051187957316766834979901682011849907756686456845066287392485603914047605199550066288826345877189410680370091879365001733011710028310473947456256091444932821374855573864080579813028266640270354294412104919995803131876805899186513425175959911520563155337703996941035518275274919959802257507902037798103089922984996304496255814045517000250299764322193462165366210841876745428298261398234478366581588040819003307382939500082132009374715485131027220817305432264866949630987914714362925554252624043999615326979876807510646819068792118299167964409178271868561702918102212679267401362650499784968843680975254700131004574186406448299485872551744746695651879126916993244564817673322257149314967763345846623830333820239702436859478287641875788572910710133700300094229333597292779191409212804901545976262791057055248158884051779418192905216769576608748815567860128818354354292307397810154785701328438612728620176653953444993001980062953893698550072328665131718113588661353747268458543254898113717660519461693791688442534259478126310388952047956594380715301911253964847112638900713362856910155145342332944128435722099628674611942095166100230974070996553190050815866991144544264788287264284501725332048648319457892039984893823636745618220375097348566847433887249049337031633826571760729778891798913667325190623247118037280173921572390822769228077292456662750538337500692607721059361942126892030256744356537800831830637593334502350256972906515285327194367756015666039916404882563967693079290502951488693413799125174856667074717514938979038653338139534684837808612673755438382110844897653836848318258836339917310455850905663846202501463131183108742907729262215943020429159474030610183981685506695026197376150857176119947587572212987205312060791864980361596092339594104118635168854883911918517906151156275293615849000872150192226511785315089251027528045151238603792184692121533829287136924321527332714157478829590260157195485316444794546750285840236000238344790520345108033282013803880708980734832620122795263360677366987578332625485944906021917368867786241120562109836985019729017715780112040458649153935115783499546100636635745448508241888279067531359950519206222976015376529797308588164873117308237059828489404487403932053592935976454165560795472477862029969232956138971989467942218727360512336559521133108778758228879597580320459608479024506385194174312616377510459921102486879496341706862092908893068525234805692599833377510390101316617812305114571932706629167125446512151746802548190358351688971707570677865618800822034683632101813026232996027599403579997774046244952114531588370357904483293150007246173417355805567832153454341170020258560809166294198637401514569572272836921963229511187762530753402594781448204657460288485500062806934811398276016855584079542162057543557291510641537592939022884356120792643705560062367986544382464373946972471945996555795505838034825597839682776084731530251788951718630722761103630509360074262261717363058613291544024695432904616258691774630578507674937487992329181750163484068813465534370997589353607405172909412697657593295156818624747127636468836551757018353417274662607306510451195762866349922848678780591085118985653555434958761664016447588028633629704046289097067736256584300235314749461233912068632146637087844699210427541569410912246568571204717241133378489816764096924981633421176857150311671040068175303192115415611958042570658693127276213710697472226029655524611053715554532499750843275200199214301910505362996007042963297805103066650638786268157658772683745128976850796366371059380911225428835839194121154773759981301921650952140133306070987313732926518169226845063443954056729812031546392324981793780469103793422169495229100793029949237507299325063050942813902793084134473061411643355614764093104425918481363930542369378976520526456347648318272633371512112030629233889286487949209737847861884868260804647319539200840398308008803869049557419756219293922110825766397681361044490024720948340326796768837621396744075713887292863079821849314343879778088737958896840946143415927131757836511457828935581859902923534388888846587452130838137779443636119762839036894595760120316502279857901545344747352706972851454599861422902737291131463782045516225447535356773622793648545035710208644541208984235038908770223039849380214734809687433336225449150117411751570704561050895274000206380497967960402617818664481248547269630823473377245543390519841308769781276565916764229022948181763075710255793365008152286383634493138089971785087070863632205869018938377766063006066757732427272929247421295265000706646722730009956124191409138984675224955790729398495608750456694217771551107346630456603944136235888443676215273928597072287937355966723924613827468703217858459948257514745406436460997059316120596841560473234396652457231650317792833860590388360417691428732735703986803342604670071717363573091122981306903286137122597937096605775172964528263757434075792282180744352908669606854021718597891166333863858589736209114248432178645039479195424208191626088571069110433994801473013100869848866430721216762473119618190737820766582968280796079482259549036328266578006994856825300536436674822534603705134503603152154296943991866236857638062351209884448741138600171173647632126029961408561925599707566827866778732377419444462275399909291044697716476151118672327238679208133367306181944849396607123345271856520253643621964198782752978813060080313141817069314468221189275784978281094367751540710106350553798003842219045508482239386993296926659221112742698133062300073465628498093636693049446801628553712633412620378491919498600097200836727876650786886306933418995225768314390832484886340318940194161036979843833346608676709431643653538430912157815543512852077720858098902099586449602479491970687230765687109234380719509824814473157813780080639358418756655098501321882852840184981407690738507369535377711880388528935347600930338598691608289335421147722936561907276264603726027239320991187820407067412272258120766729040071924237930330972132364184093956102995971291799828290009539147382437802779051112030954582532888721146170133440385939654047806199333224547317803407340902512130217279595753863158148810392952475410943880555098382627633127606718126171022011356181800775400227516734144169216424973175621363128588281978005788832454534581522434937268133433997710512532081478345067139835038332901313945986481820272322043341930929011907832896569222878337497354301561722829115627329468814853281922100752373626827643152685735493223028018101449649009015529248638338885664893002250974343601200814365153625369199446709711126951966725780061891215440222487564601554632812091945824653557432047644212650790655208208337976071465127508320487165271577472325887275761128357592132553934446289433258105028633583669291828566894736223508250294964065798630809614341696830467595174355313224362664207197608459024263017473392225291248366316428006552870975051997504913009859468071013602336440164400179188610853230764991714372054467823597211760465153200163085336319351589645890681722372812310320271897917951272799656053694032111242846590994556380215461316106267521633805664394318881268199494005537068697621855231858921100963441012933535733918459668197539834284696822889460076352031688922002021931318369757556962061115774305826305535862015637891246031220672933992617378379625150999935403648731423208873977968908908369996292995391977217796533421249291978383751460062054967341662833487341011097770535898066498136011395571584328308713940582535274056081011503907941688079197212933148303072638678631411038443128215994936824342998188719768637604496342597524256886188688978980888315865076262604856465004322896856149255063968811404400429503894245872382233543101078691517328333604779262727765686076177705616874050257743749983775830143856135427273838589774133526949165483929721519554793578923866762502745370104660909382449626626935321303744538892479216161188889702077910448563199514826630802879549546453583866307344423753319712279158861707289652090149848305435983200771326653407290662016775706409690183771201306823245333477966660525325490873601961480378241566071271650383582257289215708209369510995890132859490724306183325755201208090007175022022949742801823445413711916298449914722254196594682221468260644961839254249670903104007581488857971672246322887016438403908463856731164308169537326790303114583680575021119639905615169154708510459700542098571797318015564741406172334145847111268547929892443001391468289103679179216978616582489007322033591376706527676521307143985302760988478056216994659655461379174985659739227379416726495377801992098355427866179123126699374730777730569324430166839333011554515542656864937492128687049121754245967831132969248492466744261999033972825674873460201150442228780466124320183016108232183908654771042398228531316559685688005226571474428823317539456543881928624432662503345388199590085105211383124491861802624432195540433985722841341254409411771722156867086291742124053110620522842986199273629406208834754853645128123279609097213953775360023076765694208219943034648783348544492713539450224591334374664937701655605763384697062918725745426505879414630176639760457474311081556747091652708748125267159913793240527304613693961169892589808311906322510777928562071999459487700611801002296132304588294558440952496611158342804908643860880796440557763691857743754025896855927252514563404385217825890599553954627451385454452916761042969267970893580056234501918571489030418495767400819359973218711957496357095967825171096264752068890806407651445893132870767454169607107931692704285168093413311046353506242209810363216771910420786162184213763938194625697286781413636389620123976910465418956806197323148414224550071617215851321302030684176087215892702098879108938081045903397276547326416916845445627600759561367103584575649094430692452532085003091068783157561519847567569191284784654692558665111557913461272425336083635131342183905177154511228464455136016013513228948543271504760839307556100908786096663870612278690274831819331606701484957163004705262228238406266818448788374548131994380387613830128859885264201992286188208499588640888521352501457615396482647451025902530743172956899636499615707551855837165935367125448515089362904567736630035562457374779100987992499146967224041481601289530944015488942613783140087804311431741858071826185149051138744831358439067228949408258286021650288927228387426432786168690381960530155894459451808735197246008221529343980828254126128257157209350985382800738560472910941184006084485235377833503306861977724501886364070344973366473100602018128792886991861824418453968994777259482169137133647470453172979809245844361129618997595696240971845564020511432589591844724920942930301651488713079802102379065536525154780298059407529440513145807551537794861635879901158192019808879694967187448224156836463534326160242632934761634458163890163805123894184523973421841496889262398489648642093409816681494771155177009562669029850101513537599801272501241971119871526593747484778935488777815192931171431167444773882941064615028751327709474504763922874890662989841540259350834035142035136168819248238998027706666916342133424312054507359388616687691188185776118135771332483965209882085982391298606386822804754362408956522921410859852037330544625953261340234864689275060526893755148403298542086991221052597005628576707702567695300978970046408920009852106980295419699802138053295798159478289934443245491565327845223840551240445208226435420656313310702940722371552770504263482073984454889589248861397657079145414427653584572951329719091947694411910966797474262675590953832039169673494261360032263077428684105040061351052194413778158095005714526846009810352109249040027958050736436961021241137739717164869525493114805040126568351268829598413983222676377804500626507241731757395219796890754825199329259649801627068665658030178877405615167159731927320479376247375505855052839660294566992522173600874081212014209071041937598571721431338017425141582491824710905084715977249417049320254165239323233258851588893337097136310892571531417761978326033750109026284066415801371359356529278088456305951770081443994114674291850360748852366654744869928083230516815711602911836374147958492100860528981469547750812338896943152861021202736747049903930417035171342126923486700566627506229058636911882228903170510305406882096970875545329369434063981297696478031825451642178347347716471058423238594580183052756213910186997604305844068665712346869679456044155742100039179758348979935882751881524675930878928159243492197545387668305684668420775409821781247053354523194797398953320175988640281058825557698004397120538312459428957377696001857497335249965013509368925958021863811725906506436882127156815751021712900765992750370228283963962915973251173418586721023497317765969454283625519371556009143680329311962842546628403142444370648432390374906410811300792848955767243481200090309888457270907750873638873299642555050473812528975962934822878917619920725138309388288292510416837622758204081918933603653875284116785703720989718832986921927816629675844580174911809119663048187434155067790863948831489241504300476704527971283482211522202837062857314244107823792513645086677566622804977211397140621664116324756784216612961477109018826094677377686406176721484293894976671380122788941309026553511096118347012565197540807095384060916863936906673786627209429434264260402902158317345003727462588992622049877121178405563348492490326003508569099382392777297498413565614830788262363322368380709822346012274241379036473451735925215754757160934270935192901723954921426490691115271523338109124042812102893738488167358953934508930697715522989199698903885883275409044300321986834003470271220020159699371690650330547577095398748580670024491045504890061727189168031394528036165633941571334637222550477547460756055024108764382121688848916940371258901948490685379722244562009483819491532724502276218589169507405794983759821006604481996519360110261576947176202571702048684914616894068404140833587562118319210838005632144562018941505945780025318747471911604840677997765414830622179069330853875129298983009580277554145435058768984944179136535891620098725222049055183554603706533183176716110738009786625247488691476077664470147193074476302411660335671765564874440577990531996271632972009109449249216456030618827772947750764777446452586328919159107444252320082918209518021083700353881330983215894608680127954224752071924134648334963915094813097541433244209299930751481077919002346128122330161799429930618800533414550633932139339646861616416955220216447995417243171165744471364197733204899365074767844149929548073025856442942381787641506492878361767978677158510784235702640213388018875601989234056868423215585628508645525258377010620532224244987990625263484010774322488172558602233302076399933854152015343847725442917895130637050320444917797752370871958277976799686113626532291118629631164685159934660693460557545956063155830033697634000276685151293843638886090828376141157732003527565158745906567025439437931104838571313294490604926582363108949535090082673154497226396648088618041573977888472892174618974189721700770009862449653759012727015227634510874906948012210684952063002519011655963580552429180205586904259685261047412834518466736938580027700252965356366721619883672428226933950325930390994583168665542234654857020875504617520521853721567282679903418135520602999895366470106557900532129541336924472492212436324523042895188461779122338069674233980694887270587503389228395095135209123109258159006960395156367736067109050566299603571876423247920752836160805597697778756476767210521222327184821484446631261487584226092608875764331731023263768864822594691211032367737558122133470556805958008310127481673962019583598023967414489867276845869819376783757167936723213081586191045995058970991064686919463448038574143829629547131372173669836184558144505748676124322451519943362182916191468026091121793001864788050061351603144350076189213441602488091741051232290357179205497927970924502479940842696158818442616163780044759478212240873204124421169199805572649118243661921835714762891425805771871743688000324113008704819373962295017143090098476927237498875938639942530595331607891618810863505982444578942799346514915952884869757488025823353571677864826828051140885429732788197765736966005727700162592404301688659946862983717270595809808730901820120931003430058796552694788049809205484305467611034654748067290674399763612592434637719995843862812391985470202414880076880818848087892391591369463293113276849329777201646641727587259122354784480813433328050087758855264686119576962172239308693795757165821852416204341972383989932734803429262340722338155102209101262949249742423271698842023297303260161790575673111235465890298298313115123607606773968998153812286999642014609852579793691246016346088762321286205634215901479188632194659637483482564291616278532948239313229440231043277288768139550213348266388687453259281587854503890991561949632478855035090289390973718988003999026132015872678637873095678109625311008054489418857983565902063680699643165033912029944327726770869305240718416592070096139286401966725750087012218149733133695809600369751764951350040285926249203398111014953227533621844500744331562434532484217986108346261345897591234839970751854223281677187215956827243245910829019886390369784542622566912542747056097567984857136623679023878478161201477982939080513150258174523773529510165296934562786122241150783587755373348372764439838082000667214740034466322776918936967612878983488942094688102308427036452854504966759697318836044496702853190637396916357980928865719935397723495486787180416401415281489443785036291071517805285857583987711145474240156416477194116391354935466755593592608849200546384685403028080936417250583653368093407225310820844723570226809826951426162451204040711501448747856199922814664565893938488028643822313849852328452360667045805113679663751039248163336173274547275775636810977344539275827560597425160705468689657794530521602315939865780974801515414987097778078705357058008472376892422189750312758527140173117621279898744958406199843913365680297721208751934988504499713914285158032324823021340630312586072624541637765234505522051086318285359658520708173392709566445011404055106579055037417780393351658360904543047721422281816832539613634982525215232257690920254216409657452618066051777901592902884240599998882753691957540116954696152270401280857579766154722192925655963991820948894642657512288766330302133746367449217449351637104725732980832812726468187759356584218383594702792013663907689741738962252575782663990809792647011407580367850599381887184560094695833270775126181282015391041773950918244137561999937819240362469558235924171478702779448443108751901807414110290370706052085162975798361754251041642244867577350756338018895379263183389855955956527857227926155524494739363665533904528656215464288343162282921123290451842212532888101415884061619939195042230059898349966569463580186816717074818823215848647734386780911564660755175385552224428524049468033692299989300783900020690121517740696428573930196910500988278523053797637940257968953295112436166778910585557213381789089945453947915927374958600268237844486872037243488834616856290097850532497036933361942439802882364323553808208003875741710969289725499878566253048867033095150518452126944989251596392079421452606508516052325614861938282489838000815085351564642761700832096483117944401971780149213345335903336672376719229722069970766055482452247416927774637522135201716231722137632445699154022395494158227418930589911746931773776518735850032318014432883916374243795854695691221774098948611515564046609565094538115520921863711518684562543275047870530006998423140180169421109105925493596116719457630962328831271268328501760321771680400249657674186927113215573270049935709942324416387089242427584407651215572676037924765341808984312676941110313165951429479377670698881249643421933287404390485538222160837088907598277390184204138197811025854537088586701450623578513960109987476052535450100439353062072439709976445146790993381448994644609780957731953604938734950026860564555693224229691815630293922487606470873431166384205442489628760213650246991893040112513103835085621908060270866604873585849001704200923929789193938125116798421788115209259130435572321635660895603514383883939018953166274355609970015699780289236362349895374653428746875 time 0.004004439000000026 seconds process time\n",
     "name": "stdout"
    }
   ]
  },
  {
   "cell_type": "markdown",
   "source": "## Fibonacci $\\mod m$ and Pisano periods\n\nTo know about Fibonacci $\\mod m$ and Pisano periods, I recommend that you watch this video: Fibonacci Mystery - Numberphile https://www.youtube.com/watch?v=Nu-lW-Ifyec\n\n",
   "metadata": {
    "id": "AJfON0LwHkTF",
    "cell_id": "00044-9816e98b-ab4c-41fa-ad6d-b6c56eaa7ea4",
    "deepnote_cell_type": "markdown"
   }
  },
  {
   "cell_type": "markdown",
   "source": "### Pisano period https://en.wikipedia.org/wiki/Pisano_period\n\nIn number theory, the nth Pisano period, written π(n), is the period with which the sequence of Fibonacci numbers taken modulo n repeats. Pisano periods are named after Leonardo Pisano, better known as Fibonacci. The existence of periodic functions in Fibonacci numbers was noted by Joseph Louis Lagrange in 1774.",
   "metadata": {
    "id": "gvFXy7DaHwcR",
    "cell_id": "00045-e8cafd57-91d6-4c7a-a658-9a661cdf4299",
    "deepnote_cell_type": "markdown"
   }
  },
  {
   "cell_type": "markdown",
   "source": "### Pisano period https://mathworld.wolfram.com/PisanoPeriod.html\nThe sequence of Fibonacci numbers $\\{F_n\\}$ is periodic modulo any modulus $m$ (Wall 1960), and the period ($\\mod m$) is the known as the Pisano period $\\pi(m)$ (Wrench 1969). For m=1, 2, ..., the values of $\\pi(m)$ are $1, 3, 8, 6, 20, 24, 16, 12, 24, 60, 10, ...$ (OEIS A001175).\n\nSince $\\pi(10)=60$, the last digit of $F_n$ repeats with period $60$, as first noted by Lagrange in 1774 (Livio 2002, p. 105). The last two digits repeat with a period of $300$, and the last three with a period of $1500$. In 1963, Geller found that the last four digits have a period of 15000 and the last five a period of $150000$. Jarden subsequently showed that for $d>=3$, the last d digits have a period of $15·10^{(d-1)}$ (Livio 2002, pp. 105-106). The sequence of Pisano periods for $n=1, 10, 100, 1000, ...$ are therefore $60, 300, 1500, 15000, 150000, 1500000, ...$ (OEIS A096363).\n",
   "metadata": {
    "id": "7I8lHMWDIKpZ",
    "cell_id": "00046-43d81e5a-1e72-491f-b522-5aebc4a97b36",
    "deepnote_cell_type": "markdown"
   }
  },
  {
   "cell_type": "markdown",
   "source": "Python: Compute a Huge Fibonacci Number Modulo m https://stackoverflow.com/questions/40096097/python-compute-a-huge-fibonacci-number-modulo-m#:~:text=Pisano%20periods%20follows%20a%20Fibonacci,in%20finding%20the%20Pisano%20period.\n\nhttps://stackoverflow.com/a/51874771\n\nIn the below code we are using two concepts of Fibonacci series:\n\n1. Pisano periods follows a Fibonacci sequence and hence each repetition(pattern) begins with 0 and 1 appearing consecutively one after the other.\n\n2. fib(n) divides fib(m) only when n divides m which means if fib(4)%3==0,then fib(4+4)%3==0,fib(4+4+4)%3==0 and so on.This helps us in finding the Pisano period.\n\n",
   "metadata": {
    "id": "hgcrw9veJSx9",
    "cell_id": "00047-8d1b8c9b-f228-4ce0-9dc4-c7546d434321",
    "deepnote_cell_type": "markdown"
   }
  },
  {
   "cell_type": "markdown",
   "source": "## Fibonacci $\\mod m$ binary exponentiation matrix algorithm   $O(lg\\ n)$\n\n",
   "metadata": {
    "id": "ejGRtbnblTcy",
    "cell_id": "00048-7348a1eb-664a-457d-95d9-5956c924880d",
    "deepnote_cell_type": "markdown"
   }
  },
  {
   "cell_type": "code",
   "metadata": {
    "id": "Ut-xhYfYB7pV",
    "cell_id": "00049-d2ee59ce-3ea7-4a49-b053-c9d702169a50",
    "deepnote_cell_type": "code"
   },
   "source": "# Fibonacci module fast matrix O(lg n) - https://stackoverflow.com/a/40117659  \n\ndef Huge_Fib_Mod(n,m):\n\n    if n==0: return 0\n\n    # Initialize a matrix [[1,1],[1,0]]    \n    v1, v2, v3 = 1, 1, 0  \n    # Perform fast exponentiation of the matrix (quickly raise it to the nth power)\n    for rec in bin(n)[3:]:\n        calc = (v2*v2) % m\n        v1, v2, v3 = (v1*v1+calc)% m , ((v1+v3)*v2) % m, (calc+v3*v3) % m\n        if rec == '1': v1, v2, v3 = (v1+v2)% m, v1, v2\n    return v2;  ",
   "execution_count": null,
   "outputs": []
  },
  {
   "cell_type": "code",
   "metadata": {
    "colab": {
     "base_uri": "https://localhost:8080/"
    },
    "id": "kkH0yEV_npaL",
    "outputId": "97b712fc-6e44-4b77-8d9e-4386db6fd8ec",
    "cell_id": "00050-ad4bbe64-2c37-4941-99fd-2e9450b79b8d",
    "deepnote_cell_type": "code"
   },
   "source": "m=10\nfor n in range(0,65):\n   print(n,\" \",Huge_Fib_Mod(n,m))",
   "execution_count": null,
   "outputs": [
    {
     "output_type": "stream",
     "text": "0   0\n1   1\n2   1\n3   2\n4   3\n5   5\n6   8\n7   3\n8   1\n9   4\n10   5\n11   9\n12   4\n13   3\n14   7\n15   0\n16   7\n17   7\n18   4\n19   1\n20   5\n21   6\n22   1\n23   7\n24   8\n25   5\n26   3\n27   8\n28   1\n29   9\n30   0\n31   9\n32   9\n33   8\n34   7\n35   5\n36   2\n37   7\n38   9\n39   6\n40   5\n41   1\n42   6\n43   7\n44   3\n45   0\n46   3\n47   3\n48   6\n49   9\n50   5\n51   4\n52   9\n53   3\n54   2\n55   5\n56   7\n57   2\n58   9\n59   1\n60   0\n61   1\n62   1\n63   2\n64   3\n",
     "name": "stdout"
    }
   ]
  },
  {
   "cell_type": "code",
   "metadata": {
    "colab": {
     "base_uri": "https://localhost:8080/"
    },
    "id": "jGCOk0ZmMhz3",
    "outputId": "e750e6cc-0387-4065-9077-d732ead25e0f",
    "cell_id": "00051-b767cef0-f8a2-40f6-911a-25df4402fd4f",
    "deepnote_cell_type": "code"
   },
   "source": "import sys\n\ndef fibmod(n,m): \n    if n <= 1:\n        return n\n\n    previous = 0\n    current  = 1\n\n    for _ in range(n - 1):\n        previous, current = current, (previous + current) % m\n    \n    return current\n\n# Pisano periods https://stackoverflow.com/a/51874771\n# 1. Pisano periods follows  follows a Fibonacci sequence and hence each repetition(pattern) \n#    begins with 0 and 1 appearing consecutively one after the other.\n# 2. fib(n) divides fib(m) only when n divides m which means if fib(4)%3==0,\n#    then fib(4+4)%3==0,fib(4+4+4)%3==0 and so on.This helps us in finding the Pisano period.\ndef pisano_period(m):\n    i=2\n    while(fibmod(i,m)!=0):\n        i+=1\n    if(fibmod(i+1,m)!=1):\n        while(fibmod(i+1,m)!=1):\n            i+=i\n    return i\n\ndef get_fibonacci_huge_pissano(n, m):\n   \n    n = n % pisano_period(m) \n\n    return fibmod(n,m)\n\nif __name__ == '__main__':\n    n, m = map(int, input().split())\n    print(get_fibonacci_huge_pissano(n, m))",
   "execution_count": null,
   "outputs": [
    {
     "output_type": "stream",
     "text": "239 1000\n161\n",
     "name": "stdout"
    }
   ]
  },
  {
   "cell_type": "code",
   "metadata": {
    "colab": {
     "base_uri": "https://localhost:8080/"
    },
    "id": "x3VuzoHbOlQJ",
    "outputId": "a626332c-2746-4800-9622-63653f661115",
    "cell_id": "00052-3b7ffe96-6099-4d1c-a157-ffb876078f89",
    "deepnote_cell_type": "code"
   },
   "source": "if __name__ == '__main__':\n    n, m = map(int, input().split())\n    print(get_fibonacci_huge_pissano(n, m))",
   "execution_count": null,
   "outputs": [
    {
     "output_type": "stream",
     "text": "2816213588 239\n151\n",
     "name": "stdout"
    }
   ]
  },
  {
   "cell_type": "code",
   "metadata": {
    "colab": {
     "base_uri": "https://localhost:8080/"
    },
    "id": "ezy79R8OOxUw",
    "outputId": "855be421-7fa5-44b4-dff8-b03cd1a06092",
    "cell_id": "00053-6bfd8657-e67e-4c8a-a2d8-327db15a8f0b",
    "deepnote_cell_type": "code"
   },
   "source": "if __name__ == '__main__':\n    n, m = map(int, input().split())\n    print(get_fibonacci_huge_pissano(n, m))",
   "execution_count": null,
   "outputs": [
    {
     "output_type": "stream",
     "text": "10 4\n3\n",
     "name": "stdout"
    }
   ]
  },
  {
   "cell_type": "code",
   "metadata": {
    "colab": {
     "base_uri": "https://localhost:8080/"
    },
    "id": "rXvoqT0XH_oo",
    "outputId": "dad2b705-8983-40d8-d0ca-469bf6a13c06",
    "cell_id": "00054-4cbe91ab-084b-4aa5-b6c6-81566296f80d",
    "deepnote_cell_type": "code"
   },
   "source": "import sys\n\n# Fibonacci module fast matrix O(lg n) - https://stackoverflow.com/a/40117659 \ndef Huge_Fib_Mod(n,m):\n\n    if n==0: return 0\n\n    # Initialize a matrix [[1,1],[1,0]]    \n    v1, v2, v3 = 1, 1, 0  \n    # Perform fast exponentiation of the matrix (quickly raise it to the nth power)\n    for rec in bin(n)[3:]:\n        calc = (v2*v2) % m\n        v1, v2, v3 = (v1*v1+calc)% m , ((v1+v3)*v2) % m, (calc+v3*v3) % m\n        if rec == '1': v1, v2, v3 = (v1+v2)% m, v1, v2\n    return v2;  \n\n# Pisano periods https://stackoverflow.com/a/51874771\n# 1. Pisano periods follows  follows a Fibonacci sequence and hence each repetition(pattern) \n#    begins with 0 and 1 appearing consecutively one after the other.\n# 2. fib(n) divides fib(m) only when n divides m which means if fib(4)%3==0,\n#    then fib(4+4)%3==0,fib(4+4+4)%3==0 and so on.This helps us in finding the Pisano period.\ndef pisano_period(m):\n    i=2\n    while(Huge_Fib_Mod(i,m)!=0):\n        i+=1\n    \n    if(Huge_Fib_Mod(i+1,m)!=1):\n        while(Huge_Fib_Mod(i+1,m)!=1):\n            i+=i\n    return i\n\ndef get_fibonacci_huge_pissano(n, m):\n\n    n = n % pisano_period(m) \n\n    return Huge_Fib_Mod(n,m)\n\nif __name__ == '__main__':\n    n, m = map(int, input().split())\n    print(get_fibonacci_huge_pissano(n, m))",
   "execution_count": null,
   "outputs": [
    {
     "output_type": "stream",
     "text": "239 1000\n161\n",
     "name": "stdout"
    }
   ]
  },
  {
   "cell_type": "code",
   "metadata": {
    "colab": {
     "base_uri": "https://localhost:8080/"
    },
    "id": "q7rb88N0O8On",
    "outputId": "f6951b24-0c9c-41e5-bc2f-0724dc149d5c",
    "cell_id": "00055-ec666513-3f69-467d-8822-66204186a588",
    "deepnote_cell_type": "code"
   },
   "source": "if __name__ == '__main__':\n    n, m = map(int, input().split())\n    print(get_fibonacci_huge_pissano(n, m))",
   "execution_count": null,
   "outputs": [
    {
     "output_type": "stream",
     "text": "2816213588 239\n151\n",
     "name": "stdout"
    }
   ]
  },
  {
   "cell_type": "code",
   "metadata": {
    "colab": {
     "base_uri": "https://localhost:8080/"
    },
    "id": "miEkyv-sO_9f",
    "outputId": "ea004fdf-86bd-4860-8562-e9a936b8bc72",
    "cell_id": "00056-9c07e634-353b-45fa-83a7-e3ce88cf0b3a",
    "deepnote_cell_type": "code"
   },
   "source": "if __name__ == '__main__':\n    n, m = map(int, input().split())\n    print(get_fibonacci_huge_pissano(n, m))",
   "execution_count": null,
   "outputs": [
    {
     "output_type": "stream",
     "text": "10 4\n3\n",
     "name": "stdout"
    }
   ]
  },
  {
   "cell_type": "markdown",
   "source": "## Sum of Fibonacci numbers \nSum of Fibonacci numbers | Lecture 9 | Fibonacci Numbers and the Golden Ratio https://youtu.be/Cspq_vvScV8",
   "metadata": {
    "id": "9LV_80AxxfeB",
    "cell_id": "00057-841b0fa9-7709-4f10-9dba-a473017bdc7a",
    "deepnote_cell_type": "markdown"
   }
  },
  {
   "cell_type": "markdown",
   "source": "## Sum of Fibonacci numbers squared \nSum of Fibonacci numbers squared | Lecture 10 | Fibonacci Numbers and the Golden Ratio https://youtu.be/ruIwND9ytpE",
   "metadata": {
    "id": "aRzEAe_0zUoQ",
    "cell_id": "00058-a428f6f6-9b28-4a25-a31a-051f16d51dfe",
    "deepnote_cell_type": "markdown"
   }
  },
  {
   "cell_type": "markdown",
   "source": "# Principle of invariance\n\n$$T_{RAM}(n) = \\alpha t_{A}(n) = \\beta t_{B}(n) = \\xi t_{C}(n)$$\n\n$T_{RAM}(n)$ computational steps in RAM\n\n$t_{A}(n)$ running time in $A$\n\n$t_{B}(n)$ running time in $B$\n\n$t_{C}(n)$ running time in $C$\n\n\n$ T_{RAM}(n)$  is the number of computational steps (simple/elementary RAM oprations) of the algorithm for the worst case input of size $n$.\n\n$t_{A}(n), t_{B}$ and $t_{C}$ is the execution time of the algorithm in the corresponding platfrom (processor + memory architecture , operating system, programming language, compiler) for the worst case input of size $n$\n",
   "metadata": {
    "id": "Cc6SWWbrRdMU",
    "cell_id": "00059-fc04d959-73bb-4582-bbfe-20594eb41f69",
    "deepnote_cell_type": "markdown"
   }
  },
  {
   "cell_type": "markdown",
   "source": "<a style='text-decoration:none;line-height:16px;display:flex;color:#5B5B62;padding:10px;justify-content:end;' href='https://deepnote.com?utm_source=created-in-deepnote-cell&projectId=9186dc70-7ffc-473c-9ccc-d3d1c6b1ff46' target=\"_blank\">\n<img alt='Created in deepnote.com' style='display:inline;max-height:16px;margin:0px;margin-right:7.5px;' src='data:image/svg+xml;base64,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' > </img>\nCreated in <span style='font-weight:600;margin-left:4px;'>Deepnote</span></a>",
   "metadata": {
    "tags": [],
    "created_in_deepnote_cell": true,
    "deepnote_cell_type": "markdown"
   }
  }
 ],
 "nbformat": 4,
 "nbformat_minor": 0,
 "metadata": {
  "colab": {
   "name": "fibonacci.ipynb",
   "provenance": [],
   "collapsed_sections": []
  },
  "kernelspec": {
   "name": "python3",
   "display_name": "Python 3"
  },
  "deepnote_notebook_id": "97d0229b-5b45-4c78-aa73-1dab58c89dd2",
  "deepnote": {},
  "deepnote_execution_queue": []
 }
}