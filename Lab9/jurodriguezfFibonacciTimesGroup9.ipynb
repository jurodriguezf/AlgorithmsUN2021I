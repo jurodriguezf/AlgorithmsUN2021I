{
 "cells": [
  {
   "cell_type": "markdown",
   "source": "# Fibonacci sequence \n\nFibonacci  - https://en.wikipedia.org/wiki/Fibonacci Leonardo Bonacci, Leonardo of Pisa, or Leonardo Bigollo Pisano ('Leonardo the Traveller from Pisa')  \n\n$$\n f_n = \\left\\{ \n \\begin{array}{lll}\n 0& if & n=0\\\\\n 1& if & n=1\\\\\n f_{n-1} +   f_{n-2} & if & n> 1 \\text{ (otherwise)}\\\\\n \\end{array}\n   \\right.\n$$\n\n",
   "metadata": {
    "id": "X8n2KKvk9VxL",
    "cell_id": "00000-41843aa5-45f9-44cb-819f-fee0a6660969",
    "deepnote_cell_type": "markdown"
   }
  },
  {
   "cell_type": "markdown",
   "source": "## Fibonacci recursive algorithm $O\\left( \\left(  \\frac{1+\\sqrt(5)}{2}  \\right)^n  lg\\ n\\right)$ [Relaxed asymptotic bound $O(2^n\\ lg\\ n)$]",
   "metadata": {
    "id": "kPF1PvZye5T9",
    "cell_id": "00001-b97d8818-a2b3-4f64-b589-81fb3b7bf018",
    "deepnote_cell_type": "markdown"
   }
  },
  {
   "cell_type": "code",
   "metadata": {
    "id": "nNNFssFuzeqk",
    "cell_id": "00002-0f62f827-6db3-4a80-8912-2aa1d808f117",
    "deepnote_to_be_reexecuted": false,
    "source_hash": "b89b6d4e",
    "execution_start": 1627265798030,
    "execution_millis": 0,
    "deepnote_cell_type": "code"
   },
   "source": "# fibR - Fibonacci Recursive O( ( (1+sqrt(5)/2 )^n lg n ) [Relaxed asymptotic bound O(2^n lg n)] \ndef fibR(n):\n    if n==0 :\n        return 0\n    if n==1 :\n        return 1\n    return fibR(n-1)+fibR(n-2)    # for large n´s  the addition will take lg n stetp because the numebers are very large",
   "outputs": [],
   "execution_count": 8
  },
  {
   "cell_type": "markdown",
   "source": "https://www.geeksforgeeks.org/time-process_time-function-in-python/",
   "metadata": {
    "id": "h9hJRvO-8TEY",
    "cell_id": "00003-a4b6d2fb-9f95-4a9f-b66a-b7d7aadd90c2",
    "deepnote_cell_type": "markdown"
   }
  },
  {
   "cell_type": "code",
   "metadata": {
    "colab": {
     "base_uri": "https://localhost:8080/"
    },
    "id": "8HSgvCagzi1T",
    "outputId": "a3c82585-1d31-4fee-9be8-d555027c08a4",
    "cell_id": "00004-ebdb703c-f5dc-47c2-9ffe-a7616e3367da",
    "deepnote_cell_type": "code"
   },
   "source": "from time import process_time\nn=40\nt0 = process_time() \nk = fibR(n)\ntf =process_time() \nprint(\"n=\",n,\"fib(\",n,\")=\",k,\"time\",tf - t0, \"seconds process time\")",
   "outputs": [
    {
     "output_type": "stream",
     "text": "n= 40 fib( 40 )= 102334155 time 48.816497086000005 seconds process time\n",
     "name": "stdout"
    }
   ],
   "execution_count": null
  },
  {
   "cell_type": "code",
   "metadata": {
    "colab": {
     "base_uri": "https://localhost:8080/"
    },
    "id": "O8HLJ3E1zqIf",
    "outputId": "68f66096-dada-4ac9-bbb7-19fd070c233a",
    "cell_id": "00005-7a835bb9-a990-473d-a609-da651ac7cc2d",
    "deepnote_cell_type": "code"
   },
   "source": "from time import process_time\nn=41\nt0 = process_time() \nk = fibR(n)\ntf =process_time() \nprint(\"n=\",n,\"fib(\",n,\")=\",k,\"time\",tf - t0, \"seconds process time\")",
   "outputs": [
    {
     "output_type": "stream",
     "text": "n= 41 fib( 41 )= 165580141 time 78.68676524099999 seconds process time\n",
     "name": "stdout"
    }
   ],
   "execution_count": null
  },
  {
   "cell_type": "code",
   "metadata": {
    "colab": {
     "base_uri": "https://localhost:8080/"
    },
    "id": "1ZRB-cTgj3_9",
    "outputId": "b5da332b-4a80-4c27-de4f-6562ea325941",
    "cell_id": "00006-d79a4fea-998f-4c14-a8ba-e7a47091c08c",
    "deepnote_cell_type": "code"
   },
   "source": "78.68676524099999 /48.816497086000005",
   "outputs": [
    {
     "output_type": "execute_result",
     "data": {
      "text/plain": "1.6118888068182677"
     },
     "metadata": {
      "tags": []
     },
     "execution_count": 82
    }
   ],
   "execution_count": null
  },
  {
   "cell_type": "code",
   "metadata": {
    "colab": {
     "base_uri": "https://localhost:8080/"
    },
    "id": "fw5Pepxt0NG-",
    "outputId": "d9dd8aa1-5671-40b3-d202-f39220fe3d5c",
    "cell_id": "00007-e769f197-8b0e-4a35-9c2f-29a65d35c5fc",
    "deepnote_cell_type": "code"
   },
   "source": "from time import process_time\nn=42\nt0 = process_time()\nk = fibR(n)\ntf =process_time()\nprint(\"n=\",n,\"fib(\",n,\")=\",k,\"time\",tf - t0, \"seconds process time\")",
   "outputs": [
    {
     "output_type": "stream",
     "text": "n= 42 fib( 42 )= 267914296 time 124.40780009600002 seconds process time\n",
     "name": "stdout"
    }
   ],
   "execution_count": null
  },
  {
   "cell_type": "code",
   "metadata": {
    "colab": {
     "base_uri": "https://localhost:8080/"
    },
    "id": "Nfj9Apgmj9yt",
    "outputId": "b5216822-56bb-4224-b0b8-1420597088ed",
    "cell_id": "00008-8a86a50e-5e68-42a2-b066-4124ab95c2bf",
    "deepnote_cell_type": "code"
   },
   "source": "124.40780009600002 / 78.68676524099999",
   "outputs": [
    {
     "output_type": "execute_result",
     "data": {
      "text/plain": "1.581051142653618"
     },
     "metadata": {
      "tags": []
     },
     "execution_count": 83
    }
   ],
   "execution_count": null
  },
  {
   "cell_type": "code",
   "metadata": {
    "colab": {
     "base_uri": "https://localhost:8080/"
    },
    "id": "st1qvaSPkSnn",
    "outputId": "980cfcdd-a8f3-4623-ba05-2d250b0773c4",
    "cell_id": "00009-b4359a85-3496-4618-82a8-4fccf50cea88",
    "deepnote_cell_type": "code"
   },
   "source": "from time import process_time\nn=43\nt0 = process_time()\nk = fibR(n)\ntf =process_time()\nprint(\"n=\",n,\"fib(\",n,\")=\",k,\"time\",tf - t0, \"seconds process time\")",
   "outputs": [
    {
     "output_type": "stream",
     "text": "n= 43 fib( 43 )= 433494437 time 193.222576109 seconds process time\n",
     "name": "stdout"
    }
   ],
   "execution_count": null
  },
  {
   "cell_type": "code",
   "metadata": {
    "colab": {
     "base_uri": "https://localhost:8080/"
    },
    "id": "2tEUx3C7kUHV",
    "outputId": "eeb9e94f-e124-43a4-cf45-79340dd3ca58",
    "cell_id": "00010-be1c468b-e5ac-4609-bb7c-707ac966858e",
    "deepnote_cell_type": "code"
   },
   "source": "193.222576109 /124.40780009600002",
   "outputs": [
    {
     "output_type": "execute_result",
     "data": {
      "text/plain": "1.5531387578584193"
     },
     "metadata": {
      "tags": []
     },
     "execution_count": 92
    }
   ],
   "execution_count": null
  },
  {
   "cell_type": "code",
   "metadata": {
    "colab": {
     "base_uri": "https://localhost:8080/"
    },
    "id": "ckNkH1HoL3_l",
    "outputId": "7d08400f-9ab2-42f9-91f3-0f707c7662b1",
    "cell_id": "00011-79fb0bb9-85dc-4fb7-bc2d-362c21e5e12c",
    "deepnote_cell_type": "code"
   },
   "source": "from time import process_time\nn=45\nt0 = process_time()\nk = fibR(n)\ntf =process_time()\nprint(\"n=\",n,\"fib(\",n,\")=\",k,\"time\",tf - t0, \"seconds process time\")",
   "outputs": [
    {
     "output_type": "stream",
     "text": "n= 45 fib( 45 )= 1134903170 time 503.726255125 seconds process time\n",
     "name": "stdout"
    }
   ],
   "execution_count": null
  },
  {
   "cell_type": "code",
   "metadata": {
    "colab": {
     "base_uri": "https://localhost:8080/"
    },
    "id": "rtO7RnQyktKo",
    "outputId": "c1abad63-2827-4a06-a2cf-90f15b35cf2c",
    "cell_id": "00012-19774338-c9a4-4cad-b668-3d390f4cd21e",
    "deepnote_cell_type": "code"
   },
   "source": "# Max n in 1 year 60*60*24*365 s if n= 41 takes  aporx 1 mins \n\nimport math \n41+ int(math.log2(2460**365))",
   "outputs": [
    {
     "output_type": "execute_result",
     "data": {
      "text/plain": "60"
     },
     "metadata": {
      "tags": []
     },
     "execution_count": 1
    }
   ],
   "execution_count": null
  },
  {
   "cell_type": "code",
   "metadata": {
    "colab": {
     "base_uri": "https://localhost:8080/"
    },
    "id": "CpIGWRzCl81s",
    "outputId": "f29d5543-31f9-4ad6-ee00-71e67121e4f4",
    "cell_id": "00013-917a1259-5574-4154-8a98-c1584a09495f",
    "deepnote_cell_type": "code"
   },
   "source": "# Max n 100 years 60*60*24*365*100 s if n= 41 takes  aporx 1 mins \n\nimport math \n41+ int(math.log2(60*24*365*100))",
   "outputs": [
    {
     "output_type": "execute_result",
     "data": {
      "text/plain": "66"
     },
     "metadata": {
      "tags": []
     },
     "execution_count": 88
    }
   ],
   "execution_count": null
  },
  {
   "cell_type": "code",
   "metadata": {
    "colab": {
     "base_uri": "https://localhost:8080/"
    },
    "id": "bD9q_MyumGgU",
    "outputId": "8784df09-8e0b-4371-c57c-bcd823b6d832",
    "cell_id": "00014-dd93ba5c-4872-4744-8f0a-68b9722bf176",
    "deepnote_cell_type": "code"
   },
   "source": "# Max n 1000 years 60*60*24*360*100 s if n= 41 takes  aporx 1 mins \n\nimport math \n41+ int(math.log2(60*24*360*1000))",
   "outputs": [
    {
     "output_type": "execute_result",
     "data": {
      "text/plain": "69"
     },
     "metadata": {
      "tags": []
     },
     "execution_count": 89
    }
   ],
   "execution_count": null
  },
  {
   "cell_type": "code",
   "metadata": {
    "colab": {
     "base_uri": "https://localhost:8080/"
    },
    "id": "3agEZf9SmNSl",
    "outputId": "ede31904-d287-47be-c57c-df425a586cda",
    "cell_id": "00015-bead8274-9df8-48fb-9780-87fab14d83cd",
    "deepnote_cell_type": "code"
   },
   "source": "# Max n 1000000 years 60*60*24*360*100 s if n= 41 takes  aporx 1 mins \n\nimport math \n41+ int(math.log2(60*24*360*1000000))",
   "outputs": [
    {
     "output_type": "execute_result",
     "data": {
      "text/plain": "79"
     },
     "metadata": {
      "tags": []
     },
     "execution_count": 90
    }
   ],
   "execution_count": null
  },
  {
   "cell_type": "code",
   "source": "from time import process_time\nimport numpy as np\nimport matplotlib.pyplot as plt\n\ntime = []\n\nfor i in range(41):\n    t0 = process_time()\n    k = fibR(i)\n    tf = process_time()\n\n    timeElapsed = tf - t0\n    time.append(timeElapsed)\n\nprint(time)\n\nx = np.array(range(41))\nplt.plot(time)\nplt.plot(x)\nplt.title(\"Recursive Fibonacci Algorithm\")\nplt.xlabel(\"n\")\nplt.ylabel(\"Execution Time\")\nplt.show()",
   "metadata": {
    "tags": [],
    "cell_id": "00016-72fd35ee-d9ec-435e-b5c8-154c90640268",
    "deepnote_to_be_reexecuted": false,
    "source_hash": "b9c99261",
    "execution_start": 1627280945125,
    "execution_millis": 140301,
    "deepnote_cell_type": "code"
   },
   "outputs": [
    {
     "name": "stdout",
     "text": "[5.259998943074606e-06, 1.160000465461053e-06, 1.9500002963468432e-06, 2.019998646574095e-06, 2.4599994503660128e-06, 3.309998646727763e-06, 4.909999915980734e-06, 7.450000339304097e-06, 1.1449999874457717e-05, 1.7639998986851424e-05, 2.8550000934046693e-05, 4.631999945559073e-05, 7.488099981856067e-05, 0.00011952999921049923, 0.0001932420000230195, 0.0009872440004983218, 0.0005106129992782371, 0.0008234750002884539, 0.0013779170003545005, 0.002669505000085337, 0.003858811000100104, 0.006727697000314947, 0.010136074999536504, 0.01639164200059895, 0.02550745900043694, 0.043024804999731714, 0.07411783399948035, 0.10685448299955169, 0.1690585119995376, 0.2571934630013857, 0.4251628599995456, 0.6793512759995792, 1.136274078000497, 1.8323698050007806, 2.9777702120009053, 4.852052918000481, 7.8388675340011105, 12.497179324998797, 20.54289138400054, 33.21537977600019, 53.34598127600111]\n",
     "output_type": "stream"
    },
    {
     "data": {
      "text/plain": "<Figure size 432x288 with 1 Axes>",
      "image/png": "[encoded data removed]"
     },
     "metadata": {
      "needs_background": "light",
      "image/png": {
       "width": 382,
       "height": 278
      }
     },
     "output_type": "display_data"
    }
   ],
   "execution_count": 56
  },
  {
   "cell_type": "markdown",
   "source": "## Fibonacci analytical solution\n\nThe Fibonacci sequence is the solution of the homogenous linear difference equation or  homogenous linear recurrence relation  https://en.wikipedia.org/wiki/Linear_difference_equation\n\n$$\nf_n =  f_{n-1} + f_{n-2} \\ \\ \\ \\ \\ \\ \\ \\text{if}\\ \\ \\ \\ \\ n> 1 \n$$\nwith intial conditions\n$$\nf_0 =0 \\text{ and }f_1 = 1\\\n$$\n\nAll linear difference equations have a solution of the from  $\\lambda^n$\n$$\nf_n = \\lambda^n\n$$ \nso \n$$ \n\\lambda^n =  \\lambda^{n-1} + \\lambda^{n-2} \n$$ \ndivding by $\\lambda^{n-2} $\n$$ \n\\lambda^2 -  \\lambda -  1 = 0\n$$ \nthen\n$$\n\\lambda = \\frac{1 \\pm \\sqrt{5}}{2}\n$$\ntherefore\n$$\nf_n =  A \\left( \\frac{1 + \\sqrt{5}}{2} \\right)^n  + B \\left(\\frac{1 - \\sqrt{5}}{2} \\right)^n\n$$\nwe find $A$ and $B$ with initial conditions\n$$\nf_0 = 0  = A \\left( \\frac{1 + \\sqrt{5}}{2} \\right)^0  + B \\left(\\frac{1 - \\sqrt{5}}{2} \\right)^0 = A+B\n$$\nso\n$$\nB = -A\n$$\nand \n$$\nf_1 = 1  = A \\left( \\frac{1 + \\sqrt{5}}{2} \\right)^1  + B \\left(\\frac{1 - \\sqrt{5}}{2} \\right)^1 = A \\left( \\frac{1 + \\sqrt{5}}{2} \\right)  - A \\left(\\frac{1 - \\sqrt{5}}{2} \\right) = A \\sqrt{5}\n$$\nso \n$$\nA =\\frac{1}{\\sqrt{5}}\n$$\nthen\n$$\nf_n =  \\frac{1}{\\sqrt{5}} \\left( \\frac{1 + \\sqrt{5}}{2} \\right)^n  - \\frac{1}{\\sqrt{5}} \\left(\\frac{1 - \\sqrt{5}}{2} \\right)^n\n$$",
   "metadata": {
    "id": "3dfhpTAXEAjM",
    "cell_id": "00016-f57a9ad8-779d-441f-bef1-1576f1f91314",
    "deepnote_cell_type": "markdown"
   }
  },
  {
   "cell_type": "code",
   "metadata": {
    "id": "zJ2XBkns0UzP",
    "cell_id": "00017-0831d407-de23-4102-b977-9a72a7c93730",
    "deepnote_cell_type": "code"
   },
   "source": "import math\ndef fibA(n):\n  r5= math.sqrt(5)\n  return  (1/r5)*((1 + r5 )/2)**n - (1/r5)*((1 - r5 )/2)**n",
   "outputs": [],
   "execution_count": null
  },
  {
   "cell_type": "code",
   "metadata": {
    "colab": {
     "base_uri": "https://localhost:8080/"
    },
    "id": "shhR4n5RHA2j",
    "outputId": "05982ac3-62c4-47ab-c6bc-dfd325b16857",
    "cell_id": "00018-7fe3a813-2a10-495d-85db-09cf14d3a0ed",
    "deepnote_cell_type": "code"
   },
   "source": " for n in range(0, 11):\n   print(fibA(n))",
   "outputs": [
    {
     "output_type": "stream",
     "text": "0.0\n1.0\n0.9999999999999999\n2.0\n3.0000000000000004\n5.000000000000001\n8.000000000000002\n13.000000000000004\n21.000000000000004\n34.000000000000014\n55.00000000000002\n",
     "name": "stdout"
    }
   ],
   "execution_count": null
  },
  {
   "cell_type": "code",
   "metadata": {
    "colab": {
     "base_uri": "https://localhost:8080/"
    },
    "id": "r9AYdb8tHULc",
    "outputId": "7171eb92-6926-44f3-cecb-bef7f6cc9d81",
    "cell_id": "00019-be4a6887-f517-434f-8a49-e8eb1f8c7531",
    "deepnote_cell_type": "code"
   },
   "source": "for n in range(0, 11):\n   print(round(fibA(n)))",
   "outputs": [
    {
     "output_type": "stream",
     "text": "0\n1\n1\n2\n3\n5\n8\n13\n21\n34\n55\n",
     "name": "stdout"
    }
   ],
   "execution_count": null
  },
  {
   "cell_type": "markdown",
   "source": "## The time complexity of Fibonacci recursive algorithm\n\nThe time complexity (running time in a RAM - number of elementary instructions) of the Fibonacci recursive algorithm \n\n```(phyton)\ndef fibR(n):\n    if n==0 :\n        return 0\n    if n==1 :\n        return 1\n    return fibR(n-1)+fibR(n-2)\n```\nis\n$$\nT(n)=  T(n-1) + T(n-1)  + 3 \\ \\ \\ \\ \\ \\ \\ \\text{if}\\ \\ \\ \\ \\ \\ n> 1 \n$$\n\nChanging the notation $T(n) = t_n$ this is an inhomogenous linear difference equation or recurrence relation https://en.wikipedia.org/wiki/Linear_difference_equation\n$$\nt_n =  t_{n-1} + t_{n-2} + 3\\ \\ \\ \\ \\ \\ \\ \\text{if}\\ \\ \\ \\ \\ \\ n> 1 \n$$\nwith intial conditions\n$$\nt_0 =1, t_1 = 2 \\text{ and } t_2 = 6   \\\n$$\n\nAll inhomogenous linear difference equations  of the from \n$$\na_n t_n + a_{n-1} t_{n-1} + a_{n-1} t_{n-2} + \\cdots + a_{n-k} t_{n-k} = b^n p(n)\n$$\nwith $b$ constant, $p(n)$ polynomial of degree $d$ and $k$ initial condition have a the solution of the from\n$$\n(a_n t_n + a_{n-1} t_{n-1} + a_{n-1} t_{n-2} + \\cdots + a_{n-k} t_{n-k}) (t-b)^{d+1} = 0\n$$\nIn our case\n$$\nt_n -  t_{n-1} - t_{n-2} = 3 = 1^n 3n^0\n$$\nso $ b=1$ and $d=0$, so we have $\\lambda =1$ with multiplicity $1$\n$$\nt_n =  A \\left( \\frac{1 + \\sqrt{5}}{2} \\right)^n  + B \\left(\\frac{1 - \\sqrt{5}}{2} \\right)^n + C 1^n\n$$\nwe find $A$ $B$ and $C$ with initial conditions\n$$\n\\begin{array}{lll}\nA + B + C &=&  1\\\\\n A \\left( \\frac{1 + \\sqrt{5}}{2} \\right) + B\\left( \\frac{1 - \\sqrt{5}}{2} \\right) + C  &=&  2 \\\\\nA \\left( \\frac{1 + \\sqrt{5}}{2} \\right)^2 + B\\left( \\frac{1 - \\sqrt{5}}{2} \\right)^2 + C  &=& 6 \n\\end{array}\n$$\nso\n$$\n\\begin{array}{lll}\nA &=&  2 + \\frac{3}{\\sqrt(5)}\\\\\nB &=&  2 - \\frac{3}{\\sqrt(5)} \\\\\nC &=&  -3 \n\\end{array}\n$$\nthen\n$$\nt_n = T(n)=   \\left(2 + \\frac{3}{\\sqrt(5)}\\right) \\left( \\frac{1 + \\sqrt{5}}{2} \\right)^n  + \\left(2 - \\frac{3}{\\sqrt(5)}\\right) \\left(\\frac{1 - \\sqrt{5}}{2} \\right)^n - 3 =  O\\left( \\left(\\frac{1 + \\sqrt{5}}{2} \\right)^n \\right) = O \\left(1.6180339887499^n \\right)\n$$\nThat is aproximated with a very relaxed asymptotic bound by\n$$ t_n = T(n) =  O \\left( 2^n \\right)$$\n\nHaving into account that  for large $n$´s  the addition is not a elementary instructions because the numbers are very large  and  will take $lg\\ n$ stetps, then running time is\n$$\nt_n = T(n)=  O \\left(\\left( \\frac{1 + \\sqrt{5}}{2} \\right)^n\\ lg\\ n  \\right) = O \\left( 1.6180339887499^n\\ lg\\ n \\right)\n$$\naproximated with a very relaxed asymptotic bound by\n$$\nt_n = T(n)=  O \\left( 2^n\\ lg\\ n \\right)\n$$",
   "metadata": {
    "id": "kOrB14wvK-fS",
    "cell_id": "00020-bf385199-8970-4b29-a9f1-3dd95c142e17",
    "deepnote_cell_type": "markdown"
   }
  },
  {
   "cell_type": "markdown",
   "source": "# Fibonacci iterative algoritm (forward) $O(n\\ lgn)$",
   "metadata": {
    "id": "YubnxTUgjqey",
    "cell_id": "00021-20490cc8-2bf3-485e-bd9c-8e8564dd392f",
    "deepnote_cell_type": "markdown"
   }
  },
  {
   "cell_type": "code",
   "metadata": {
    "id": "xvN0wMin9HOI",
    "cell_id": "00022-4d9f9eb9-f7d5-4158-990e-785b4c367324",
    "deepnote_cell_type": "code"
   },
   "source": "# fibI - Fibonacci Iterartive (forward) O(n lgn)\ndef fibI(n):\n    if n==0 :\n        return 0\n    a, b = 0, 1\n    for i in range(1, n):\n        a, b = b, a+b\n    return b",
   "outputs": [],
   "execution_count": null
  },
  {
   "cell_type": "code",
   "metadata": {
    "colab": {
     "base_uri": "https://localhost:8080/"
    },
    "id": "B_CYmIdM9NiG",
    "outputId": "7b388980-cf94-4bc4-9af5-8edaaebcca37",
    "cell_id": "00023-c53bab3a-db01-4e87-9a83-6a3090c91d3f",
    "deepnote_cell_type": "code"
   },
   "source": "from time import process_time\nn=10\nt0 = process_time()\nk = fibI(n)\ntf =process_time()\nprint(\"n=\",n,\"fib(\",n,\")=\",k,\"time\",tf - t0, \"seconds process time\")",
   "outputs": [
    {
     "output_type": "stream",
     "text": "n= 10 fib( 10 )= 55 time 3.5158999992290774e-05 seconds process time\n",
     "name": "stdout"
    }
   ],
   "execution_count": null
  },
  {
   "cell_type": "code",
   "metadata": {
    "colab": {
     "base_uri": "https://localhost:8080/"
    },
    "id": "jZ-Nfx73_tGV",
    "outputId": "a819dfe4-d654-43da-d85f-9310ee89988e",
    "cell_id": "00024-44449e32-a837-42ad-a188-d96ae8591f66",
    "deepnote_cell_type": "code"
   },
   "source": "from time import process_time\nn=100\nt0 = process_time()\nk = fibI(n)\ntf =process_time()\nprint(\"n=\",n,\"fib(\",n,\")=\",k,\"time\",tf - t0, \"seconds process time\")",
   "outputs": [
    {
     "output_type": "stream",
     "text": "n= 100 fib( 100 )= 354224848179261915075 time 4.3787999970845704e-05 seconds process time\n",
     "name": "stdout"
    }
   ],
   "execution_count": null
  },
  {
   "cell_type": "code",
   "metadata": {
    "colab": {
     "base_uri": "https://localhost:8080/"
    },
    "id": "3jE6xoo2_wgF",
    "outputId": "2d0f0355-47ab-4803-a4df-8096bd7aae6c",
    "cell_id": "00025-b5ff1537-1bf4-4656-8706-e8c3aeb20455",
    "deepnote_cell_type": "code"
   },
   "source": "from time import process_time\nn=1000\nt0 = process_time()\nk =fibI(n)\ntf =process_time()\nprint(\"n=\",n,\"fib(\",n,\")=\",k,\"time\",tf - t0, \"seconds process time\")",
   "outputs": [
    {
     "output_type": "stream",
     "text": "n= 1000 fib( 1000 )= 43466557686937456435688527675040625802564660517371780402481729089536555417949051890403879840079255169295922593080322634775209689623239873322471161642996440906533187938298969649928516003704476137795166849228875 time 0.00013438700000278914 seconds process time\n",
     "name": "stdout"
    }
   ],
   "execution_count": null
  },
  {
   "cell_type": "code",
   "metadata": {
    "colab": {
     "base_uri": "https://localhost:8080/"
    },
    "id": "MC3OE5nGT1XP",
    "outputId": "5f7b6dea-5e8c-4698-84ba-b661aef46df8",
    "cell_id": "00026-d1190390-b5d8-42a7-82e1-cd08db35723d",
    "deepnote_cell_type": "code"
   },
   "source": "from time import process_time\nn=1001\nt0 = process_time()\nk =fibI(n)\ntf =process_time()\nprint(\"n=\",n,\"fib(\",n,\")=\",k,\"time\",tf - t0, \"seconds process time\")",
   "outputs": [
    {
     "output_type": "stream",
     "text": "n= 1001 fib( 1001 )= 70330367711422815821835254877183549770181269836358732742604905087154537118196933579742249494562611733487750449241765991088186363265450223647106012053374121273867339111198139373125598767690091902245245323403501 time 0.00012054299999997298 seconds process time\n",
     "name": "stdout"
    }
   ],
   "execution_count": null
  },
  {
   "cell_type": "code",
   "metadata": {
    "colab": {
     "base_uri": "https://localhost:8080/"
    },
    "id": "0bkmZtweT6M3",
    "outputId": "b03eebed-9f3d-49bf-b68a-cc8516edaa53",
    "cell_id": "00027-649e1a0c-ea08-407d-baaf-d79ed2747584",
    "deepnote_cell_type": "code"
   },
   "source": "from time import process_time\nn=1002\nt0 = process_time()\nk =fibI(n)\ntf =process_time()\nprint(\"n=\",n,\"fib(\",n,\")=\",k,\"time\",tf - t0, \"seconds process time\")",
   "outputs": [
    {
     "output_type": "stream",
     "text": "n= 1002 fib( 1002 )= 113796925398360272257523782552224175572745930353730513145086634176691092536145985470146129334641866902783673042322088625863396052888690096969577173696370562180400527049497109023054114771394568040040412172632376 time 0.00022098400000003515 seconds process time\n",
     "name": "stdout"
    }
   ],
   "execution_count": null
  },
  {
   "cell_type": "code",
   "source": "from time import process_time\ntime = []\n\nfor i in range(1001):\n    ",
   "metadata": {
    "tags": [],
    "cell_id": "00028-b91f1ed0-fdbb-4e2c-be20-e60752fa03b8",
    "deepnote_cell_type": "code"
   },
   "outputs": [],
   "execution_count": null
  },
  {
   "cell_type": "code",
   "source": "from time import process_time\nimport numpy as np\nimport matplotlib.pyplot as plt\n\ntime = []\n\nfor i in range(1001):\n    t0 = process_time()\n    k = fibI(i)\n    tf = process_time()\n\n    timeElapsed = tf - t0\n    time.append(timeElapsed)\n\nprint(time)\n\nx = np.array(range(1001))\nplt.plot(time)\nplt.plot(x)\nplt.title(\"Fibonacci iterative algoritm (forward)\")\nplt.xlabel(\"n\")\nplt.ylabel(\"Execution Time\")\nplt.show()",
   "metadata": {
    "tags": [],
    "cell_id": "00030-6ebca7df-acd0-4fde-8b8f-8c69bf848211",
    "deepnote_cell_type": "code"
   },
   "outputs": [],
   "execution_count": null
  },
  {
   "cell_type": "markdown",
   "source": "# Fibonacci memoization (dynamic programming)  algoritm  (backward) $O(n\\ lgn)$",
   "metadata": {
    "id": "1zWAZdcikD1V",
    "cell_id": "00028-1c18ab05-96c8-4ebe-8065-fb017dc53e4d",
    "deepnote_cell_type": "markdown"
   }
  },
  {
   "cell_type": "code",
   "metadata": {
    "id": "XDct88yn74Lu",
    "cell_id": "00029-300788e8-91b3-41ba-9686-af4ac65db867",
    "deepnote_cell_type": "code"
   },
   "source": "# fibI - Fibonacci Memoization (dynamic programming) (backward) O(n lg n)\n\ndef fibM(n):\n    memo = {}\n    def fib(n):\n        if n==0 :\n            return 0\n        if n==1 :\n            return 1\n        if (n-2) not in memo:\n            memo[n-2] = fib(n-2)\n        if (n-1) not in memo:\n            memo[n-1] = fib(n-1)\n        return memo[n-1] + memo[n-2]\n    return fib(n)",
   "outputs": [],
   "execution_count": null
  },
  {
   "cell_type": "code",
   "metadata": {
    "colab": {
     "base_uri": "https://localhost:8080/"
    },
    "id": "IPG-IF2-79_s",
    "outputId": "0d9eae2e-775c-4de5-acd5-73b3a0dd0ab9",
    "cell_id": "00030-7e22c195-20a1-4df2-94f6-7aa40bdee842",
    "deepnote_cell_type": "code"
   },
   "source": "from time import process_time\nn=10\nt0 = process_time()\nk = fibM(n)\ntf =process_time()\nprint(\"n=\",n,\"fib(\",n,\")=\",k,\"time\",tf - t0, \"seconds process time\")",
   "outputs": [
    {
     "output_type": "stream",
     "text": "n= 10 fib( 10 )= 55 time 4.459899997755201e-05 seconds process time\n",
     "name": "stdout"
    }
   ],
   "execution_count": null
  },
  {
   "cell_type": "code",
   "metadata": {
    "colab": {
     "base_uri": "https://localhost:8080/"
    },
    "id": "NDZ1mxQPAjiY",
    "outputId": "6d5af9ec-e9f1-44e9-8d21-ed3aed8492d2",
    "cell_id": "00031-89ca764d-8dbc-44da-a1d1-a38b11825a2b",
    "deepnote_cell_type": "code"
   },
   "source": "from time import process_time\nn=100\nt0 = process_time()\nk = fibM(n)\ntf =process_time()\nprint(\"n=\",n,\"fib(\",n,\")=\",k,\"time\",tf - t0, \"seconds process time\")",
   "outputs": [
    {
     "output_type": "stream",
     "text": "n= 100 fib( 100 )= 354224848179261915075 time 0.00019928299997218346 seconds process time\n",
     "name": "stdout"
    }
   ],
   "execution_count": null
  },
  {
   "cell_type": "code",
   "metadata": {
    "colab": {
     "base_uri": "https://localhost:8080/"
    },
    "id": "xC6tLnv1AlQD",
    "outputId": "e7cfd74b-e6ab-457e-ecc7-224feb8c3086",
    "cell_id": "00032-cd743693-11bf-4452-8a59-4ea3b4692652",
    "deepnote_cell_type": "code"
   },
   "source": "from time import process_time\nn=1000\nt0 = process_time()\nk = fibM(n)\ntf =process_time()\nprint(\"n=\",n,\"fib(\",n,\")=\",k,\"time\",tf - t0, \"seconds process time\")",
   "outputs": [
    {
     "output_type": "stream",
     "text": "n= 1000 fib( 1000 )= 43466557686937456435688527675040625802564660517371780402481729089536555417949051890403879840079255169295922593080322634775209689623239873322471161642996440906533187938298969649928516003704476137795166849228875 time 0.0012733259999890834 seconds process time\n",
     "name": "stdout"
    }
   ],
   "execution_count": null
  },
  {
   "cell_type": "code",
   "metadata": {
    "id": "UgCSkL3-0u2Y",
    "colab": {
     "base_uri": "https://localhost:8080/"
    },
    "outputId": "5acbd3e7-f52a-429f-8141-da3a2cdeb48b",
    "cell_id": "00033-5202f3a8-449e-4f2d-9006-5c43c5a68bc3",
    "deepnote_cell_type": "code"
   },
   "source": "from time import process_time\nn=10\nt0 = process_time()\nk = fibA(n)\ntf =process_time()\nprint(\"n=\",n,\"fib(\",n,\")=\",k,\"time\",tf - t0, \"seconds process time\")",
   "outputs": [
    {
     "output_type": "stream",
     "text": "n= 10 fib( 10 )= 55.00000000000002 time 7.380100004183987e-05 seconds process time\n",
     "name": "stdout"
    }
   ],
   "execution_count": null
  },
  {
   "cell_type": "code",
   "metadata": {
    "colab": {
     "base_uri": "https://localhost:8080/"
    },
    "id": "bNJhztlfIcNT",
    "outputId": "4c656739-9a6b-4cae-8eab-0a0c060f7b8f",
    "cell_id": "00034-09e48aeb-1493-424f-9ede-06423abc41c1",
    "deepnote_cell_type": "code"
   },
   "source": "from time import process_time\nn=100\nt0 = process_time()\nk = fibA(n)\ntf =process_time()\nprint(\"n=\",n,\"fib(\",n,\")=\",k,\"time\",tf - t0, \"seconds process time\")",
   "outputs": [
    {
     "output_type": "stream",
     "text": "n= 100 fib( 100 )= 3.542248481792631e+20 time 4.480699999476201e-05 seconds process time\n",
     "name": "stdout"
    }
   ],
   "execution_count": null
  },
  {
   "cell_type": "code",
   "metadata": {
    "colab": {
     "base_uri": "https://localhost:8080/"
    },
    "id": "DWNNTiw4HceL",
    "outputId": "02ee34b5-fb39-4d17-cdf6-d4cfd9ff8aa6",
    "cell_id": "00035-a7ca8b72-073f-4838-9a93-56c4faa807a7",
    "deepnote_cell_type": "code"
   },
   "source": "from time import process_time\nn=1000\nt0 = process_time()\nk = fibA(n)\ntf =process_time()\nprint(\"n=\",n,\"fib(\",n,\")=\",k,\"time\",tf - t0, \"seconds process time\")",
   "outputs": [
    {
     "output_type": "stream",
     "text": "n= 1000 fib( 1000 )= 4.3466557686938915e+208 time 5.118799998626855e-05 seconds process time\n",
     "name": "stdout"
    }
   ],
   "execution_count": null
  },
  {
   "cell_type": "code",
   "source": "from time import process_time\nimport numpy as np\nimport matplotlib.pyplot as plt\n\ntime = []\n\nfor i in range(1001):\n    t0 = process_time()\n    k = fibA(i)\n    tf = process_time()\n\n    timeElapsed = tf - t0\n    time.append(timeElapsed)\n\nprint(time)\n\nx = np.array(range(1001))\nplt.plot(time)\nplt.plot(x)\nplt.title(\"Fibonacci memoization (dynamic programming) algoritm (backward)\")\nplt.xlabel(\"n\")\nplt.ylabel(\"Execution Time\")\nplt.show()",
   "metadata": {
    "tags": [],
    "cell_id": "00039-b7e634fe-b6ad-4186-ba2b-cb39f37df0fb",
    "deepnote_to_be_reexecuted": false,
    "source_hash": "c9d98426",
    "execution_start": 1627269251462,
    "execution_millis": 8,
    "deepnote_cell_type": "code"
   },
   "outputs": [
    {
     "output_type": "error",
     "ename": "NameError",
     "evalue": "name 'fib' is not defined",
     "traceback": [
      "\u001b[0;31m---------------------------------------------------------------------------\u001b[0m",
      "\u001b[0;31mNameError\u001b[0m                                 Traceback (most recent call last)",
      "\u001b[0;32m/tmp/ipykernel_85/4223938735.py\u001b[0m in \u001b[0;36m<module>\u001b[0;34m\u001b[0m\n\u001b[1;32m      7\u001b[0m \u001b[0;32mfor\u001b[0m \u001b[0mi\u001b[0m \u001b[0;32min\u001b[0m \u001b[0mrange\u001b[0m\u001b[0;34m(\u001b[0m\u001b[0;36m1001\u001b[0m\u001b[0;34m)\u001b[0m\u001b[0;34m:\u001b[0m\u001b[0;34m\u001b[0m\u001b[0;34m\u001b[0m\u001b[0m\n\u001b[1;32m      8\u001b[0m     \u001b[0mt0\u001b[0m \u001b[0;34m=\u001b[0m \u001b[0mprocess_time\u001b[0m\u001b[0;34m(\u001b[0m\u001b[0;34m)\u001b[0m\u001b[0;34m\u001b[0m\u001b[0;34m\u001b[0m\u001b[0m\n\u001b[0;32m----> 9\u001b[0;31m     \u001b[0mk\u001b[0m \u001b[0;34m=\u001b[0m \u001b[0mfib\u001b[0m\u001b[0;34m(\u001b[0m\u001b[0mi\u001b[0m\u001b[0;34m)\u001b[0m\u001b[0;34m\u001b[0m\u001b[0;34m\u001b[0m\u001b[0m\n\u001b[0m\u001b[1;32m     10\u001b[0m     \u001b[0mtf\u001b[0m \u001b[0;34m=\u001b[0m \u001b[0mprocess_time\u001b[0m\u001b[0;34m(\u001b[0m\u001b[0;34m)\u001b[0m\u001b[0;34m\u001b[0m\u001b[0;34m\u001b[0m\u001b[0m\n\u001b[1;32m     11\u001b[0m \u001b[0;34m\u001b[0m\u001b[0m\n",
      "\u001b[0;31mNameError\u001b[0m: name 'fib' is not defined"
     ]
    }
   ],
   "execution_count": 52
  },
  {
   "cell_type": "markdown",
   "source": "# Fibonacci  binary exponentiation matrix algorithm $O(lg^2 n) $",
   "metadata": {
    "id": "yxLkXgpNkPrS",
    "cell_id": "00036-ed4cb4d0-1be4-4957-9c5d-2b186c2f96dd",
    "deepnote_cell_type": "markdown"
   }
  },
  {
   "cell_type": "markdown",
   "source": "The Fibonacci Q-matrix | Lecture 6 | Fibonacci Numbers and the Golden Ratio https://youtu.be/lTHVwsHJrG0\n\nExercise 0.4. Dasgupta S., Papadimitriou C., Vazirani U. , “Algorithms” , McGraw Hill, 2007.\n\nFast matrix solution https://stackoverflow.com/a/40117659\n\nThis is a superfast solution refer to https://stackoverflow.com/a/23462371/3700852\n\nYou can read some more about involved math here https://en.wikipedia.org/wiki/Fibonacci_number#Matrix_form\n\nEfficient calculation of Fibonacci series https://stackoverflow.com/questions/18172257/efficient-calculation-of-fibonacci-series\n\nPython: Compute a Huge Fibonacci Number Modulo m https://stackoverflow.com/questions/40096097/python-compute-a-huge-fibonacci-number-modulo-m#:~:text=Pisano%20periods%20follows%20a%20Fibonacci,in%20finding%20the%20Pisano%20period.\n\nBinary Exponentiation https://cp-algorithms.com/algebra/binary-exp.html\n\nExponentiation by squaring https://en.wikipedia.org/wiki/Exponentiation_by_squaring ",
   "metadata": {
    "id": "O9sNNaXwIBWl",
    "cell_id": "00037-fc41a51a-5eb2-431f-a607-c4ec16a03c48",
    "deepnote_cell_type": "markdown"
   }
  },
  {
   "cell_type": "code",
   "metadata": {
    "id": "VcNX7LjMICLz",
    "cell_id": "00038-dd122c5f-9d1a-42f3-9803-989a91f23ce6",
    "deepnote_cell_type": "code"
   },
   "source": "# Fibonacci fast matrix O(lg^2 n) - https://stackoverflow.com/a/40117659  \n\ndef fib_fast_matrix(n):\n\n    if n==0: return 0\n\n    # Initialize a matrix [[1,1],[1,0]]    \n    v1, v2, v3 = 1, 1, 0  \n    # Perform fast exponentiation of the matrix (quickly raise it to the nth power)\n    for rec in bin(n)[3:]:\n        calc = (v2*v2) \n        v1, v2, v3 = (v1*v1+calc) , ((v1+v3)*v2) , (calc+v3*v3) \n        if rec == '1': v1, v2, v3 = (v1+v2), v1, v2\n    return v2;    ",
   "outputs": [],
   "execution_count": null
  },
  {
   "cell_type": "code",
   "metadata": {
    "colab": {
     "base_uri": "https://localhost:8080/"
    },
    "id": "6ONxPvSdI9mr",
    "outputId": "24a86a40-c8ab-405d-c001-8cd6f815a24f",
    "cell_id": "00039-2416d197-ecf3-4e11-abd2-d01140abd22d",
    "deepnote_cell_type": "code"
   },
   "source": " for n in range(0, 20):\n   print(fib_fast_matrix(n))",
   "outputs": [
    {
     "output_type": "stream",
     "text": "0\n1\n1\n2\n3\n5\n8\n13\n21\n34\n55\n89\n144\n233\n377\n610\n987\n1597\n2584\n4181\n",
     "name": "stdout"
    }
   ],
   "execution_count": null
  },
  {
   "cell_type": "code",
   "metadata": {
    "colab": {
     "base_uri": "https://localhost:8080/"
    },
    "id": "xij3BFA0H3sM",
    "outputId": "99024659-fa19-47e0-d86a-025f79f4a790",
    "cell_id": "00040-19494b0f-20e1-47df-8e35-04b411c41e69",
    "deepnote_cell_type": "code"
   },
   "source": "from time import process_time\nn=10\nt0 = process_time()\nk = fib_fast_matrix(n)\ntf =process_time()\nprint(\"n=\",n,\"fib(\",n,\")=\",k,\"time\",tf - t0, \"seconds process time\")",
   "outputs": [
    {
     "output_type": "stream",
     "text": "n= 10 fib( 10 )= 55 time 6.432500003938912e-05 seconds process time\n",
     "name": "stdout"
    }
   ],
   "execution_count": null
  },
  {
   "cell_type": "code",
   "metadata": {
    "colab": {
     "base_uri": "https://localhost:8080/"
    },
    "id": "9G6c4AX_KcAS",
    "outputId": "5f3141d4-8ace-42fa-db61-ca372e591b91",
    "cell_id": "00041-58256e8f-4665-4257-8b25-a84e05b1d37a",
    "deepnote_cell_type": "code"
   },
   "source": "from time import process_time\nn=100\nt0 = process_time()\nk = fib_fast_matrix(n)\ntf =process_time()\nprint(\"n=\",n,\"fib(\",n,\")=\",k,\"time\",tf - t0, \"seconds process time\")",
   "outputs": [
    {
     "output_type": "stream",
     "text": "n= 100 fib( 100 )= 354224848179261915075 time 6.234999995058388e-05 seconds process time\n",
     "name": "stdout"
    }
   ],
   "execution_count": null
  },
  {
   "cell_type": "code",
   "metadata": {
    "colab": {
     "base_uri": "https://localhost:8080/"
    },
    "id": "rkJvGhmQKe45",
    "outputId": "62863815-04a7-45b8-8a51-615b74f17ee4",
    "cell_id": "00042-7c6381a1-1e1e-4fc6-8489-4ed0a6a0e54f",
    "deepnote_cell_type": "code"
   },
   "source": "from time import process_time\nn=1000\nt0 = process_time()\nk = fib_fast_matrix(n)\ntf =process_time()\nprint(\"n=\",n,\"fib(\",n,\")=\",k,\"time\",tf - t0, \"seconds process time\")",
   "outputs": [
    {
     "output_type": "stream",
     "text": "n= 1000 fib( 1000 )= 43466557686937456435688527675040625802564660517371780402481729089536555417949051890403879840079255169295922593080322634775209689623239873322471161642996440906533187938298969649928516003704476137795166849228875 time 4.804599996077741e-05 seconds process time\n",
     "name": "stdout"
    }
   ],
   "execution_count": null
  },
  {
   "cell_type": "code",
   "metadata": {
    "colab": {
     "base_uri": "https://localhost:8080/"
    },
    "id": "bOzN2bmAmv76",
    "outputId": "01ac2a50-7bc8-4c67-f271-89d35642a045",
    "cell_id": "00043-ff9f02bc-eb98-43cd-8cc3-6ad691ec41c5",
    "deepnote_cell_type": "code"
   },
   "source": "from time import process_time\nn=100000\nm=10\nt0 = process_time()\nk = fib_fast_matrix(n)\ntf =process_time()\nprint(\"n=\",n,\"fib(\",n,\")=\",k,\"time\",tf - t0, \"seconds process time\")",
   "outputs": [
    {
     "output_type": "stream",
     "text": "n= 100000 fib( 100000 )= 2597406934722172416615503402127591541488048538651769658472477070395253454351127368626555677283671674475463758722307443211163839947387509103096569738218830449305228763853133492135302679278956701051276578271635608073050532200243233114383986516137827238124777453778337299916214634050054669860390862750996639366409211890125271960172105060300350586894028558103675117658251368377438684936413457338834365158775425371912410500332195991330062204363035213756525421823998690848556374080179251761629391754963458558616300762819916081109836526352995440694284206571046044903805647136346033000520852277707554446794723709030979019014860432846819857961015951001850608264919234587313399150133919932363102301864172536477136266475080133982431231703431452964181790051187957316766834979901682011849907756686456845066287392485603914047605199550066288826345877189410680370091879365001733011710028310473947456256091444932821374855573864080579813028266640270354294412104919995803131876805899186513425175959911520563155337703996941035518275274919959802257507902037798103089922984996304496255814045517000250299764322193462165366210841876745428298261398234478366581588040819003307382939500082132009374715485131027220817305432264866949630987914714362925554252624043999615326979876807510646819068792118299167964409178271868561702918102212679267401362650499784968843680975254700131004574186406448299485872551744746695651879126916993244564817673322257149314967763345846623830333820239702436859478287641875788572910710133700300094229333597292779191409212804901545976262791057055248158884051779418192905216769576608748815567860128818354354292307397810154785701328438612728620176653953444993001980062953893698550072328665131718113588661353747268458543254898113717660519461693791688442534259478126310388952047956594380715301911253964847112638900713362856910155145342332944128435722099628674611942095166100230974070996553190050815866991144544264788287264284501725332048648319457892039984893823636745618220375097348566847433887249049337031633826571760729778891798913667325190623247118037280173921572390822769228077292456662750538337500692607721059361942126892030256744356537800831830637593334502350256972906515285327194367756015666039916404882563967693079290502951488693413799125174856667074717514938979038653338139534684837808612673755438382110844897653836848318258836339917310455850905663846202501463131183108742907729262215943020429159474030610183981685506695026197376150857176119947587572212987205312060791864980361596092339594104118635168854883911918517906151156275293615849000872150192226511785315089251027528045151238603792184692121533829287136924321527332714157478829590260157195485316444794546750285840236000238344790520345108033282013803880708980734832620122795263360677366987578332625485944906021917368867786241120562109836985019729017715780112040458649153935115783499546100636635745448508241888279067531359950519206222976015376529797308588164873117308237059828489404487403932053592935976454165560795472477862029969232956138971989467942218727360512336559521133108778758228879597580320459608479024506385194174312616377510459921102486879496341706862092908893068525234805692599833377510390101316617812305114571932706629167125446512151746802548190358351688971707570677865618800822034683632101813026232996027599403579997774046244952114531588370357904483293150007246173417355805567832153454341170020258560809166294198637401514569572272836921963229511187762530753402594781448204657460288485500062806934811398276016855584079542162057543557291510641537592939022884356120792643705560062367986544382464373946972471945996555795505838034825597839682776084731530251788951718630722761103630509360074262261717363058613291544024695432904616258691774630578507674937487992329181750163484068813465534370997589353607405172909412697657593295156818624747127636468836551757018353417274662607306510451195762866349922848678780591085118985653555434958761664016447588028633629704046289097067736256584300235314749461233912068632146637087844699210427541569410912246568571204717241133378489816764096924981633421176857150311671040068175303192115415611958042570658693127276213710697472226029655524611053715554532499750843275200199214301910505362996007042963297805103066650638786268157658772683745128976850796366371059380911225428835839194121154773759981301921650952140133306070987313732926518169226845063443954056729812031546392324981793780469103793422169495229100793029949237507299325063050942813902793084134473061411643355614764093104425918481363930542369378976520526456347648318272633371512112030629233889286487949209737847861884868260804647319539200840398308008803869049557419756219293922110825766397681361044490024720948340326796768837621396744075713887292863079821849314343879778088737958896840946143415927131757836511457828935581859902923534388888846587452130838137779443636119762839036894595760120316502279857901545344747352706972851454599861422902737291131463782045516225447535356773622793648545035710208644541208984235038908770223039849380214734809687433336225449150117411751570704561050895274000206380497967960402617818664481248547269630823473377245543390519841308769781276565916764229022948181763075710255793365008152286383634493138089971785087070863632205869018938377766063006066757732427272929247421295265000706646722730009956124191409138984675224955790729398495608750456694217771551107346630456603944136235888443676215273928597072287937355966723924613827468703217858459948257514745406436460997059316120596841560473234396652457231650317792833860590388360417691428732735703986803342604670071717363573091122981306903286137122597937096605775172964528263757434075792282180744352908669606854021718597891166333863858589736209114248432178645039479195424208191626088571069110433994801473013100869848866430721216762473119618190737820766582968280796079482259549036328266578006994856825300536436674822534603705134503603152154296943991866236857638062351209884448741138600171173647632126029961408561925599707566827866778732377419444462275399909291044697716476151118672327238679208133367306181944849396607123345271856520253643621964198782752978813060080313141817069314468221189275784978281094367751540710106350553798003842219045508482239386993296926659221112742698133062300073465628498093636693049446801628553712633412620378491919498600097200836727876650786886306933418995225768314390832484886340318940194161036979843833346608676709431643653538430912157815543512852077720858098902099586449602479491970687230765687109234380719509824814473157813780080639358418756655098501321882852840184981407690738507369535377711880388528935347600930338598691608289335421147722936561907276264603726027239320991187820407067412272258120766729040071924237930330972132364184093956102995971291799828290009539147382437802779051112030954582532888721146170133440385939654047806199333224547317803407340902512130217279595753863158148810392952475410943880555098382627633127606718126171022011356181800775400227516734144169216424973175621363128588281978005788832454534581522434937268133433997710512532081478345067139835038332901313945986481820272322043341930929011907832896569222878337497354301561722829115627329468814853281922100752373626827643152685735493223028018101449649009015529248638338885664893002250974343601200814365153625369199446709711126951966725780061891215440222487564601554632812091945824653557432047644212650790655208208337976071465127508320487165271577472325887275761128357592132553934446289433258105028633583669291828566894736223508250294964065798630809614341696830467595174355313224362664207197608459024263017473392225291248366316428006552870975051997504913009859468071013602336440164400179188610853230764991714372054467823597211760465153200163085336319351589645890681722372812310320271897917951272799656053694032111242846590994556380215461316106267521633805664394318881268199494005537068697621855231858921100963441012933535733918459668197539834284696822889460076352031688922002021931318369757556962061115774305826305535862015637891246031220672933992617378379625150999935403648731423208873977968908908369996292995391977217796533421249291978383751460062054967341662833487341011097770535898066498136011395571584328308713940582535274056081011503907941688079197212933148303072638678631411038443128215994936824342998188719768637604496342597524256886188688978980888315865076262604856465004322896856149255063968811404400429503894245872382233543101078691517328333604779262727765686076177705616874050257743749983775830143856135427273838589774133526949165483929721519554793578923866762502745370104660909382449626626935321303744538892479216161188889702077910448563199514826630802879549546453583866307344423753319712279158861707289652090149848305435983200771326653407290662016775706409690183771201306823245333477966660525325490873601961480378241566071271650383582257289215708209369510995890132859490724306183325755201208090007175022022949742801823445413711916298449914722254196594682221468260644961839254249670903104007581488857971672246322887016438403908463856731164308169537326790303114583680575021119639905615169154708510459700542098571797318015564741406172334145847111268547929892443001391468289103679179216978616582489007322033591376706527676521307143985302760988478056216994659655461379174985659739227379416726495377801992098355427866179123126699374730777730569324430166839333011554515542656864937492128687049121754245967831132969248492466744261999033972825674873460201150442228780466124320183016108232183908654771042398228531316559685688005226571474428823317539456543881928624432662503345388199590085105211383124491861802624432195540433985722841341254409411771722156867086291742124053110620522842986199273629406208834754853645128123279609097213953775360023076765694208219943034648783348544492713539450224591334374664937701655605763384697062918725745426505879414630176639760457474311081556747091652708748125267159913793240527304613693961169892589808311906322510777928562071999459487700611801002296132304588294558440952496611158342804908643860880796440557763691857743754025896855927252514563404385217825890599553954627451385454452916761042969267970893580056234501918571489030418495767400819359973218711957496357095967825171096264752068890806407651445893132870767454169607107931692704285168093413311046353506242209810363216771910420786162184213763938194625697286781413636389620123976910465418956806197323148414224550071617215851321302030684176087215892702098879108938081045903397276547326416916845445627600759561367103584575649094430692452532085003091068783157561519847567569191284784654692558665111557913461272425336083635131342183905177154511228464455136016013513228948543271504760839307556100908786096663870612278690274831819331606701484957163004705262228238406266818448788374548131994380387613830128859885264201992286188208499588640888521352501457615396482647451025902530743172956899636499615707551855837165935367125448515089362904567736630035562457374779100987992499146967224041481601289530944015488942613783140087804311431741858071826185149051138744831358439067228949408258286021650288927228387426432786168690381960530155894459451808735197246008221529343980828254126128257157209350985382800738560472910941184006084485235377833503306861977724501886364070344973366473100602018128792886991861824418453968994777259482169137133647470453172979809245844361129618997595696240971845564020511432589591844724920942930301651488713079802102379065536525154780298059407529440513145807551537794861635879901158192019808879694967187448224156836463534326160242632934761634458163890163805123894184523973421841496889262398489648642093409816681494771155177009562669029850101513537599801272501241971119871526593747484778935488777815192931171431167444773882941064615028751327709474504763922874890662989841540259350834035142035136168819248238998027706666916342133424312054507359388616687691188185776118135771332483965209882085982391298606386822804754362408956522921410859852037330544625953261340234864689275060526893755148403298542086991221052597005628576707702567695300978970046408920009852106980295419699802138053295798159478289934443245491565327845223840551240445208226435420656313310702940722371552770504263482073984454889589248861397657079145414427653584572951329719091947694411910966797474262675590953832039169673494261360032263077428684105040061351052194413778158095005714526846009810352109249040027958050736436961021241137739717164869525493114805040126568351268829598413983222676377804500626507241731757395219796890754825199329259649801627068665658030178877405615167159731927320479376247375505855052839660294566992522173600874081212014209071041937598571721431338017425141582491824710905084715977249417049320254165239323233258851588893337097136310892571531417761978326033750109026284066415801371359356529278088456305951770081443994114674291850360748852366654744869928083230516815711602911836374147958492100860528981469547750812338896943152861021202736747049903930417035171342126923486700566627506229058636911882228903170510305406882096970875545329369434063981297696478031825451642178347347716471058423238594580183052756213910186997604305844068665712346869679456044155742100039179758348979935882751881524675930878928159243492197545387668305684668420775409821781247053354523194797398953320175988640281058825557698004397120538312459428957377696001857497335249965013509368925958021863811725906506436882127156815751021712900765992750370228283963962915973251173418586721023497317765969454283625519371556009143680329311962842546628403142444370648432390374906410811300792848955767243481200090309888457270907750873638873299642555050473812528975962934822878917619920725138309388288292510416837622758204081918933603653875284116785703720989718832986921927816629675844580174911809119663048187434155067790863948831489241504300476704527971283482211522202837062857314244107823792513645086677566622804977211397140621664116324756784216612961477109018826094677377686406176721484293894976671380122788941309026553511096118347012565197540807095384060916863936906673786627209429434264260402902158317345003727462588992622049877121178405563348492490326003508569099382392777297498413565614830788262363322368380709822346012274241379036473451735925215754757160934270935192901723954921426490691115271523338109124042812102893738488167358953934508930697715522989199698903885883275409044300321986834003470271220020159699371690650330547577095398748580670024491045504890061727189168031394528036165633941571334637222550477547460756055024108764382121688848916940371258901948490685379722244562009483819491532724502276218589169507405794983759821006604481996519360110261576947176202571702048684914616894068404140833587562118319210838005632144562018941505945780025318747471911604840677997765414830622179069330853875129298983009580277554145435058768984944179136535891620098725222049055183554603706533183176716110738009786625247488691476077664470147193074476302411660335671765564874440577990531996271632972009109449249216456030618827772947750764777446452586328919159107444252320082918209518021083700353881330983215894608680127954224752071924134648334963915094813097541433244209299930751481077919002346128122330161799429930618800533414550633932139339646861616416955220216447995417243171165744471364197733204899365074767844149929548073025856442942381787641506492878361767978677158510784235702640213388018875601989234056868423215585628508645525258377010620532224244987990625263484010774322488172558602233302076399933854152015343847725442917895130637050320444917797752370871958277976799686113626532291118629631164685159934660693460557545956063155830033697634000276685151293843638886090828376141157732003527565158745906567025439437931104838571313294490604926582363108949535090082673154497226396648088618041573977888472892174618974189721700770009862449653759012727015227634510874906948012210684952063002519011655963580552429180205586904259685261047412834518466736938580027700252965356366721619883672428226933950325930390994583168665542234654857020875504617520521853721567282679903418135520602999895366470106557900532129541336924472492212436324523042895188461779122338069674233980694887270587503389228395095135209123109258159006960395156367736067109050566299603571876423247920752836160805597697778756476767210521222327184821484446631261487584226092608875764331731023263768864822594691211032367737558122133470556805958008310127481673962019583598023967414489867276845869819376783757167936723213081586191045995058970991064686919463448038574143829629547131372173669836184558144505748676124322451519943362182916191468026091121793001864788050061351603144350076189213441602488091741051232290357179205497927970924502479940842696158818442616163780044759478212240873204124421169199805572649118243661921835714762891425805771871743688000324113008704819373962295017143090098476927237498875938639942530595331607891618810863505982444578942799346514915952884869757488025823353571677864826828051140885429732788197765736966005727700162592404301688659946862983717270595809808730901820120931003430058796552694788049809205484305467611034654748067290674399763612592434637719995843862812391985470202414880076880818848087892391591369463293113276849329777201646641727587259122354784480813433328050087758855264686119576962172239308693795757165821852416204341972383989932734803429262340722338155102209101262949249742423271698842023297303260161790575673111235465890298298313115123607606773968998153812286999642014609852579793691246016346088762321286205634215901479188632194659637483482564291616278532948239313229440231043277288768139550213348266388687453259281587854503890991561949632478855035090289390973718988003999026132015872678637873095678109625311008054489418857983565902063680699643165033912029944327726770869305240718416592070096139286401966725750087012218149733133695809600369751764951350040285926249203398111014953227533621844500744331562434532484217986108346261345897591234839970751854223281677187215956827243245910829019886390369784542622566912542747056097567984857136623679023878478161201477982939080513150258174523773529510165296934562786122241150783587755373348372764439838082000667214740034466322776918936967612878983488942094688102308427036452854504966759697318836044496702853190637396916357980928865719935397723495486787180416401415281489443785036291071517805285857583987711145474240156416477194116391354935466755593592608849200546384685403028080936417250583653368093407225310820844723570226809826951426162451204040711501448747856199922814664565893938488028643822313849852328452360667045805113679663751039248163336173274547275775636810977344539275827560597425160705468689657794530521602315939865780974801515414987097778078705357058008472376892422189750312758527140173117621279898744958406199843913365680297721208751934988504499713914285158032324823021340630312586072624541637765234505522051086318285359658520708173392709566445011404055106579055037417780393351658360904543047721422281816832539613634982525215232257690920254216409657452618066051777901592902884240599998882753691957540116954696152270401280857579766154722192925655963991820948894642657512288766330302133746367449217449351637104725732980832812726468187759356584218383594702792013663907689741738962252575782663990809792647011407580367850599381887184560094695833270775126181282015391041773950918244137561999937819240362469558235924171478702779448443108751901807414110290370706052085162975798361754251041642244867577350756338018895379263183389855955956527857227926155524494739363665533904528656215464288343162282921123290451842212532888101415884061619939195042230059898349966569463580186816717074818823215848647734386780911564660755175385552224428524049468033692299989300783900020690121517740696428573930196910500988278523053797637940257968953295112436166778910585557213381789089945453947915927374958600268237844486872037243488834616856290097850532497036933361942439802882364323553808208003875741710969289725499878566253048867033095150518452126944989251596392079421452606508516052325614861938282489838000815085351564642761700832096483117944401971780149213345335903336672376719229722069970766055482452247416927774637522135201716231722137632445699154022395494158227418930589911746931773776518735850032318014432883916374243795854695691221774098948611515564046609565094538115520921863711518684562543275047870530006998423140180169421109105925493596116719457630962328831271268328501760321771680400249657674186927113215573270049935709942324416387089242427584407651215572676037924765341808984312676941110313165951429479377670698881249643421933287404390485538222160837088907598277390184204138197811025854537088586701450623578513960109987476052535450100439353062072439709976445146790993381448994644609780957731953604938734950026860564555693224229691815630293922487606470873431166384205442489628760213650246991893040112513103835085621908060270866604873585849001704200923929789193938125116798421788115209259130435572321635660895603514383883939018953166274355609970015699780289236362349895374653428746875 time 0.004004439000000026 seconds process time\n",
     "name": "stdout"
    }
   ],
   "execution_count": null
  },
  {
   "cell_type": "markdown",
   "source": "## Fibonacci $\\mod m$ and Pisano periods\n\nTo know about Fibonacci $\\mod m$ and Pisano periods, I recommend that you watch this video: Fibonacci Mystery - Numberphile https://www.youtube.com/watch?v=Nu-lW-Ifyec\n\n",
   "metadata": {
    "id": "AJfON0LwHkTF",
    "cell_id": "00044-9816e98b-ab4c-41fa-ad6d-b6c56eaa7ea4",
    "deepnote_cell_type": "markdown"
   }
  },
  {
   "cell_type": "markdown",
   "source": "### Pisano period https://en.wikipedia.org/wiki/Pisano_period\n\nIn number theory, the nth Pisano period, written π(n), is the period with which the sequence of Fibonacci numbers taken modulo n repeats. Pisano periods are named after Leonardo Pisano, better known as Fibonacci. The existence of periodic functions in Fibonacci numbers was noted by Joseph Louis Lagrange in 1774.",
   "metadata": {
    "id": "gvFXy7DaHwcR",
    "cell_id": "00045-e8cafd57-91d6-4c7a-a658-9a661cdf4299",
    "deepnote_cell_type": "markdown"
   }
  },
  {
   "cell_type": "markdown",
   "source": "### Pisano period https://mathworld.wolfram.com/PisanoPeriod.html\nThe sequence of Fibonacci numbers $\\{F_n\\}$ is periodic modulo any modulus $m$ (Wall 1960), and the period ($\\mod m$) is the known as the Pisano period $\\pi(m)$ (Wrench 1969). For m=1, 2, ..., the values of $\\pi(m)$ are $1, 3, 8, 6, 20, 24, 16, 12, 24, 60, 10, ...$ (OEIS A001175).\n\nSince $\\pi(10)=60$, the last digit of $F_n$ repeats with period $60$, as first noted by Lagrange in 1774 (Livio 2002, p. 105). The last two digits repeat with a period of $300$, and the last three with a period of $1500$. In 1963, Geller found that the last four digits have a period of 15000 and the last five a period of $150000$. Jarden subsequently showed that for $d>=3$, the last d digits have a period of $15·10^{(d-1)}$ (Livio 2002, pp. 105-106). The sequence of Pisano periods for $n=1, 10, 100, 1000, ...$ are therefore $60, 300, 1500, 15000, 150000, 1500000, ...$ (OEIS A096363).\n",
   "metadata": {
    "id": "7I8lHMWDIKpZ",
    "cell_id": "00046-43d81e5a-1e72-491f-b522-5aebc4a97b36",
    "deepnote_cell_type": "markdown"
   }
  },
  {
   "cell_type": "markdown",
   "source": "Python: Compute a Huge Fibonacci Number Modulo m https://stackoverflow.com/questions/40096097/python-compute-a-huge-fibonacci-number-modulo-m#:~:text=Pisano%20periods%20follows%20a%20Fibonacci,in%20finding%20the%20Pisano%20period.\n\nhttps://stackoverflow.com/a/51874771\n\nIn the below code we are using two concepts of Fibonacci series:\n\n1. Pisano periods follows a Fibonacci sequence and hence each repetition(pattern) begins with 0 and 1 appearing consecutively one after the other.\n\n2. fib(n) divides fib(m) only when n divides m which means if fib(4)%3==0,then fib(4+4)%3==0,fib(4+4+4)%3==0 and so on.This helps us in finding the Pisano period.\n\n",
   "metadata": {
    "id": "hgcrw9veJSx9",
    "cell_id": "00047-8d1b8c9b-f228-4ce0-9dc4-c7546d434321",
    "deepnote_cell_type": "markdown"
   }
  },
  {
   "cell_type": "markdown",
   "source": "## Fibonacci $\\mod m$ binary exponentiation matrix algorithm   $O(lg\\ n)$\n\n",
   "metadata": {
    "id": "ejGRtbnblTcy",
    "cell_id": "00048-7348a1eb-664a-457d-95d9-5956c924880d",
    "deepnote_cell_type": "markdown"
   }
  },
  {
   "cell_type": "code",
   "metadata": {
    "id": "Ut-xhYfYB7pV",
    "cell_id": "00049-d2ee59ce-3ea7-4a49-b053-c9d702169a50",
    "deepnote_cell_type": "code"
   },
   "source": "# Fibonacci module fast matrix O(lg n) - https://stackoverflow.com/a/40117659  \n\ndef Huge_Fib_Mod(n,m):\n\n    if n==0: return 0\n\n    # Initialize a matrix [[1,1],[1,0]]    \n    v1, v2, v3 = 1, 1, 0  \n    # Perform fast exponentiation of the matrix (quickly raise it to the nth power)\n    for rec in bin(n)[3:]:\n        calc = (v2*v2) % m\n        v1, v2, v3 = (v1*v1+calc)% m , ((v1+v3)*v2) % m, (calc+v3*v3) % m\n        if rec == '1': v1, v2, v3 = (v1+v2)% m, v1, v2\n    return v2;  ",
   "outputs": [],
   "execution_count": null
  },
  {
   "cell_type": "code",
   "metadata": {
    "colab": {
     "base_uri": "https://localhost:8080/"
    },
    "id": "kkH0yEV_npaL",
    "outputId": "97b712fc-6e44-4b77-8d9e-4386db6fd8ec",
    "cell_id": "00050-ad4bbe64-2c37-4941-99fd-2e9450b79b8d",
    "deepnote_cell_type": "code"
   },
   "source": "m=10\nfor n in range(0,65):\n   print(n,\" \",Huge_Fib_Mod(n,m))",
   "outputs": [
    {
     "output_type": "stream",
     "text": "0   0\n1   1\n2   1\n3   2\n4   3\n5   5\n6   8\n7   3\n8   1\n9   4\n10   5\n11   9\n12   4\n13   3\n14   7\n15   0\n16   7\n17   7\n18   4\n19   1\n20   5\n21   6\n22   1\n23   7\n24   8\n25   5\n26   3\n27   8\n28   1\n29   9\n30   0\n31   9\n32   9\n33   8\n34   7\n35   5\n36   2\n37   7\n38   9\n39   6\n40   5\n41   1\n42   6\n43   7\n44   3\n45   0\n46   3\n47   3\n48   6\n49   9\n50   5\n51   4\n52   9\n53   3\n54   2\n55   5\n56   7\n57   2\n58   9\n59   1\n60   0\n61   1\n62   1\n63   2\n64   3\n",
     "name": "stdout"
    }
   ],
   "execution_count": null
  },
  {
   "cell_type": "code",
   "metadata": {
    "colab": {
     "base_uri": "https://localhost:8080/"
    },
    "id": "jGCOk0ZmMhz3",
    "outputId": "e750e6cc-0387-4065-9077-d732ead25e0f",
    "cell_id": "00051-b767cef0-f8a2-40f6-911a-25df4402fd4f",
    "deepnote_cell_type": "code"
   },
   "source": "import sys\n\ndef fibmod(n,m): \n    if n <= 1:\n        return n\n\n    previous = 0\n    current  = 1\n\n    for _ in range(n - 1):\n        previous, current = current, (previous + current) % m\n    \n    return current\n\n# Pisano periods https://stackoverflow.com/a/51874771\n# 1. Pisano periods follows  follows a Fibonacci sequence and hence each repetition(pattern) \n#    begins with 0 and 1 appearing consecutively one after the other.\n# 2. fib(n) divides fib(m) only when n divides m which means if fib(4)%3==0,\n#    then fib(4+4)%3==0,fib(4+4+4)%3==0 and so on.This helps us in finding the Pisano period.\ndef pisano_period(m):\n    i=2\n    while(fibmod(i,m)!=0):\n        i+=1\n    if(fibmod(i+1,m)!=1):\n        while(fibmod(i+1,m)!=1):\n            i+=i\n    return i\n\ndef get_fibonacci_huge_pissano(n, m):\n   \n    n = n % pisano_period(m) \n\n    return fibmod(n,m)\n\nif __name__ == '__main__':\n    n, m = map(int, input().split())\n    print(get_fibonacci_huge_pissano(n, m))",
   "outputs": [
    {
     "output_type": "stream",
     "text": "239 1000\n161\n",
     "name": "stdout"
    }
   ],
   "execution_count": null
  },
  {
   "cell_type": "code",
   "metadata": {
    "colab": {
     "base_uri": "https://localhost:8080/"
    },
    "id": "x3VuzoHbOlQJ",
    "outputId": "a626332c-2746-4800-9622-63653f661115",
    "cell_id": "00052-3b7ffe96-6099-4d1c-a157-ffb876078f89",
    "deepnote_cell_type": "code"
   },
   "source": "if __name__ == '__main__':\n    n, m = map(int, input().split())\n    print(get_fibonacci_huge_pissano(n, m))",
   "outputs": [
    {
     "output_type": "stream",
     "text": "2816213588 239\n151\n",
     "name": "stdout"
    }
   ],
   "execution_count": null
  },
  {
   "cell_type": "code",
   "metadata": {
    "colab": {
     "base_uri": "https://localhost:8080/"
    },
    "id": "ezy79R8OOxUw",
    "outputId": "855be421-7fa5-44b4-dff8-b03cd1a06092",
    "cell_id": "00053-6bfd8657-e67e-4c8a-a2d8-327db15a8f0b",
    "deepnote_cell_type": "code"
   },
   "source": "if __name__ == '__main__':\n    n, m = map(int, input().split())\n    print(get_fibonacci_huge_pissano(n, m))",
   "outputs": [
    {
     "output_type": "stream",
     "text": "10 4\n3\n",
     "name": "stdout"
    }
   ],
   "execution_count": null
  },
  {
   "cell_type": "code",
   "metadata": {
    "colab": {
     "base_uri": "https://localhost:8080/"
    },
    "id": "rXvoqT0XH_oo",
    "outputId": "dad2b705-8983-40d8-d0ca-469bf6a13c06",
    "cell_id": "00054-4cbe91ab-084b-4aa5-b6c6-81566296f80d",
    "deepnote_cell_type": "code"
   },
   "source": "import sys\n\n# Fibonacci module fast matrix O(lg n) - https://stackoverflow.com/a/40117659 \ndef Huge_Fib_Mod(n,m):\n\n    if n==0: return 0\n\n    # Initialize a matrix [[1,1],[1,0]]    \n    v1, v2, v3 = 1, 1, 0  \n    # Perform fast exponentiation of the matrix (quickly raise it to the nth power)\n    for rec in bin(n)[3:]:\n        calc = (v2*v2) % m\n        v1, v2, v3 = (v1*v1+calc)% m , ((v1+v3)*v2) % m, (calc+v3*v3) % m\n        if rec == '1': v1, v2, v3 = (v1+v2)% m, v1, v2\n    return v2;  \n\n# Pisano periods https://stackoverflow.com/a/51874771\n# 1. Pisano periods follows  follows a Fibonacci sequence and hence each repetition(pattern) \n#    begins with 0 and 1 appearing consecutively one after the other.\n# 2. fib(n) divides fib(m) only when n divides m which means if fib(4)%3==0,\n#    then fib(4+4)%3==0,fib(4+4+4)%3==0 and so on.This helps us in finding the Pisano period.\ndef pisano_period(m):\n    i=2\n    while(Huge_Fib_Mod(i,m)!=0):\n        i+=1\n    \n    if(Huge_Fib_Mod(i+1,m)!=1):\n        while(Huge_Fib_Mod(i+1,m)!=1):\n            i+=i\n    return i\n\ndef get_fibonacci_huge_pissano(n, m):\n\n    n = n % pisano_period(m) \n\n    return Huge_Fib_Mod(n,m)\n\nif __name__ == '__main__':\n    n, m = map(int, input().split())\n    print(get_fibonacci_huge_pissano(n, m))",
   "outputs": [
    {
     "output_type": "stream",
     "text": "239 1000\n161\n",
     "name": "stdout"
    }
   ],
   "execution_count": null
  },
  {
   "cell_type": "code",
   "metadata": {
    "colab": {
     "base_uri": "https://localhost:8080/"
    },
    "id": "q7rb88N0O8On",
    "outputId": "f6951b24-0c9c-41e5-bc2f-0724dc149d5c",
    "cell_id": "00055-ec666513-3f69-467d-8822-66204186a588",
    "deepnote_cell_type": "code"
   },
   "source": "if __name__ == '__main__':\n    n, m = map(int, input().split())\n    print(get_fibonacci_huge_pissano(n, m))",
   "outputs": [
    {
     "output_type": "stream",
     "text": "2816213588 239\n151\n",
     "name": "stdout"
    }
   ],
   "execution_count": null
  },
  {
   "cell_type": "code",
   "metadata": {
    "colab": {
     "base_uri": "https://localhost:8080/"
    },
    "id": "miEkyv-sO_9f",
    "outputId": "ea004fdf-86bd-4860-8562-e9a936b8bc72",
    "cell_id": "00056-9c07e634-353b-45fa-83a7-e3ce88cf0b3a",
    "deepnote_cell_type": "code"
   },
   "source": "if __name__ == '__main__':\n    n, m = map(int, input().split())\n    print(get_fibonacci_huge_pissano(n, m))",
   "outputs": [
    {
     "output_type": "stream",
     "text": "10 4\n3\n",
     "name": "stdout"
    }
   ],
   "execution_count": null
  },
  {
   "cell_type": "markdown",
   "source": "## Sum of Fibonacci numbers \nSum of Fibonacci numbers | Lecture 9 | Fibonacci Numbers and the Golden Ratio https://youtu.be/Cspq_vvScV8",
   "metadata": {
    "id": "9LV_80AxxfeB",
    "cell_id": "00057-841b0fa9-7709-4f10-9dba-a473017bdc7a",
    "deepnote_cell_type": "markdown"
   }
  },
  {
   "cell_type": "markdown",
   "source": "## Sum of Fibonacci numbers squared \nSum of Fibonacci numbers squared | Lecture 10 | Fibonacci Numbers and the Golden Ratio https://youtu.be/ruIwND9ytpE",
   "metadata": {
    "id": "aRzEAe_0zUoQ",
    "cell_id": "00058-a428f6f6-9b28-4a25-a31a-051f16d51dfe",
    "deepnote_cell_type": "markdown"
   }
  },
  {
   "cell_type": "markdown",
   "source": "# Principle of invariance\n\n$$T_{RAM}(n) = \\alpha t_{A}(n) = \\beta t_{B}(n) = \\xi t_{C}(n)$$\n\n$T_{RAM}(n)$ computational steps in RAM\n\n$t_{A}(n)$ running time in $A$\n\n$t_{B}(n)$ running time in $B$\n\n$t_{C}(n)$ running time in $C$\n\n\n$ T_{RAM}(n)$  is the number of computational steps (simple/elementary RAM oprations) of the algorithm for the worst case input of size $n$.\n\n$t_{A}(n), t_{B}$ and $t_{C}$ is the execution time of the algorithm in the corresponding platfrom (processor + memory architecture , operating system, programming language, compiler) for the worst case input of size $n$\n",
   "metadata": {
    "id": "Cc6SWWbrRdMU",
    "cell_id": "00059-fc04d959-73bb-4582-bbfe-20594eb41f69",
    "deepnote_cell_type": "markdown"
   }
  },
  {
   "cell_type": "markdown",
   "source": "<a style='text-decoration:none;line-height:16px;display:flex;color:#5B5B62;padding:10px;justify-content:end;' href='https://deepnote.com?utm_source=created-in-deepnote-cell&projectId=9186dc70-7ffc-473c-9ccc-d3d1c6b1ff46' target=\"_blank\">\n<img alt='Created in deepnote.com' style='display:inline;max-height:16px;margin:0px;margin-right:7.5px;' src='data:image/svg+xml;base64,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' > </img>\nCreated in <span style='font-weight:600;margin-left:4px;'>Deepnote</span></a>",
   "metadata": {
    "tags": [],
    "created_in_deepnote_cell": true,
    "deepnote_cell_type": "markdown"
   }
  }
 ],
 "nbformat": 4,
 "nbformat_minor": 0,
 "metadata": {
  "colab": {
   "name": "fibonacci.ipynb",
   "provenance": [],
   "collapsed_sections": []
  },
  "kernelspec": {
   "name": "python3",
   "display_name": "Python 3"
  },
  "deepnote_notebook_id": "97d0229b-5b45-4c78-aa73-1dab58c89dd2",
  "deepnote": {},
  "deepnote_execution_queue": []
 }
}