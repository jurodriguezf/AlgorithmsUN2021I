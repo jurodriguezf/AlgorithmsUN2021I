{
 "cells": [
  {
   "cell_type": "markdown",
   "source": "",
   "metadata": {
    "tags": [],
    "cell_id": "00001-2586fda7-c000-4753-8b16-12573058ab2a",
    "deepnote_cell_type": "markdown"
   }
  },
  {
   "cell_type": "markdown",
   "source": "# Algorithmic Toolbox Week 2",
   "metadata": {
    "tags": [],
    "cell_id": "00001-9a184d5c-265c-41c6-96b9-08371942ec00",
    "deepnote_cell_type": "markdown"
   }
  },
  {
   "cell_type": "markdown",
   "source": "## 1. Fibonacci Number",
   "metadata": {
    "tags": [],
    "cell_id": "00002-7fa03766-fcbb-42d1-a3a7-65c26a501147",
    "deepnote_cell_type": "markdown"
   }
  },
  {
   "cell_type": "markdown",
   "source": "Sin optimizar:",
   "metadata": {
    "tags": [],
    "cell_id": "00003-ab0efe81-097f-4504-8b25-afef18943a99",
    "deepnote_cell_type": "text-cell-p"
   }
  },
  {
   "cell_type": "code",
   "metadata": {
    "tags": [],
    "cell_id": "00004-0b0c8de2-ebd4-40c8-b231-4b8e48a0c965",
    "deepnote_to_be_reexecuted": false,
    "source_hash": "cb11548a",
    "execution_start": 1626223531463,
    "execution_millis": 10,
    "deepnote_cell_type": "code"
   },
   "source": "# Uses python3\ndef calc_fib(n):\n    \n    if (n <= 1):\n        return n\n    return calc_fib(n - 1) + calc_fib(n - 2)\n\nn = 10\nprint(calc_fib(n))",
   "outputs": [
    {
     "name": "stdout",
     "text": "55\n",
     "output_type": "stream"
    }
   ],
   "execution_count": null
  },
  {
   "cell_type": "markdown",
   "source": "Optimizado:",
   "metadata": {
    "tags": [],
    "cell_id": "00005-c62d7e47-1bc5-48fe-9a37-a9347db98eb5",
    "deepnote_cell_type": "text-cell-p"
   }
  },
  {
   "cell_type": "code",
   "metadata": {
    "tags": [],
    "cell_id": "00006-73aa95fe-4d6b-4472-9fa7-14963a3ba2ca",
    "deepnote_to_be_reexecuted": false,
    "source_hash": "4826614a",
    "execution_start": 1626224055722,
    "execution_millis": 1,
    "deepnote_cell_type": "code"
   },
   "source": "# Uses python3\nimport sys\n\n\ndef calc_fib(n):\n\n    previous = 0\n    current  = 1\n\n    for _ in range(n - 1):\n        previous, current = current, previous + current\n\n        return current\n\ndef fib_to(n):\n    fibs = [0, 1]\n    for i in range(2, n+1):\n        fibs.append(fibs[-1] + fibs[-2])\n    return fibs\n\nif __name__ == '__main__':\n    input = sys.stdin.read()\n    n=input\n    #n = 69\n    #print(calc_fib(n))\n    if n == 0:\n        print(0)\n    elif n == 1:\n        print(1)\n    else:\n        print(fib_to(n)[-1])",
   "outputs": [
    {
     "name": "stdout",
     "text": "117669030460994\n",
     "output_type": "stream"
    }
   ],
   "execution_count": null
  },
  {
   "cell_type": "markdown",
   "source": "## 2. Last Digit Fibonacci Number",
   "metadata": {
    "tags": [],
    "cell_id": "00003-d2c3c6fd-4776-467b-bd1e-0efdc8e11071",
    "deepnote_cell_type": "markdown"
   }
  },
  {
   "cell_type": "markdown",
   "source": "Sin optimizar:",
   "metadata": {
    "tags": [],
    "cell_id": "00007-3d22dae1-0360-42b5-99a0-1dfef07fd21b",
    "deepnote_cell_type": "text-cell-p"
   }
  },
  {
   "cell_type": "code",
   "metadata": {
    "tags": [],
    "cell_id": "00003-db701166-949c-4d3b-a333-6355c3d2382c",
    "deepnote_to_be_reexecuted": false,
    "source_hash": "cf78e713",
    "execution_start": 1626226881033,
    "execution_millis": 20673,
    "deepnote_cell_type": "code"
   },
   "source": "# Uses python3\n\ndef get_fibonacci_last_digit_naive(n):\n    if n <= 1:\n        return n\n\n    previous = 0\n    current  = 1\n\n    for _ in range(n - 1):\n        previous, current = current, previous + current\n\n    return current % 10\n\nif __name__ == '__main__':\n    n = 999999\n    print(get_fibonacci_last_digit_naive(n))",
   "outputs": [
    {
     "name": "stdout",
     "text": "6\n",
     "output_type": "stream"
    }
   ],
   "execution_count": null
  },
  {
   "cell_type": "markdown",
   "source": "Optimizado",
   "metadata": {
    "tags": [],
    "cell_id": "00010-7bb70493-7aef-4ebb-aaae-6c454a476802",
    "deepnote_cell_type": "markdown"
   }
  },
  {
   "cell_type": "code",
   "metadata": {
    "tags": [],
    "cell_id": "00011-a22089c9-8955-47da-abf8-9022b8ccba2c",
    "deepnote_to_be_reexecuted": false,
    "source_hash": "3c6957db",
    "execution_start": 1626226911083,
    "execution_millis": 3,
    "deepnote_cell_type": "code"
   },
   "source": "def get_fibonacci_last_digit_efficient(f, n):\n    f[0] = 0\n    f[1] = 1\n\n    for i in range(2, n+1):\n        f[i] = (f[i-1] + f[i-2]) % 10\n    \n    return f\n\ndef lastDigit(n):\n    f = [0] * 61\n    f = get_fibonacci_last_digit_efficient(f, 60)\n\n    return f[n % 60]\n\nif __name__ == '__main__':\n    #n=int(input())\n    n = 999999\n    print(lastDigit(n))",
   "outputs": [
    {
     "name": "stdout",
     "text": "6\n",
     "output_type": "stream"
    }
   ],
   "execution_count": null
  },
  {
   "cell_type": "markdown",
   "source": "## 3. Greatest common divisor",
   "metadata": {
    "tags": [],
    "cell_id": "00005-8541b6c8-f398-4c90-887c-4fe44aef7d84",
    "deepnote_cell_type": "markdown"
   }
  },
  {
   "cell_type": "markdown",
   "source": "Sin optimizar",
   "metadata": {
    "tags": [],
    "cell_id": "00010-f2f2efa3-f138-4e29-907c-108306a2bfff",
    "deepnote_cell_type": "markdown"
   }
  },
  {
   "cell_type": "code",
   "metadata": {
    "tags": [],
    "cell_id": "00006-f3021102-9ad0-466b-9528-7e5357698364",
    "deepnote_cell_type": "code"
   },
   "source": "# Uses python3\nimport sys\n\ndef gcd_naive(a, b):\n    current_gcd = 1\n    for d in range(2, min(a, b) + 1):\n        if a % d == 0 and b % d == 0:\n            if d > current_gcd:\n                current_gcd = d\n    return current_gcd\n\nif __name__ == \"__main__\":\n    input = sys.stdin.read()\n    a, b = map(int, input.split())\n    print(gcd_naive(a, b))",
   "execution_count": null,
   "outputs": []
  },
  {
   "cell_type": "markdown",
   "source": "Optimizado",
   "metadata": {
    "tags": [],
    "cell_id": "00015-2234a1d7-b2d2-4ccf-bc35-6b9f09cd6e83",
    "deepnote_cell_type": "markdown"
   }
  },
  {
   "cell_type": "code",
   "metadata": {
    "tags": [],
    "cell_id": "00016-9d9742ae-9109-4c1c-94ad-5cf2d4b69d55",
    "deepnote_to_be_reexecuted": false,
    "source_hash": "ba0f10da",
    "execution_start": 1626228239195,
    "execution_millis": 7351,
    "deepnote_cell_type": "code"
   },
   "source": "def computeGCD(a, b): \n    while(b):\n        a, b = b, a % b \n    return a \n\nif __name__ == '__main__':\n    a, b = [int(i) for i in input().split()]\n    print (computeGCD(a,b)) ",
   "outputs": [
    {
     "name": "stdout",
     "text": "2\n",
     "output_type": "stream"
    }
   ],
   "execution_count": 4
  },
  {
   "cell_type": "markdown",
   "source": "## 4. Least common multiple",
   "metadata": {
    "tags": [],
    "cell_id": "00004-2b3c9585-7565-453f-82c1-843fcc1a6e21",
    "deepnote_cell_type": "markdown"
   }
  },
  {
   "cell_type": "markdown",
   "source": "Sin optimizar",
   "metadata": {
    "tags": [],
    "cell_id": "00013-6bd6b9d0-eb05-4c27-a686-d07dc686a4ba",
    "deepnote_cell_type": "markdown"
   }
  },
  {
   "cell_type": "code",
   "metadata": {
    "tags": [],
    "cell_id": "00005-353b773a-1073-41e0-be78-6a3df02dcd56",
    "deepnote_to_be_reexecuted": false,
    "source_hash": "2d86e16",
    "execution_start": 1626221891848,
    "execution_millis": 17,
    "deepnote_cell_type": "code"
   },
   "source": "# Uses python3\nimport sys\n\ndef lcm_naive(a, b):\n    for l in range(1, a*b + 1):\n        if l % a == 0 and l % b == 0:\n            return l\n    return a*b\n\nif __name__ == '__main__':\n    input = sys.stdin.read()\n    a, b = 30, 40\n    print(lcm_naive(a, b))",
   "outputs": [
    {
     "name": "stdout",
     "text": "120\n",
     "output_type": "stream"
    }
   ],
   "execution_count": null
  },
  {
   "cell_type": "markdown",
   "source": "Optimizado",
   "metadata": {
    "tags": [],
    "cell_id": "00020-fb1ce032-0255-4d60-8231-873c1cd8a9ad",
    "deepnote_cell_type": "text-cell-p"
   }
  },
  {
   "cell_type": "code",
   "metadata": {
    "tags": [],
    "cell_id": "00020-db151934-df2d-46ee-b094-eae93995ce30",
    "deepnote_to_be_reexecuted": false,
    "source_hash": "34ce0367",
    "execution_start": 1626226673716,
    "execution_millis": 10,
    "deepnote_cell_type": "code"
   },
   "source": "# Uses python3\nimport sys\n\ndef lcm_naive(a, b):\n    \n    a1=a\n    b1=b\n\n    while( a1 != b1 ):\n        if( b1 > a1 ):\n            a1 += a\n        else:\n            b1 += b\n\n    return b1\nif __name__ == '__main__':\n    input = sys.stdin.read()\n    a, b = 30, 40\n    print(lcm_naive(a, b))",
   "outputs": [
    {
     "name": "stdout",
     "text": "120\n",
     "output_type": "stream"
    }
   ],
   "execution_count": null
  },
  {
   "cell_type": "markdown",
   "source": "## 5. Fibonacci number again",
   "metadata": {
    "tags": [],
    "cell_id": "00006-a2ceab15-125a-4e6c-a369-c3d0f69f92ad",
    "deepnote_cell_type": "markdown"
   }
  },
  {
   "cell_type": "markdown",
   "source": "Sin optimizar",
   "metadata": {
    "tags": [],
    "cell_id": "00016-4ff0a35b-0226-481e-baef-929733a4f2cf",
    "deepnote_cell_type": "markdown"
   }
  },
  {
   "cell_type": "code",
   "metadata": {
    "tags": [],
    "cell_id": "00010-931f2d0c-5592-4f69-86af-e82ef96d12dc",
    "deepnote_to_be_reexecuted": false,
    "source_hash": "c31f4ceb",
    "execution_start": 1626224676770,
    "execution_millis": 174,
    "deepnote_cell_type": "code"
   },
   "source": "# Uses python3\nimport sys\n\ndef get_fibonacci_huge_naive(n, m):\n    if n <= 1:\n        return n\n\n    previous = 0\n    current  = 1\n\n    for _ in range(n - 1):\n        previous, current = current, previous + current\n\n    return current % m\n\nif __name__ == '__main__':\n    input = sys.stdin.read();\n    #n, m = map(int, input.split())\n    n, m = 69420, 4\n    print(get_fibonacci_huge_naive(n, m))",
   "outputs": [
    {
     "name": "stdout",
     "text": "0\n",
     "output_type": "stream"
    }
   ],
   "execution_count": null
  },
  {
   "cell_type": "markdown",
   "source": "Optimizado",
   "metadata": {
    "tags": [],
    "cell_id": "00025-b890b751-8341-4f25-9bec-3e0dea36721c",
    "deepnote_cell_type": "markdown"
   }
  },
  {
   "cell_type": "code",
   "metadata": {
    "tags": [],
    "cell_id": "00027-877c05f2-0e16-4945-b49f-9751c4972198",
    "deepnote_to_be_reexecuted": false,
    "source_hash": "4649d0a0",
    "execution_start": 1626230985669,
    "execution_millis": 22,
    "deepnote_cell_type": "code"
   },
   "source": "def fib_number_again_optimized(n, m):\n    \n    base_cases = {0: 0, 1: 1}\n\n    def fib_m(n):\n        if n in base_cases:\n            return base_cases[n]\n\n        if n % 2 == 0:\n            fib_mid_n = fib_m(n // 2)\n            res = (2 * fib_m(n // 2 - 1) + fib_mid_n) * fib_mid_n\n        else:\n            res = fib_m((n + 1) // 2) ** 2 + fib_m((n - 1) // 2) ** 2\n\n        base_cases[n] = res = res % m\n        return res\n\n    return fib_m(n)\n\nif __name__ == \"__main__\":\n    #n, m = map(int, input().split())\n\n    n=10\n    n=200\n    print(fib_number_again_optimized(n, m))",
   "outputs": [
    {
     "name": "stdout",
     "text": "1\n",
     "output_type": "stream"
    }
   ],
   "execution_count": 19
  },
  {
   "cell_type": "markdown",
   "source": "## 6. Last digit of the sum of fibonacci numbers",
   "metadata": {
    "tags": [],
    "cell_id": "00011-dcf443eb-595f-4359-8412-3d6f4a382c4d",
    "deepnote_cell_type": "markdown"
   }
  },
  {
   "cell_type": "markdown",
   "source": "Sin optimizar",
   "metadata": {
    "tags": [],
    "cell_id": "00019-a644fe12-f98a-447b-8fa9-4a028ff68336",
    "deepnote_cell_type": "markdown"
   }
  },
  {
   "cell_type": "code",
   "metadata": {
    "tags": [],
    "cell_id": "00014-4115f081-0872-4550-bb92-99f5434eac72",
    "deepnote_to_be_reexecuted": false,
    "source_hash": "f380bca0",
    "execution_start": 1626224898597,
    "execution_millis": 288,
    "deepnote_cell_type": "code"
   },
   "source": "# Uses python3\nimport sys\n\ndef fibonacci_sum_naive(n):\n    if n <= 1:\n        return n\n\n    previous = 0\n    current  = 1\n    sum      = 1\n\n    for _ in range(n - 1):\n        previous, current = current, previous + current\n        sum += current\n\n    return sum % 10\n\nif __name__ == '__main__':\n    input = sys.stdin.read()\n    #n = int(input)\n    n = 69696\n    print(fibonacci_sum_naive(n))",
   "outputs": [
    {
     "name": "stdout",
     "text": "8\n",
     "output_type": "stream"
    }
   ],
   "execution_count": null
  },
  {
   "cell_type": "markdown",
   "source": "Optimizado",
   "metadata": {
    "tags": [],
    "cell_id": "00021-68598031-15f2-4a0a-9db4-4b15eaebe1ed",
    "deepnote_cell_type": "markdown"
   }
  },
  {
   "cell_type": "code",
   "metadata": {
    "tags": [],
    "cell_id": "00022-1b5285dc-7b35-4a47-9cb1-09ba69291e71",
    "deepnote_to_be_reexecuted": false,
    "source_hash": "d821eaff",
    "execution_start": 1626224905772,
    "execution_millis": 13,
    "deepnote_cell_type": "code"
   },
   "source": "# Uses python3\nimport sys\n\ndef fibonacci_sum_efficient(n):\n    f0 = 0\n    f1 = 1\n\n    if n == 0:\n        return 0\n    if n == 1:\n        return 1\n    \n    remainder = n % 60\n\n    if remainder == 0:\n        return 0\n\n    for i in range(2, remainder+3):\n        f = (f0 + f1)%60\n        f0 = f1\n        f1 = f\n\n    s = f1 - 1\n    return s%10\n\nif __name__ == '__main__':\n    input = sys.stdin.read()\n    #n = int(input)\n    n = 69696\n    print(fibonacci_sum_efficient(n))",
   "outputs": [
    {
     "name": "stdout",
     "text": "8\n",
     "output_type": "stream"
    }
   ],
   "execution_count": null
  },
  {
   "cell_type": "markdown",
   "source": "## 7. Last digit of the sum of fibonacci numbers again",
   "metadata": {
    "tags": [],
    "cell_id": "00015-8d1e85b0-38cf-40b5-9655-83bc2cfe4f96",
    "deepnote_cell_type": "markdown"
   }
  },
  {
   "cell_type": "markdown",
   "source": "Sin optimizar",
   "metadata": {
    "tags": [],
    "cell_id": "00022-f1f7a17d-8172-4b40-af53-c3235c8da098",
    "deepnote_cell_type": "markdown"
   }
  },
  {
   "cell_type": "code",
   "metadata": {
    "tags": [],
    "cell_id": "00016-1cdeeece-3cd2-408c-960c-fccdcb81c126",
    "deepnote_to_be_reexecuted": false,
    "source_hash": "aa12d23",
    "execution_start": 1626231049366,
    "execution_millis": 5,
    "deepnote_cell_type": "code"
   },
   "source": "# Uses python3\nimport sys\n\ndef fibonacci_partial_sum_naive(from_, to):\n    sum = 0\n\n    current = 0\n    next  = 1\n\n    for i in range(to + 1):\n        if i >= from_:\n            sum += current\n        current, next = next, current + next\n    return sum % 10\n\n\nif __name__ == '__main__':\n    input = sys.stdin.read();\n    from_, to = 10, 200\n    print(fibonacci_partial_sum_naive(from_, to))",
   "outputs": [
    {
     "name": "stdout",
     "text": "2\n",
     "output_type": "stream"
    }
   ],
   "execution_count": 22
  },
  {
   "cell_type": "markdown",
   "source": "Optimizado",
   "metadata": {
    "tags": [],
    "cell_id": "00024-4982bc07-da7f-4955-876b-b6f24187f39d",
    "deepnote_cell_type": "markdown"
   }
  },
  {
   "cell_type": "code",
   "metadata": {
    "tags": [],
    "cell_id": "00037-74307f6c-1307-4d76-b267-b8dce7524c21",
    "deepnote_to_be_reexecuted": false,
    "source_hash": "91d8b0a9",
    "execution_start": 1626231016068,
    "execution_millis": 15,
    "deepnote_cell_type": "code"
   },
   "source": "def fibonacci_partial_sum_naive(m, n):\n    if n<=1:\n        print(n)  \n        quit()\n\n    lesser_n = (n+2)%60\n    lesser_m = (m+1)%60\n\n\n    def fibo(n):\n        a,b = 0, 1\n        for i in range(2,n+1):\n            c = a+b\n            c = c%10\n            b, a = c, b\n        return c-1\n    if lesser_n<=1:\n        a = lesser_n-1\n    else:\n        a = fibo(lesser_n)\n    if lesser_m<=1:\n        b = lesser_m-1\n    else:\n        b = fibo(lesser_m)\n    # print(a)\n    # print(b)\n    if a>=b:\n        print(a-b)\n    else:\n        print(10+a-b)\n\nif __name__ == '__main__':\n    #m,n = [int(i) for i in input().split()]\n    m = 10;\n    n = 200;\n    fibonacci_partial_sum_naive(m, n)",
   "outputs": [
    {
     "name": "stdout",
     "text": "2\n",
     "output_type": "stream"
    }
   ],
   "execution_count": 21
  },
  {
   "cell_type": "markdown",
   "source": "## 8. Last digit of the sum of squares of fibonacci numbers",
   "metadata": {
    "tags": [],
    "cell_id": "00018-4134fb0f-a9d0-4526-b360-59dc290d7295",
    "deepnote_cell_type": "markdown"
   }
  },
  {
   "cell_type": "markdown",
   "source": "Sin optimizar",
   "metadata": {
    "tags": [],
    "cell_id": "00025-a331ab24-aabf-4db3-9c9e-a0e40c461b3e",
    "deepnote_cell_type": "markdown"
   }
  },
  {
   "cell_type": "code",
   "metadata": {
    "tags": [],
    "cell_id": "00020-d4a22dc2-9a36-4274-afb6-4b1d0ee89563",
    "deepnote_to_be_reexecuted": false,
    "source_hash": "5d6f6a22",
    "execution_start": 1626226751391,
    "execution_millis": 25,
    "deepnote_cell_type": "code"
   },
   "source": "# Uses python3\nfrom sys import stdin\n\ndef fibonacci_sum_squares_naive(n):\n    if n <= 1:\n        return n\n\n    previous = 0\n    current  = 1\n    sum      = 1\n\n    for _ in range(n - 1):\n        previous, current = current, previous + current\n        sum += current * current\n\n    return sum % 10\n\nif __name__ == '__main__':\n    #n = int(stdin.read())\n    n = 70\n    print(fibonacci_sum_squares_naive(n))",
   "outputs": [
    {
     "name": "stdout",
     "text": "5\n",
     "output_type": "stream"
    }
   ],
   "execution_count": null
  },
  {
   "cell_type": "markdown",
   "source": "Optimizado",
   "metadata": {
    "tags": [],
    "cell_id": "00027-da216db5-f78f-4108-ab0a-60bb1472c560",
    "deepnote_cell_type": "markdown"
   }
  },
  {
   "cell_type": "code",
   "metadata": {
    "tags": [],
    "cell_id": "00041-55f48af1-79e0-4112-9435-c0048a0f238c",
    "deepnote_to_be_reexecuted": false,
    "source_hash": "6f6c53bc",
    "execution_start": 1626228612424,
    "execution_millis": 15935,
    "deepnote_cell_type": "code"
   },
   "source": "n = int(input())\n#n= 70\nlesser_n = n%60\nlesser_nplus = (n+1)%60\n\ndef fibo(n):\n    a, b = 0, 1\n    for _ in range(2, n+1):\n        c = a+b\n        c = c% 10\n        b, a = c, b\n    return c\n\nif lesser_n<=1:\n    a = lesser_n\nelse:\n    a = fibo(lesser_n)\nif lesser_nplus<=1:\n    b = lesser_nplus\nelse:\n    b = fibo(lesser_nplus)\n \nprint((a*b)%10)",
   "outputs": [
    {
     "name": "stdout",
     "text": "0\n",
     "output_type": "stream"
    }
   ],
   "execution_count": 6
  },
  {
   "cell_type": "markdown",
   "source": "<a style='text-decoration:none;line-height:16px;display:flex;color:#5B5B62;padding:10px;justify-content:end;' href='https://deepnote.com?utm_source=created-in-deepnote-cell&projectId=c7c4efc1-93a5-4c47-bd54-d7f131f6c6cf' target=\"_blank\">\n<img alt='Created in deepnote.com' style='display:inline;max-height:16px;margin:0px;margin-right:7.5px;' src='data:image/svg+xml;base64,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' > </img>\nCreated in <span style='font-weight:600;margin-left:4px;'>Deepnote</span></a>",
   "metadata": {
    "tags": [],
    "created_in_deepnote_cell": true,
    "deepnote_cell_type": "markdown"
   }
  }
 ],
 "nbformat": 4,
 "nbformat_minor": 2,
 "metadata": {
  "orig_nbformat": 2,
  "deepnote": {
   "is_reactive": false
  },
  "deepnote_notebook_id": "17763e72-d359-4916-971a-9af3bd4d1d99",
  "deepnote_execution_queue": []
 }
}